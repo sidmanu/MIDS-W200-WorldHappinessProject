{
 "cells": [
  {
   "cell_type": "markdown",
   "id": "d1daecd0-2b7e-4ba5-a47e-74e7b40a203a",
   "metadata": {},
   "source": [
    "## SF County Census Data \n"
   ]
  },
  {
   "cell_type": "code",
   "execution_count": 23,
   "id": "3052282a-3fd6-4491-a30d-a1a9dceae691",
   "metadata": {},
   "outputs": [],
   "source": [
    "import pandas as pd\n",
    "import numpy as np\n",
    "import glob\n",
    "import os\n",
    "\n",
    "\n",
    "raw_files_path = \"../data/raw/census/sf_county_median_income/\"\n",
    "all_csvs = glob.glob(os.path.join(raw_files_path, \"*.csv\"))\n",
    "\n",
    "dfs = list()\n",
    "\n",
    "for csv in all_csvs:\n",
    "    df = pd.read_csv(csv)\n",
    "    df['file'] = os.path.basename(csv)\n",
    "    \n",
    "    dfs.append(df)\n",
    "\n",
    "df = pd.concat(dfs)"
   ]
  },
  {
   "cell_type": "code",
   "execution_count": 26,
   "id": "f18d08b0-944f-4086-80db-41ec33d1c939",
   "metadata": {},
   "outputs": [
    {
     "data": {
      "text/plain": [
       "0                 ACSST5Y2013.S1903-Data.csv\n",
       "1                 ACSST5Y2013.S1903-Data.csv\n",
       "2                 ACSST5Y2013.S1903-Data.csv\n",
       "3                 ACSST5Y2013.S1903-Data.csv\n",
       "4                 ACSST5Y2013.S1903-Data.csv\n",
       "                       ...                  \n",
       "117    ACSST5Y2011.S1903-Column-Metadata.csv\n",
       "118    ACSST5Y2011.S1903-Column-Metadata.csv\n",
       "119    ACSST5Y2011.S1903-Column-Metadata.csv\n",
       "120    ACSST5Y2011.S1903-Column-Metadata.csv\n",
       "121    ACSST5Y2011.S1903-Column-Metadata.csv\n",
       "Name: file, Length: 2271, dtype: object"
      ]
     },
     "execution_count": 26,
     "metadata": {},
     "output_type": "execute_result"
    }
   ],
   "source": [
    "df.file"
   ]
  },
  {
   "cell_type": "code",
   "execution_count": 27,
   "id": "2283e3ff-9159-4785-a5d3-8ee3ce518531",
   "metadata": {},
   "outputs": [
    {
     "data": {
      "text/plain": [
       "(2271, 247)"
      ]
     },
     "execution_count": 27,
     "metadata": {},
     "output_type": "execute_result"
    }
   ],
   "source": [
    "df.shape"
   ]
  },
  {
   "cell_type": "code",
   "execution_count": 28,
   "id": "081baba8-e9f5-4005-a944-0375481cbe31",
   "metadata": {},
   "outputs": [
    {
     "data": {
      "text/plain": [
       "Index(['GEO_ID', 'NAME', 'S1903_C01_001E', 'S1903_C01_001M', 'S1903_C02_001E',\n",
       "       'S1903_C02_001M', 'S1903_C01_002E', 'S1903_C01_002M', 'S1903_C02_002E',\n",
       "       'S1903_C02_002M',\n",
       "       ...\n",
       "       'S1903_C03_038M', 'S1903_C02_039E', 'S1903_C02_039M', 'S1903_C03_039E',\n",
       "       'S1903_C03_039M', 'S1903_C02_040E', 'S1903_C02_040M', 'S1903_C03_040E',\n",
       "       'S1903_C03_040M', 'Unnamed: 242'],\n",
       "      dtype='object', length=247)"
      ]
     },
     "execution_count": 28,
     "metadata": {},
     "output_type": "execute_result"
    }
   ],
   "source": [
    "df.columns"
   ]
  },
  {
   "cell_type": "code",
   "execution_count": null,
   "id": "b6c94f92-b653-4cfd-8820-e88a260ca7c8",
   "metadata": {},
   "outputs": [],
   "source": []
  }
 ],
 "metadata": {
  "kernelspec": {
   "display_name": "Python 3 (ipykernel)",
   "language": "python",
   "name": "python3"
  },
  "language_info": {
   "codemirror_mode": {
    "name": "ipython",
    "version": 3
   },
   "file_extension": ".py",
   "mimetype": "text/x-python",
   "name": "python",
   "nbconvert_exporter": "python",
   "pygments_lexer": "ipython3",
   "version": "3.10.9"
  }
 },
 "nbformat": 4,
 "nbformat_minor": 5
}
