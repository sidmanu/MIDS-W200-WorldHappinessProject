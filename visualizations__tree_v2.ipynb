{
 "cells": [
  {
   "cell_type": "markdown",
   "id": "aac9323f",
   "metadata": {},
   "source": [
    "# WHR - Treemaps"
   ]
  },
  {
   "cell_type": "code",
   "execution_count": 57,
   "id": "6e59b25c",
   "metadata": {},
   "outputs": [],
   "source": [
    "import matplotlib.pyplot as plt\n",
    "import numpy as np\n",
    "import pandas as pd\n",
    "import plotly.express as px\n",
    "import squarify\n",
    "import seaborn as sns\n",
    "\n",
    "from bokeh.models import ColumnDataSource, LinearColorMapper\n",
    "from bokeh.transform import transform\n",
    "from bokeh.palettes import viridis"
   ]
  },
  {
   "cell_type": "markdown",
   "id": "e88c7f0c",
   "metadata": {},
   "source": [
    "## Data Prep"
   ]
  },
  {
   "cell_type": "code",
   "execution_count": 58,
   "id": "ceb8c27f",
   "metadata": {},
   "outputs": [
    {
     "data": {
      "text/html": [
       "<div>\n",
       "<style scoped>\n",
       "    .dataframe tbody tr th:only-of-type {\n",
       "        vertical-align: middle;\n",
       "    }\n",
       "\n",
       "    .dataframe tbody tr th {\n",
       "        vertical-align: top;\n",
       "    }\n",
       "\n",
       "    .dataframe thead th {\n",
       "        text-align: right;\n",
       "    }\n",
       "</style>\n",
       "<table border=\"1\" class=\"dataframe\">\n",
       "  <thead>\n",
       "    <tr style=\"text-align: right;\">\n",
       "      <th></th>\n",
       "      <th>year</th>\n",
       "      <th>continent</th>\n",
       "      <th>region2</th>\n",
       "      <th>alpha2</th>\n",
       "      <th>Country Code</th>\n",
       "      <th>country</th>\n",
       "      <th>pop</th>\n",
       "      <th>Log GDP per capita</th>\n",
       "      <th>Life Ladder</th>\n",
       "      <th>world</th>\n",
       "    </tr>\n",
       "  </thead>\n",
       "  <tbody>\n",
       "    <tr>\n",
       "      <th>96</th>\n",
       "      <td>2005</td>\n",
       "      <td>Oceania</td>\n",
       "      <td>Australia and New Zealand</td>\n",
       "      <td>AU</td>\n",
       "      <td>AUS</td>\n",
       "      <td>Australia</td>\n",
       "      <td>20176844.0</td>\n",
       "      <td>10.662058</td>\n",
       "      <td>7.340688</td>\n",
       "      <td>world</td>\n",
       "    </tr>\n",
       "    <tr>\n",
       "      <th>97</th>\n",
       "      <td>2007</td>\n",
       "      <td>Oceania</td>\n",
       "      <td>Australia and New Zealand</td>\n",
       "      <td>AU</td>\n",
       "      <td>AUS</td>\n",
       "      <td>Australia</td>\n",
       "      <td>20827622.0</td>\n",
       "      <td>10.694434</td>\n",
       "      <td>7.285391</td>\n",
       "      <td>world</td>\n",
       "    </tr>\n",
       "    <tr>\n",
       "      <th>98</th>\n",
       "      <td>2008</td>\n",
       "      <td>Oceania</td>\n",
       "      <td>Australia and New Zealand</td>\n",
       "      <td>AU</td>\n",
       "      <td>AUS</td>\n",
       "      <td>Australia</td>\n",
       "      <td>21249199.0</td>\n",
       "      <td>10.709456</td>\n",
       "      <td>7.253757</td>\n",
       "      <td>world</td>\n",
       "    </tr>\n",
       "    <tr>\n",
       "      <th>99</th>\n",
       "      <td>2010</td>\n",
       "      <td>Oceania</td>\n",
       "      <td>Australia and New Zealand</td>\n",
       "      <td>AU</td>\n",
       "      <td>AUS</td>\n",
       "      <td>Australia</td>\n",
       "      <td>22031750.0</td>\n",
       "      <td>10.713649</td>\n",
       "      <td>7.450047</td>\n",
       "      <td>world</td>\n",
       "    </tr>\n",
       "    <tr>\n",
       "      <th>100</th>\n",
       "      <td>2011</td>\n",
       "      <td>Oceania</td>\n",
       "      <td>Australia and New Zealand</td>\n",
       "      <td>AU</td>\n",
       "      <td>AUS</td>\n",
       "      <td>Australia</td>\n",
       "      <td>22340024.0</td>\n",
       "      <td>10.723386</td>\n",
       "      <td>7.405616</td>\n",
       "      <td>world</td>\n",
       "    </tr>\n",
       "    <tr>\n",
       "      <th>...</th>\n",
       "      <td>...</td>\n",
       "      <td>...</td>\n",
       "      <td>...</td>\n",
       "      <td>...</td>\n",
       "      <td>...</td>\n",
       "      <td>...</td>\n",
       "      <td>...</td>\n",
       "      <td>...</td>\n",
       "      <td>...</td>\n",
       "      <td>...</td>\n",
       "    </tr>\n",
       "    <tr>\n",
       "      <th>627</th>\n",
       "      <td>2018</td>\n",
       "      <td>Europe</td>\n",
       "      <td>Western Europe</td>\n",
       "      <td>GB</td>\n",
       "      <td>GBR</td>\n",
       "      <td>United Kingdom</td>\n",
       "      <td>66460344.0</td>\n",
       "      <td>10.755306</td>\n",
       "      <td>7.233445</td>\n",
       "      <td>world</td>\n",
       "    </tr>\n",
       "    <tr>\n",
       "      <th>628</th>\n",
       "      <td>2019</td>\n",
       "      <td>Europe</td>\n",
       "      <td>Western Europe</td>\n",
       "      <td>GB</td>\n",
       "      <td>GBR</td>\n",
       "      <td>United Kingdom</td>\n",
       "      <td>66836327.0</td>\n",
       "      <td>10.765581</td>\n",
       "      <td>7.157151</td>\n",
       "      <td>world</td>\n",
       "    </tr>\n",
       "    <tr>\n",
       "      <th>629</th>\n",
       "      <td>2020</td>\n",
       "      <td>Europe</td>\n",
       "      <td>Western Europe</td>\n",
       "      <td>GB</td>\n",
       "      <td>GBR</td>\n",
       "      <td>United Kingdom</td>\n",
       "      <td>67081234.0</td>\n",
       "      <td>10.645046</td>\n",
       "      <td>6.798177</td>\n",
       "      <td>world</td>\n",
       "    </tr>\n",
       "    <tr>\n",
       "      <th>630</th>\n",
       "      <td>2021</td>\n",
       "      <td>Europe</td>\n",
       "      <td>Western Europe</td>\n",
       "      <td>GB</td>\n",
       "      <td>GBR</td>\n",
       "      <td>United Kingdom</td>\n",
       "      <td>67026300.0</td>\n",
       "      <td>10.713944</td>\n",
       "      <td>6.866962</td>\n",
       "      <td>world</td>\n",
       "    </tr>\n",
       "    <tr>\n",
       "      <th>631</th>\n",
       "      <td>2022</td>\n",
       "      <td>Europe</td>\n",
       "      <td>Western Europe</td>\n",
       "      <td>GB</td>\n",
       "      <td>GBR</td>\n",
       "      <td>United Kingdom</td>\n",
       "      <td>66971411.0</td>\n",
       "      <td>10.753742</td>\n",
       "      <td>6.721780</td>\n",
       "      <td>world</td>\n",
       "    </tr>\n",
       "  </tbody>\n",
       "</table>\n",
       "<p>1949 rows × 10 columns</p>\n",
       "</div>"
      ],
      "text/plain": [
       "     year continent                    region2 alpha2 Country Code  \\\n",
       "96   2005   Oceania  Australia and New Zealand     AU          AUS   \n",
       "97   2007   Oceania  Australia and New Zealand     AU          AUS   \n",
       "98   2008   Oceania  Australia and New Zealand     AU          AUS   \n",
       "99   2010   Oceania  Australia and New Zealand     AU          AUS   \n",
       "100  2011   Oceania  Australia and New Zealand     AU          AUS   \n",
       "..    ...       ...                        ...    ...          ...   \n",
       "627  2018    Europe             Western Europe     GB          GBR   \n",
       "628  2019    Europe             Western Europe     GB          GBR   \n",
       "629  2020    Europe             Western Europe     GB          GBR   \n",
       "630  2021    Europe             Western Europe     GB          GBR   \n",
       "631  2022    Europe             Western Europe     GB          GBR   \n",
       "\n",
       "            country         pop  Log GDP per capita  Life Ladder  world  \n",
       "96        Australia  20176844.0           10.662058     7.340688  world  \n",
       "97        Australia  20827622.0           10.694434     7.285391  world  \n",
       "98        Australia  21249199.0           10.709456     7.253757  world  \n",
       "99        Australia  22031750.0           10.713649     7.450047  world  \n",
       "100       Australia  22340024.0           10.723386     7.405616  world  \n",
       "..              ...         ...                 ...          ...    ...  \n",
       "627  United Kingdom  66460344.0           10.755306     7.233445  world  \n",
       "628  United Kingdom  66836327.0           10.765581     7.157151  world  \n",
       "629  United Kingdom  67081234.0           10.645046     6.798177  world  \n",
       "630  United Kingdom  67026300.0           10.713944     6.866962  world  \n",
       "631  United Kingdom  66971411.0           10.753742     6.721780  world  \n",
       "\n",
       "[1949 rows x 10 columns]"
      ]
     },
     "execution_count": 58,
     "metadata": {},
     "output_type": "execute_result"
    }
   ],
   "source": [
    "wdf = pd.read_csv(\"./data/processed/WHR_LL_Region_20052022.csv\", index_col=0)\n",
    "\n",
    "wdf = wdf.rename(columns={\n",
    "    \"shortname\": \"country\",\n",
    "    \"region\": \"continent\",\n",
    "    \"Year\": \"year\",\n",
    "    \"Population\": \"pop\"\n",
    "})\n",
    "\n",
    "wdf[\"world\"] = \"world\"\n",
    "\n",
    "wdf"
   ]
  },
  {
   "cell_type": "markdown",
   "id": "5ee4fa2a",
   "metadata": {},
   "source": [
    "## Plotting"
   ]
  },
  {
   "cell_type": "code",
   "execution_count": 59,
   "id": "9e70606c",
   "metadata": {},
   "outputs": [],
   "source": [
    "def gen_treeplot(df, year):\n",
    "    df = df[df[\"year\"] == year]\n",
    "    fig = px.treemap(df, title=year,\n",
    "                          path=['world', 'continent', 'country'], values='pop',\n",
    "                          color='Life Ladder', hover_data=['country'], width=700,\n",
    "                          color_continuous_scale='viridis', range_color=[3, 8],\n",
    "                          color_continuous_midpoint=np.average(df['Life Ladder'], weights=df['pop']))\n",
    "    fig.show()"
   ]
  },
  {
   "cell_type": "code",
   "execution_count": 60,
   "id": "fdefa02b",
   "metadata": {},
   "outputs": [
    {
     "data": {
      "application/vnd.plotly.v1+json": {
       "config": {
        "plotlyServerURL": "https://plot.ly"
       },
       "data": [
        {
         "branchvalues": "total",
         "customdata": [
          [
           "Afghanistan",
           2.694303274154663
          ],
          [
           "Albania",
           5.0044026374816895
          ],
          [
           "Algeria",
           5.043086051940918
          ],
          [
           "Argentina",
           5.792796611785889
          ],
          [
           "Armenia",
           5.062448501586914
          ],
          [
           "Australia",
           7.176993370056152
          ],
          [
           "Austria",
           7.396001815795898
          ],
          [
           "Azerbaijan",
           5.167995452880859
          ],
          [
           "Bangladesh",
           4.499217033386231
          ],
          [
           "Belarus",
           5.23376989364624
          ],
          [
           "Belgium",
           6.892171859741211
          ],
          [
           "Benin",
           5.819827079772949
          ],
          [
           "Bolivia",
           5.91573429107666
          ],
          [
           "Bosnia and Herzegovina",
           5.887401103973389
          ],
          [
           "Botswana",
           3.4613656997680664
          ],
          [
           "Brazil",
           6.190921783447266
          ],
          [
           "Bulgaria",
           5.098813533782959
          ],
          [
           "Burkina Faso",
           4.927236080169678
          ],
          [
           "Burundi",
           3.775283098220825
          ],
          [
           "Cambodia",
           5.121837615966797
          ],
          [
           "Cameroon",
           5.25073766708374
          ],
          [
           "Canada",
           7.175496578216553
          ],
          [
           "Chad",
           4.486325263977051
          ],
          [
           "Chile",
           6.436220645904541
          ],
          [
           "China",
           5.131433963775635
          ],
          [
           "Colombia",
           5.9835124015808105
          ],
          [
           "Comoros",
           3.972819566726685
          ],
          [
           "Costa Rica",
           7.1410746574401855
          ],
          [
           "Croatia",
           5.536271095275879
          ],
          [
           "Cyprus",
           6.276443004608154
          ],
          [
           "Czech Republic",
           7.034165382385254
          ],
          [
           "Denmark",
           7.648785591125488
          ],
          [
           "Dominican Republic",
           5.433215618133545
          ],
          [
           "Ecuador",
           6.128010272979736
          ],
          [
           "El Salvador",
           6.241199493408203
          ],
          [
           "Estonia",
           6.091302394866943
          ],
          [
           "Ethiopia",
           4.379262447357178
          ],
          [
           "Finland",
           7.858107089996338
          ],
          [
           "France",
           6.665903568267822
          ],
          [
           "Gabon",
           4.783009052276611
          ],
          [
           "Georgia",
           4.659097194671631
          ],
          [
           "Germany",
           7.118364334106445
          ],
          [
           "Ghana",
           5.003693103790283
          ],
          [
           "Greece",
           5.409289360046387
          ],
          [
           "Guatemala",
           6.626591682434082
          ],
          [
           "Guinea",
           5.252226829528809
          ],
          [
           "Haiti",
           3.6149280071258554
          ],
          [
           "Honduras",
           5.908423900604248
          ],
          [
           "Hungary",
           5.935770988464356
          ],
          [
           "India",
           3.8180687427520748
          ],
          [
           "Indonesia",
           5.340295791625977
          ],
          [
           "Iraq",
           4.886400699615479
          ],
          [
           "Ireland",
           6.962335586547852
          ],
          [
           "Israel",
           6.927178859710693
          ],
          [
           "Italy",
           6.516526699066162
          ],
          [
           "Japan",
           5.793575286865234
          ],
          [
           "Jordan",
           4.6389336585998535
          ],
          [
           "Kazakhstan",
           6.007636070251465
          ],
          [
           "Kenya",
           4.655702590942383
          ],
          [
           "Latvia",
           5.901154041290283
          ],
          [
           "Lebanon",
           5.167186737060547
          ],
          [
           "Liberia",
           4.134852886199951
          ],
          [
           "Libya",
           5.493977546691895
          ],
          [
           "Lithuania",
           6.3088788986206055
          ],
          [
           "Luxembourg",
           7.242630958557129
          ],
          [
           "Madagascar",
           4.070586681365967
          ],
          [
           "Malawi",
           3.3346335887908936
          ],
          [
           "Malaysia",
           5.338817596435547
          ],
          [
           "Maldives",
           5.197574615478516
          ],
          [
           "Mali",
           4.415729522705078
          ],
          [
           "Malta",
           6.909710884094238
          ],
          [
           "Mauritania",
           4.313615322113037
          ],
          [
           "Mauritius",
           5.881740570068359
          ],
          [
           "Mexico",
           6.549578666687012
          ],
          [
           "Moldova",
           5.682277202606201
          ],
          [
           "Mongolia",
           5.464622974395752
          ],
          [
           "Montenegro",
           5.6501898765563965
          ],
          [
           "Morocco",
           4.896791934967041
          ],
          [
           "Mozambique",
           4.653713703155518
          ],
          [
           "Myanmar",
           4.410633087158203
          ],
          [
           "Namibia",
           6.391825675964356
          ],
          [
           "Nepal",
           4.910086631774902
          ],
          [
           "Netherlands",
           7.463097095489502
          ],
          [
           "New Zealand",
           7.370285987854004
          ],
          [
           "Nicaragua",
           5.818952560424805
          ],
          [
           "Niger",
           5.164007186889648
          ],
          [
           "Nigeria",
           5.252288341522217
          ],
          [
           "North Macedonia",
           5.239834785461426
          ],
          [
           "Norway",
           7.4442620277404785
          ],
          [
           "Pakistan",
           5.471553802490234
          ],
          [
           "Panama",
           6.281434059143066
          ],
          [
           "Peru",
           5.679661273956299
          ],
          [
           "Philippines",
           5.8691725730896
          ],
          [
           "Poland",
           6.111485004425049
          ],
          [
           "Portugal",
           5.919822692871094
          ],
          [
           "Romania",
           6.15087890625
          ],
          [
           "Rwanda",
           3.561046600341797
          ],
          [
           "Saudi Arabia",
           6.356393337249756
          ],
          [
           "Senegal",
           4.7693772315979
          ],
          [
           "Serbia",
           5.936493396759033
          ],
          [
           "Sierra Leone",
           4.305683135986328
          ],
          [
           "Singapore",
           6.374564170837402
          ],
          [
           "Slovenia",
           6.249419212341309
          ],
          [
           "South Africa",
           4.883922100067139
          ],
          [
           "Spain",
           6.513370990753174
          ],
          [
           "Sri Lanka",
           4.435023784637451
          ],
          [
           "Swaziland",
           4.211565017700195
          ],
          [
           "Sweden",
           7.374792098999023
          ],
          [
           "Switzerland",
           7.508586883544922
          ],
          [
           "Tajikistan",
           5.497468948364258
          ],
          [
           "Tanzania",
           3.44502329826355
          ],
          [
           "Thailand",
           6.011561870574951
          ],
          [
           "Togo",
           4.022894859313965
          ],
          [
           "Tunisia",
           4.7411322593688965
          ],
          [
           "Turkey",
           5.185689449310303
          ],
          [
           "Turkmenistan",
           4.620601654052734
          ],
          [
           "USA",
           6.882684707641602
          ],
          [
           "Uganda",
           4.321714878082275
          ],
          [
           "Ukraine",
           4.661909103393555
          ],
          [
           "United Arab Emirates",
           6.603743553161621
          ],
          [
           "United Kingdom",
           7.233445167541504
          ],
          [
           "Uruguay",
           6.3717145919799805
          ],
          [
           "Uzbekistan",
           6.205460071563721
          ],
          [
           "Zambia",
           4.041488170623779
          ],
          [
           "Zimbabwe",
           3.6164798736572266
          ],
          [
           "(?)",
           4.6608937732611055
          ],
          [
           "(?)",
           6.439102755927717
          ],
          [
           "(?)",
           4.758668407739569
          ],
          [
           "(?)",
           6.703137845931731
          ],
          [
           "(?)",
           7.2087087112672625
          ],
          [
           "(?)",
           5.148078767657246
          ]
         ],
         "domain": {
          "x": [
           0,
           1
          ],
          "y": [
           0,
           1
          ]
         },
         "hovertemplate": "labels=%{label}<br>pop=%{value}<br>parent=%{parent}<br>id=%{id}<br>country=%{customdata[0]}<br>Life Ladder=%{color}<extra></extra>",
         "ids": [
          "world/Asia/Afghanistan",
          "world/Europe/Albania",
          "world/Africa/Algeria",
          "world/Americas/Argentina",
          "world/Asia/Armenia",
          "world/Oceania/Australia",
          "world/Europe/Austria",
          "world/Asia/Azerbaijan",
          "world/Asia/Bangladesh",
          "world/Asia/Belarus",
          "world/Europe/Belgium",
          "world/Africa/Benin",
          "world/Americas/Bolivia",
          "world/Europe/Bosnia and Herzegovina",
          "world/Africa/Botswana",
          "world/Americas/Brazil",
          "world/Europe/Bulgaria",
          "world/Africa/Burkina Faso",
          "world/Africa/Burundi",
          "world/Asia/Cambodia",
          "world/Africa/Cameroon",
          "world/Americas/Canada",
          "world/Africa/Chad",
          "world/Americas/Chile",
          "world/Asia/China",
          "world/Americas/Colombia",
          "world/Africa/Comoros",
          "world/Americas/Costa Rica",
          "world/Europe/Croatia",
          "world/Europe/Cyprus",
          "world/Europe/Czech Republic",
          "world/Europe/Denmark",
          "world/Americas/Dominican Republic",
          "world/Americas/Ecuador",
          "world/Americas/El Salvador",
          "world/Europe/Estonia",
          "world/Africa/Ethiopia",
          "world/Europe/Finland",
          "world/Europe/France",
          "world/Africa/Gabon",
          "world/Asia/Georgia",
          "world/Europe/Germany",
          "world/Africa/Ghana",
          "world/Europe/Greece",
          "world/Americas/Guatemala",
          "world/Africa/Guinea",
          "world/Americas/Haiti",
          "world/Americas/Honduras",
          "world/Europe/Hungary",
          "world/Asia/India",
          "world/Asia/Indonesia",
          "world/Asia/Iraq",
          "world/Europe/Ireland",
          "world/Asia/Israel",
          "world/Europe/Italy",
          "world/Asia/Japan",
          "world/Asia/Jordan",
          "world/Asia/Kazakhstan",
          "world/Africa/Kenya",
          "world/Europe/Latvia",
          "world/Asia/Lebanon",
          "world/Africa/Liberia",
          "world/Africa/Libya",
          "world/Europe/Lithuania",
          "world/Europe/Luxembourg",
          "world/Africa/Madagascar",
          "world/Africa/Malawi",
          "world/Asia/Malaysia",
          "world/Asia/Maldives",
          "world/Africa/Mali",
          "world/Europe/Malta",
          "world/Africa/Mauritania",
          "world/Africa/Mauritius",
          "world/Americas/Mexico",
          "world/Europe/Moldova",
          "world/Asia/Mongolia",
          "world/Europe/Montenegro",
          "world/Africa/Morocco",
          "world/Africa/Mozambique",
          "world/Asia/Myanmar",
          "world/Africa/Namibia",
          "world/Asia/Nepal",
          "world/Europe/Netherlands",
          "world/Oceania/New Zealand",
          "world/Americas/Nicaragua",
          "world/Africa/Niger",
          "world/Africa/Nigeria",
          "world/Europe/North Macedonia",
          "world/Europe/Norway",
          "world/Asia/Pakistan",
          "world/Americas/Panama",
          "world/Americas/Peru",
          "world/Asia/Philippines",
          "world/Europe/Poland",
          "world/Europe/Portugal",
          "world/Europe/Romania",
          "world/Africa/Rwanda",
          "world/Asia/Saudi Arabia",
          "world/Africa/Senegal",
          "world/Europe/Serbia",
          "world/Africa/Sierra Leone",
          "world/Asia/Singapore",
          "world/Europe/Slovenia",
          "world/Africa/South Africa",
          "world/Europe/Spain",
          "world/Asia/Sri Lanka",
          "world/Africa/Swaziland",
          "world/Europe/Sweden",
          "world/Europe/Switzerland",
          "world/Asia/Tajikistan",
          "world/Africa/Tanzania",
          "world/Asia/Thailand",
          "world/Africa/Togo",
          "world/Africa/Tunisia",
          "world/Asia/Turkey",
          "world/Asia/Turkmenistan",
          "world/Americas/USA",
          "world/Africa/Uganda",
          "world/Asia/Ukraine",
          "world/Asia/United Arab Emirates",
          "world/Europe/United Kingdom",
          "world/Americas/Uruguay",
          "world/Asia/Uzbekistan",
          "world/Africa/Zambia",
          "world/Africa/Zimbabwe",
          "world/Africa",
          "world/Americas",
          "world/Asia",
          "world/Europe",
          "world/Oceania",
          "world"
         ],
         "labels": [
          "Afghanistan",
          "Albania",
          "Algeria",
          "Argentina",
          "Armenia",
          "Australia",
          "Austria",
          "Azerbaijan",
          "Bangladesh",
          "Belarus",
          "Belgium",
          "Benin",
          "Bolivia",
          "Bosnia and Herzegovina",
          "Botswana",
          "Brazil",
          "Bulgaria",
          "Burkina Faso",
          "Burundi",
          "Cambodia",
          "Cameroon",
          "Canada",
          "Chad",
          "Chile",
          "China",
          "Colombia",
          "Comoros",
          "Costa Rica",
          "Croatia",
          "Cyprus",
          "Czech Republic",
          "Denmark",
          "Dominican Republic",
          "Ecuador",
          "El Salvador",
          "Estonia",
          "Ethiopia",
          "Finland",
          "France",
          "Gabon",
          "Georgia",
          "Germany",
          "Ghana",
          "Greece",
          "Guatemala",
          "Guinea",
          "Haiti",
          "Honduras",
          "Hungary",
          "India",
          "Indonesia",
          "Iraq",
          "Ireland",
          "Israel",
          "Italy",
          "Japan",
          "Jordan",
          "Kazakhstan",
          "Kenya",
          "Latvia",
          "Lebanon",
          "Liberia",
          "Libya",
          "Lithuania",
          "Luxembourg",
          "Madagascar",
          "Malawi",
          "Malaysia",
          "Maldives",
          "Mali",
          "Malta",
          "Mauritania",
          "Mauritius",
          "Mexico",
          "Moldova",
          "Mongolia",
          "Montenegro",
          "Morocco",
          "Mozambique",
          "Myanmar",
          "Namibia",
          "Nepal",
          "Netherlands",
          "New Zealand",
          "Nicaragua",
          "Niger",
          "Nigeria",
          "North Macedonia",
          "Norway",
          "Pakistan",
          "Panama",
          "Peru",
          "Philippines",
          "Poland",
          "Portugal",
          "Romania",
          "Rwanda",
          "Saudi Arabia",
          "Senegal",
          "Serbia",
          "Sierra Leone",
          "Singapore",
          "Slovenia",
          "South Africa",
          "Spain",
          "Sri Lanka",
          "Swaziland",
          "Sweden",
          "Switzerland",
          "Tajikistan",
          "Tanzania",
          "Thailand",
          "Togo",
          "Tunisia",
          "Turkey",
          "Turkmenistan",
          "USA",
          "Uganda",
          "Ukraine",
          "United Arab Emirates",
          "United Kingdom",
          "Uruguay",
          "Uzbekistan",
          "Zambia",
          "Zimbabwe",
          "Africa",
          "Americas",
          "Asia",
          "Europe",
          "Oceania",
          "world"
         ],
         "marker": {
          "coloraxis": "coloraxis",
          "colors": [
           2.694303274154663,
           5.0044026374816895,
           5.043086051940918,
           5.792796611785889,
           5.062448501586914,
           7.176993370056152,
           7.396001815795898,
           5.167995452880859,
           4.499217033386231,
           5.23376989364624,
           6.892171859741211,
           5.819827079772949,
           5.91573429107666,
           5.887401103973389,
           3.4613656997680664,
           6.190921783447266,
           5.098813533782959,
           4.927236080169678,
           3.775283098220825,
           5.121837615966797,
           5.25073766708374,
           7.175496578216553,
           4.486325263977051,
           6.436220645904541,
           5.131433963775635,
           5.9835124015808105,
           3.972819566726685,
           7.1410746574401855,
           5.536271095275879,
           6.276443004608154,
           7.034165382385254,
           7.648785591125488,
           5.433215618133545,
           6.128010272979736,
           6.241199493408203,
           6.091302394866943,
           4.379262447357178,
           7.858107089996338,
           6.665903568267822,
           4.783009052276611,
           4.659097194671631,
           7.118364334106445,
           5.003693103790283,
           5.409289360046387,
           6.626591682434082,
           5.252226829528809,
           3.6149280071258554,
           5.908423900604248,
           5.935770988464356,
           3.8180687427520748,
           5.340295791625977,
           4.886400699615479,
           6.962335586547852,
           6.927178859710693,
           6.516526699066162,
           5.793575286865234,
           4.6389336585998535,
           6.007636070251465,
           4.655702590942383,
           5.901154041290283,
           5.167186737060547,
           4.134852886199951,
           5.493977546691895,
           6.3088788986206055,
           7.242630958557129,
           4.070586681365967,
           3.3346335887908936,
           5.338817596435547,
           5.197574615478516,
           4.415729522705078,
           6.909710884094238,
           4.313615322113037,
           5.881740570068359,
           6.549578666687012,
           5.682277202606201,
           5.464622974395752,
           5.6501898765563965,
           4.896791934967041,
           4.653713703155518,
           4.410633087158203,
           6.391825675964356,
           4.910086631774902,
           7.463097095489502,
           7.370285987854004,
           5.818952560424805,
           5.164007186889648,
           5.252288341522217,
           5.239834785461426,
           7.4442620277404785,
           5.471553802490234,
           6.281434059143066,
           5.679661273956299,
           5.8691725730896,
           6.111485004425049,
           5.919822692871094,
           6.15087890625,
           3.561046600341797,
           6.356393337249756,
           4.7693772315979,
           5.936493396759033,
           4.305683135986328,
           6.374564170837402,
           6.249419212341309,
           4.883922100067139,
           6.513370990753174,
           4.435023784637451,
           4.211565017700195,
           7.374792098999023,
           7.508586883544922,
           5.497468948364258,
           3.44502329826355,
           6.011561870574951,
           4.022894859313965,
           4.7411322593688965,
           5.185689449310303,
           4.620601654052734,
           6.882684707641602,
           4.321714878082275,
           4.661909103393555,
           6.603743553161621,
           7.233445167541504,
           6.3717145919799805,
           6.205460071563721,
           4.041488170623779,
           3.6164798736572266,
           4.6608937732611055,
           6.439102755927717,
           4.758668407739569,
           6.703137845931731,
           7.2087087112672625,
           5.148078767657246
          ]
         },
         "name": "",
         "parents": [
          "world/Asia",
          "world/Europe",
          "world/Africa",
          "world/Americas",
          "world/Asia",
          "world/Oceania",
          "world/Europe",
          "world/Asia",
          "world/Asia",
          "world/Asia",
          "world/Europe",
          "world/Africa",
          "world/Americas",
          "world/Europe",
          "world/Africa",
          "world/Americas",
          "world/Europe",
          "world/Africa",
          "world/Africa",
          "world/Asia",
          "world/Africa",
          "world/Americas",
          "world/Africa",
          "world/Americas",
          "world/Asia",
          "world/Americas",
          "world/Africa",
          "world/Americas",
          "world/Europe",
          "world/Europe",
          "world/Europe",
          "world/Europe",
          "world/Americas",
          "world/Americas",
          "world/Americas",
          "world/Europe",
          "world/Africa",
          "world/Europe",
          "world/Europe",
          "world/Africa",
          "world/Asia",
          "world/Europe",
          "world/Africa",
          "world/Europe",
          "world/Americas",
          "world/Africa",
          "world/Americas",
          "world/Americas",
          "world/Europe",
          "world/Asia",
          "world/Asia",
          "world/Asia",
          "world/Europe",
          "world/Asia",
          "world/Europe",
          "world/Asia",
          "world/Asia",
          "world/Asia",
          "world/Africa",
          "world/Europe",
          "world/Asia",
          "world/Africa",
          "world/Africa",
          "world/Europe",
          "world/Europe",
          "world/Africa",
          "world/Africa",
          "world/Asia",
          "world/Asia",
          "world/Africa",
          "world/Europe",
          "world/Africa",
          "world/Africa",
          "world/Americas",
          "world/Europe",
          "world/Asia",
          "world/Europe",
          "world/Africa",
          "world/Africa",
          "world/Asia",
          "world/Africa",
          "world/Asia",
          "world/Europe",
          "world/Oceania",
          "world/Americas",
          "world/Africa",
          "world/Africa",
          "world/Europe",
          "world/Europe",
          "world/Asia",
          "world/Americas",
          "world/Americas",
          "world/Asia",
          "world/Europe",
          "world/Europe",
          "world/Europe",
          "world/Africa",
          "world/Asia",
          "world/Africa",
          "world/Europe",
          "world/Africa",
          "world/Asia",
          "world/Europe",
          "world/Africa",
          "world/Europe",
          "world/Asia",
          "world/Africa",
          "world/Europe",
          "world/Europe",
          "world/Asia",
          "world/Africa",
          "world/Asia",
          "world/Africa",
          "world/Africa",
          "world/Asia",
          "world/Asia",
          "world/Americas",
          "world/Africa",
          "world/Asia",
          "world/Asia",
          "world/Europe",
          "world/Americas",
          "world/Asia",
          "world/Africa",
          "world/Africa",
          "world",
          "world",
          "world",
          "world",
          "world",
          ""
         ],
         "type": "treemap",
         "values": [
          36686784,
          2866376,
          41927007,
          44494502,
          2836557,
          24966643,
          8840521,
          9939771,
          163683958,
          9438785,
          11427054,
          11940683,
          11606905,
          3400129,
          2451409,
          210166592,
          7025037,
          20392723,
          11493472,
          16025238,
          25076747,
          37065084,
          15604210,
          18701450,
          1402760000,
          49276961,
          776313,
          5040734,
          4087843,
          1218831,
          10629928,
          5793636,
          10765531,
          17015672,
          6276342,
          1321977,
          111129438,
          5515525,
          67158348,
          2192012,
          3726549,
          82905782,
          30870641,
          10732882,
          16346950,
          12554864,
          11012421,
          9792850,
          9775564,
          1369003306,
          267066843,
          40590700,
          4867316,
          8882800,
          60421760,
          126811000,
          10459865,
          18276452,
          49953304,
          1927174,
          5950839,
          4889391,
          6477793,
          2801543,
          607950,
          26846541,
          18367883,
          32399271,
          489758,
          19934298,
          484630,
          4270712,
          1265577,
          124013861,
          2707203,
          3163991,
          622227,
          35927511,
          29423878,
          52666014,
          1797085,
          28506712,
          17231624,
          4900600,
          6572233,
          22577058,
          198387623,
          2076217,
          5311916,
          219731479,
          4165255,
          32203944,
          108568836,
          37974750,
          10283822,
          19473970,
          12531808,
          35018133,
          15574909,
          6982604,
          7861281,
          5638676,
          2073894,
          57339635,
          46797754,
          21670000,
          1160428,
          10175214,
          8514329,
          9128132,
          58090443,
          71127802,
          8046679,
          11933041,
          82809304,
          6065066,
          326838199,
          41515395,
          44622518,
          9140169,
          66460344,
          3427042,
          32956100,
          17835893,
          15052184,
          953469869,
          944782528,
          4255841408,
          540495674,
          29867243,
          6724456722
         ]
        }
       ],
       "layout": {
        "coloraxis": {
         "cmax": 8,
         "cmid": 5.148078767657246,
         "cmin": 3,
         "colorbar": {
          "title": {
           "text": "Life Ladder"
          }
         },
         "colorscale": [
          [
           0,
           "#440154"
          ],
          [
           0.1111111111111111,
           "#482878"
          ],
          [
           0.2222222222222222,
           "#3e4989"
          ],
          [
           0.3333333333333333,
           "#31688e"
          ],
          [
           0.4444444444444444,
           "#26828e"
          ],
          [
           0.5555555555555556,
           "#1f9e89"
          ],
          [
           0.6666666666666666,
           "#35b779"
          ],
          [
           0.7777777777777778,
           "#6ece58"
          ],
          [
           0.8888888888888888,
           "#b5de2b"
          ],
          [
           1,
           "#fde725"
          ]
         ]
        },
        "legend": {
         "tracegroupgap": 0
        },
        "template": {
         "data": {
          "bar": [
           {
            "error_x": {
             "color": "#2a3f5f"
            },
            "error_y": {
             "color": "#2a3f5f"
            },
            "marker": {
             "line": {
              "color": "#E5ECF6",
              "width": 0.5
             },
             "pattern": {
              "fillmode": "overlay",
              "size": 10,
              "solidity": 0.2
             }
            },
            "type": "bar"
           }
          ],
          "barpolar": [
           {
            "marker": {
             "line": {
              "color": "#E5ECF6",
              "width": 0.5
             },
             "pattern": {
              "fillmode": "overlay",
              "size": 10,
              "solidity": 0.2
             }
            },
            "type": "barpolar"
           }
          ],
          "carpet": [
           {
            "aaxis": {
             "endlinecolor": "#2a3f5f",
             "gridcolor": "white",
             "linecolor": "white",
             "minorgridcolor": "white",
             "startlinecolor": "#2a3f5f"
            },
            "baxis": {
             "endlinecolor": "#2a3f5f",
             "gridcolor": "white",
             "linecolor": "white",
             "minorgridcolor": "white",
             "startlinecolor": "#2a3f5f"
            },
            "type": "carpet"
           }
          ],
          "choropleth": [
           {
            "colorbar": {
             "outlinewidth": 0,
             "ticks": ""
            },
            "type": "choropleth"
           }
          ],
          "contour": [
           {
            "colorbar": {
             "outlinewidth": 0,
             "ticks": ""
            },
            "colorscale": [
             [
              0,
              "#0d0887"
             ],
             [
              0.1111111111111111,
              "#46039f"
             ],
             [
              0.2222222222222222,
              "#7201a8"
             ],
             [
              0.3333333333333333,
              "#9c179e"
             ],
             [
              0.4444444444444444,
              "#bd3786"
             ],
             [
              0.5555555555555556,
              "#d8576b"
             ],
             [
              0.6666666666666666,
              "#ed7953"
             ],
             [
              0.7777777777777778,
              "#fb9f3a"
             ],
             [
              0.8888888888888888,
              "#fdca26"
             ],
             [
              1,
              "#f0f921"
             ]
            ],
            "type": "contour"
           }
          ],
          "contourcarpet": [
           {
            "colorbar": {
             "outlinewidth": 0,
             "ticks": ""
            },
            "type": "contourcarpet"
           }
          ],
          "heatmap": [
           {
            "colorbar": {
             "outlinewidth": 0,
             "ticks": ""
            },
            "colorscale": [
             [
              0,
              "#0d0887"
             ],
             [
              0.1111111111111111,
              "#46039f"
             ],
             [
              0.2222222222222222,
              "#7201a8"
             ],
             [
              0.3333333333333333,
              "#9c179e"
             ],
             [
              0.4444444444444444,
              "#bd3786"
             ],
             [
              0.5555555555555556,
              "#d8576b"
             ],
             [
              0.6666666666666666,
              "#ed7953"
             ],
             [
              0.7777777777777778,
              "#fb9f3a"
             ],
             [
              0.8888888888888888,
              "#fdca26"
             ],
             [
              1,
              "#f0f921"
             ]
            ],
            "type": "heatmap"
           }
          ],
          "heatmapgl": [
           {
            "colorbar": {
             "outlinewidth": 0,
             "ticks": ""
            },
            "colorscale": [
             [
              0,
              "#0d0887"
             ],
             [
              0.1111111111111111,
              "#46039f"
             ],
             [
              0.2222222222222222,
              "#7201a8"
             ],
             [
              0.3333333333333333,
              "#9c179e"
             ],
             [
              0.4444444444444444,
              "#bd3786"
             ],
             [
              0.5555555555555556,
              "#d8576b"
             ],
             [
              0.6666666666666666,
              "#ed7953"
             ],
             [
              0.7777777777777778,
              "#fb9f3a"
             ],
             [
              0.8888888888888888,
              "#fdca26"
             ],
             [
              1,
              "#f0f921"
             ]
            ],
            "type": "heatmapgl"
           }
          ],
          "histogram": [
           {
            "marker": {
             "pattern": {
              "fillmode": "overlay",
              "size": 10,
              "solidity": 0.2
             }
            },
            "type": "histogram"
           }
          ],
          "histogram2d": [
           {
            "colorbar": {
             "outlinewidth": 0,
             "ticks": ""
            },
            "colorscale": [
             [
              0,
              "#0d0887"
             ],
             [
              0.1111111111111111,
              "#46039f"
             ],
             [
              0.2222222222222222,
              "#7201a8"
             ],
             [
              0.3333333333333333,
              "#9c179e"
             ],
             [
              0.4444444444444444,
              "#bd3786"
             ],
             [
              0.5555555555555556,
              "#d8576b"
             ],
             [
              0.6666666666666666,
              "#ed7953"
             ],
             [
              0.7777777777777778,
              "#fb9f3a"
             ],
             [
              0.8888888888888888,
              "#fdca26"
             ],
             [
              1,
              "#f0f921"
             ]
            ],
            "type": "histogram2d"
           }
          ],
          "histogram2dcontour": [
           {
            "colorbar": {
             "outlinewidth": 0,
             "ticks": ""
            },
            "colorscale": [
             [
              0,
              "#0d0887"
             ],
             [
              0.1111111111111111,
              "#46039f"
             ],
             [
              0.2222222222222222,
              "#7201a8"
             ],
             [
              0.3333333333333333,
              "#9c179e"
             ],
             [
              0.4444444444444444,
              "#bd3786"
             ],
             [
              0.5555555555555556,
              "#d8576b"
             ],
             [
              0.6666666666666666,
              "#ed7953"
             ],
             [
              0.7777777777777778,
              "#fb9f3a"
             ],
             [
              0.8888888888888888,
              "#fdca26"
             ],
             [
              1,
              "#f0f921"
             ]
            ],
            "type": "histogram2dcontour"
           }
          ],
          "mesh3d": [
           {
            "colorbar": {
             "outlinewidth": 0,
             "ticks": ""
            },
            "type": "mesh3d"
           }
          ],
          "parcoords": [
           {
            "line": {
             "colorbar": {
              "outlinewidth": 0,
              "ticks": ""
             }
            },
            "type": "parcoords"
           }
          ],
          "pie": [
           {
            "automargin": true,
            "type": "pie"
           }
          ],
          "scatter": [
           {
            "fillpattern": {
             "fillmode": "overlay",
             "size": 10,
             "solidity": 0.2
            },
            "type": "scatter"
           }
          ],
          "scatter3d": [
           {
            "line": {
             "colorbar": {
              "outlinewidth": 0,
              "ticks": ""
             }
            },
            "marker": {
             "colorbar": {
              "outlinewidth": 0,
              "ticks": ""
             }
            },
            "type": "scatter3d"
           }
          ],
          "scattercarpet": [
           {
            "marker": {
             "colorbar": {
              "outlinewidth": 0,
              "ticks": ""
             }
            },
            "type": "scattercarpet"
           }
          ],
          "scattergeo": [
           {
            "marker": {
             "colorbar": {
              "outlinewidth": 0,
              "ticks": ""
             }
            },
            "type": "scattergeo"
           }
          ],
          "scattergl": [
           {
            "marker": {
             "colorbar": {
              "outlinewidth": 0,
              "ticks": ""
             }
            },
            "type": "scattergl"
           }
          ],
          "scattermapbox": [
           {
            "marker": {
             "colorbar": {
              "outlinewidth": 0,
              "ticks": ""
             }
            },
            "type": "scattermapbox"
           }
          ],
          "scatterpolar": [
           {
            "marker": {
             "colorbar": {
              "outlinewidth": 0,
              "ticks": ""
             }
            },
            "type": "scatterpolar"
           }
          ],
          "scatterpolargl": [
           {
            "marker": {
             "colorbar": {
              "outlinewidth": 0,
              "ticks": ""
             }
            },
            "type": "scatterpolargl"
           }
          ],
          "scatterternary": [
           {
            "marker": {
             "colorbar": {
              "outlinewidth": 0,
              "ticks": ""
             }
            },
            "type": "scatterternary"
           }
          ],
          "surface": [
           {
            "colorbar": {
             "outlinewidth": 0,
             "ticks": ""
            },
            "colorscale": [
             [
              0,
              "#0d0887"
             ],
             [
              0.1111111111111111,
              "#46039f"
             ],
             [
              0.2222222222222222,
              "#7201a8"
             ],
             [
              0.3333333333333333,
              "#9c179e"
             ],
             [
              0.4444444444444444,
              "#bd3786"
             ],
             [
              0.5555555555555556,
              "#d8576b"
             ],
             [
              0.6666666666666666,
              "#ed7953"
             ],
             [
              0.7777777777777778,
              "#fb9f3a"
             ],
             [
              0.8888888888888888,
              "#fdca26"
             ],
             [
              1,
              "#f0f921"
             ]
            ],
            "type": "surface"
           }
          ],
          "table": [
           {
            "cells": {
             "fill": {
              "color": "#EBF0F8"
             },
             "line": {
              "color": "white"
             }
            },
            "header": {
             "fill": {
              "color": "#C8D4E3"
             },
             "line": {
              "color": "white"
             }
            },
            "type": "table"
           }
          ]
         },
         "layout": {
          "annotationdefaults": {
           "arrowcolor": "#2a3f5f",
           "arrowhead": 0,
           "arrowwidth": 1
          },
          "autotypenumbers": "strict",
          "coloraxis": {
           "colorbar": {
            "outlinewidth": 0,
            "ticks": ""
           }
          },
          "colorscale": {
           "diverging": [
            [
             0,
             "#8e0152"
            ],
            [
             0.1,
             "#c51b7d"
            ],
            [
             0.2,
             "#de77ae"
            ],
            [
             0.3,
             "#f1b6da"
            ],
            [
             0.4,
             "#fde0ef"
            ],
            [
             0.5,
             "#f7f7f7"
            ],
            [
             0.6,
             "#e6f5d0"
            ],
            [
             0.7,
             "#b8e186"
            ],
            [
             0.8,
             "#7fbc41"
            ],
            [
             0.9,
             "#4d9221"
            ],
            [
             1,
             "#276419"
            ]
           ],
           "sequential": [
            [
             0,
             "#0d0887"
            ],
            [
             0.1111111111111111,
             "#46039f"
            ],
            [
             0.2222222222222222,
             "#7201a8"
            ],
            [
             0.3333333333333333,
             "#9c179e"
            ],
            [
             0.4444444444444444,
             "#bd3786"
            ],
            [
             0.5555555555555556,
             "#d8576b"
            ],
            [
             0.6666666666666666,
             "#ed7953"
            ],
            [
             0.7777777777777778,
             "#fb9f3a"
            ],
            [
             0.8888888888888888,
             "#fdca26"
            ],
            [
             1,
             "#f0f921"
            ]
           ],
           "sequentialminus": [
            [
             0,
             "#0d0887"
            ],
            [
             0.1111111111111111,
             "#46039f"
            ],
            [
             0.2222222222222222,
             "#7201a8"
            ],
            [
             0.3333333333333333,
             "#9c179e"
            ],
            [
             0.4444444444444444,
             "#bd3786"
            ],
            [
             0.5555555555555556,
             "#d8576b"
            ],
            [
             0.6666666666666666,
             "#ed7953"
            ],
            [
             0.7777777777777778,
             "#fb9f3a"
            ],
            [
             0.8888888888888888,
             "#fdca26"
            ],
            [
             1,
             "#f0f921"
            ]
           ]
          },
          "colorway": [
           "#636efa",
           "#EF553B",
           "#00cc96",
           "#ab63fa",
           "#FFA15A",
           "#19d3f3",
           "#FF6692",
           "#B6E880",
           "#FF97FF",
           "#FECB52"
          ],
          "font": {
           "color": "#2a3f5f"
          },
          "geo": {
           "bgcolor": "white",
           "lakecolor": "white",
           "landcolor": "#E5ECF6",
           "showlakes": true,
           "showland": true,
           "subunitcolor": "white"
          },
          "hoverlabel": {
           "align": "left"
          },
          "hovermode": "closest",
          "mapbox": {
           "style": "light"
          },
          "paper_bgcolor": "white",
          "plot_bgcolor": "#E5ECF6",
          "polar": {
           "angularaxis": {
            "gridcolor": "white",
            "linecolor": "white",
            "ticks": ""
           },
           "bgcolor": "#E5ECF6",
           "radialaxis": {
            "gridcolor": "white",
            "linecolor": "white",
            "ticks": ""
           }
          },
          "scene": {
           "xaxis": {
            "backgroundcolor": "#E5ECF6",
            "gridcolor": "white",
            "gridwidth": 2,
            "linecolor": "white",
            "showbackground": true,
            "ticks": "",
            "zerolinecolor": "white"
           },
           "yaxis": {
            "backgroundcolor": "#E5ECF6",
            "gridcolor": "white",
            "gridwidth": 2,
            "linecolor": "white",
            "showbackground": true,
            "ticks": "",
            "zerolinecolor": "white"
           },
           "zaxis": {
            "backgroundcolor": "#E5ECF6",
            "gridcolor": "white",
            "gridwidth": 2,
            "linecolor": "white",
            "showbackground": true,
            "ticks": "",
            "zerolinecolor": "white"
           }
          },
          "shapedefaults": {
           "line": {
            "color": "#2a3f5f"
           }
          },
          "ternary": {
           "aaxis": {
            "gridcolor": "white",
            "linecolor": "white",
            "ticks": ""
           },
           "baxis": {
            "gridcolor": "white",
            "linecolor": "white",
            "ticks": ""
           },
           "bgcolor": "#E5ECF6",
           "caxis": {
            "gridcolor": "white",
            "linecolor": "white",
            "ticks": ""
           }
          },
          "title": {
           "x": 0.05
          },
          "xaxis": {
           "automargin": true,
           "gridcolor": "white",
           "linecolor": "white",
           "ticks": "",
           "title": {
            "standoff": 15
           },
           "zerolinecolor": "white",
           "zerolinewidth": 2
          },
          "yaxis": {
           "automargin": true,
           "gridcolor": "white",
           "linecolor": "white",
           "ticks": "",
           "title": {
            "standoff": 15
           },
           "zerolinecolor": "white",
           "zerolinewidth": 2
          }
         }
        },
        "title": {
         "text": "2018"
        },
        "width": 700
       }
      },
      "text/html": [
       "<div>                            <div id=\"73983ffa-92ba-406f-b7a2-57e440c2bca3\" class=\"plotly-graph-div\" style=\"height:525px; width:700px;\"></div>            <script type=\"text/javascript\">                require([\"plotly\"], function(Plotly) {                    window.PLOTLYENV=window.PLOTLYENV || {};                                    if (document.getElementById(\"73983ffa-92ba-406f-b7a2-57e440c2bca3\")) {                    Plotly.newPlot(                        \"73983ffa-92ba-406f-b7a2-57e440c2bca3\",                        [{\"branchvalues\":\"total\",\"customdata\":[[\"Afghanistan\",2.694303274154663],[\"Albania\",5.0044026374816895],[\"Algeria\",5.043086051940918],[\"Argentina\",5.792796611785889],[\"Armenia\",5.062448501586914],[\"Australia\",7.176993370056152],[\"Austria\",7.396001815795898],[\"Azerbaijan\",5.167995452880859],[\"Bangladesh\",4.499217033386231],[\"Belarus\",5.23376989364624],[\"Belgium\",6.892171859741211],[\"Benin\",5.819827079772949],[\"Bolivia\",5.91573429107666],[\"Bosnia and Herzegovina\",5.887401103973389],[\"Botswana\",3.4613656997680664],[\"Brazil\",6.190921783447266],[\"Bulgaria\",5.098813533782959],[\"Burkina Faso\",4.927236080169678],[\"Burundi\",3.775283098220825],[\"Cambodia\",5.121837615966797],[\"Cameroon\",5.25073766708374],[\"Canada\",7.175496578216553],[\"Chad\",4.486325263977051],[\"Chile\",6.436220645904541],[\"China\",5.131433963775635],[\"Colombia\",5.9835124015808105],[\"Comoros\",3.972819566726685],[\"Costa Rica\",7.1410746574401855],[\"Croatia\",5.536271095275879],[\"Cyprus\",6.276443004608154],[\"Czech Republic\",7.034165382385254],[\"Denmark\",7.648785591125488],[\"Dominican Republic\",5.433215618133545],[\"Ecuador\",6.128010272979736],[\"El Salvador\",6.241199493408203],[\"Estonia\",6.091302394866943],[\"Ethiopia\",4.379262447357178],[\"Finland\",7.858107089996338],[\"France\",6.665903568267822],[\"Gabon\",4.783009052276611],[\"Georgia\",4.659097194671631],[\"Germany\",7.118364334106445],[\"Ghana\",5.003693103790283],[\"Greece\",5.409289360046387],[\"Guatemala\",6.626591682434082],[\"Guinea\",5.252226829528809],[\"Haiti\",3.6149280071258554],[\"Honduras\",5.908423900604248],[\"Hungary\",5.935770988464356],[\"India\",3.8180687427520748],[\"Indonesia\",5.340295791625977],[\"Iraq\",4.886400699615479],[\"Ireland\",6.962335586547852],[\"Israel\",6.927178859710693],[\"Italy\",6.516526699066162],[\"Japan\",5.793575286865234],[\"Jordan\",4.6389336585998535],[\"Kazakhstan\",6.007636070251465],[\"Kenya\",4.655702590942383],[\"Latvia\",5.901154041290283],[\"Lebanon\",5.167186737060547],[\"Liberia\",4.134852886199951],[\"Libya\",5.493977546691895],[\"Lithuania\",6.3088788986206055],[\"Luxembourg\",7.242630958557129],[\"Madagascar\",4.070586681365967],[\"Malawi\",3.3346335887908936],[\"Malaysia\",5.338817596435547],[\"Maldives\",5.197574615478516],[\"Mali\",4.415729522705078],[\"Malta\",6.909710884094238],[\"Mauritania\",4.313615322113037],[\"Mauritius\",5.881740570068359],[\"Mexico\",6.549578666687012],[\"Moldova\",5.682277202606201],[\"Mongolia\",5.464622974395752],[\"Montenegro\",5.6501898765563965],[\"Morocco\",4.896791934967041],[\"Mozambique\",4.653713703155518],[\"Myanmar\",4.410633087158203],[\"Namibia\",6.391825675964356],[\"Nepal\",4.910086631774902],[\"Netherlands\",7.463097095489502],[\"New Zealand\",7.370285987854004],[\"Nicaragua\",5.818952560424805],[\"Niger\",5.164007186889648],[\"Nigeria\",5.252288341522217],[\"North Macedonia\",5.239834785461426],[\"Norway\",7.4442620277404785],[\"Pakistan\",5.471553802490234],[\"Panama\",6.281434059143066],[\"Peru\",5.679661273956299],[\"Philippines\",5.8691725730896],[\"Poland\",6.111485004425049],[\"Portugal\",5.919822692871094],[\"Romania\",6.15087890625],[\"Rwanda\",3.561046600341797],[\"Saudi Arabia\",6.356393337249756],[\"Senegal\",4.7693772315979],[\"Serbia\",5.936493396759033],[\"Sierra Leone\",4.305683135986328],[\"Singapore\",6.374564170837402],[\"Slovenia\",6.249419212341309],[\"South Africa\",4.883922100067139],[\"Spain\",6.513370990753174],[\"Sri Lanka\",4.435023784637451],[\"Swaziland\",4.211565017700195],[\"Sweden\",7.374792098999023],[\"Switzerland\",7.508586883544922],[\"Tajikistan\",5.497468948364258],[\"Tanzania\",3.44502329826355],[\"Thailand\",6.011561870574951],[\"Togo\",4.022894859313965],[\"Tunisia\",4.7411322593688965],[\"Turkey\",5.185689449310303],[\"Turkmenistan\",4.620601654052734],[\"USA\",6.882684707641602],[\"Uganda\",4.321714878082275],[\"Ukraine\",4.661909103393555],[\"United Arab Emirates\",6.603743553161621],[\"United Kingdom\",7.233445167541504],[\"Uruguay\",6.3717145919799805],[\"Uzbekistan\",6.205460071563721],[\"Zambia\",4.041488170623779],[\"Zimbabwe\",3.6164798736572266],[\"(?)\",4.6608937732611055],[\"(?)\",6.439102755927717],[\"(?)\",4.758668407739569],[\"(?)\",6.703137845931731],[\"(?)\",7.2087087112672625],[\"(?)\",5.148078767657246]],\"domain\":{\"x\":[0.0,1.0],\"y\":[0.0,1.0]},\"hovertemplate\":\"labels=%{label}\\u003cbr\\u003epop=%{value}\\u003cbr\\u003eparent=%{parent}\\u003cbr\\u003eid=%{id}\\u003cbr\\u003ecountry=%{customdata[0]}\\u003cbr\\u003eLife Ladder=%{color}\\u003cextra\\u003e\\u003c\\u002fextra\\u003e\",\"ids\":[\"world\\u002fAsia\\u002fAfghanistan\",\"world\\u002fEurope\\u002fAlbania\",\"world\\u002fAfrica\\u002fAlgeria\",\"world\\u002fAmericas\\u002fArgentina\",\"world\\u002fAsia\\u002fArmenia\",\"world\\u002fOceania\\u002fAustralia\",\"world\\u002fEurope\\u002fAustria\",\"world\\u002fAsia\\u002fAzerbaijan\",\"world\\u002fAsia\\u002fBangladesh\",\"world\\u002fAsia\\u002fBelarus\",\"world\\u002fEurope\\u002fBelgium\",\"world\\u002fAfrica\\u002fBenin\",\"world\\u002fAmericas\\u002fBolivia\",\"world\\u002fEurope\\u002fBosnia and Herzegovina\",\"world\\u002fAfrica\\u002fBotswana\",\"world\\u002fAmericas\\u002fBrazil\",\"world\\u002fEurope\\u002fBulgaria\",\"world\\u002fAfrica\\u002fBurkina Faso\",\"world\\u002fAfrica\\u002fBurundi\",\"world\\u002fAsia\\u002fCambodia\",\"world\\u002fAfrica\\u002fCameroon\",\"world\\u002fAmericas\\u002fCanada\",\"world\\u002fAfrica\\u002fChad\",\"world\\u002fAmericas\\u002fChile\",\"world\\u002fAsia\\u002fChina\",\"world\\u002fAmericas\\u002fColombia\",\"world\\u002fAfrica\\u002fComoros\",\"world\\u002fAmericas\\u002fCosta Rica\",\"world\\u002fEurope\\u002fCroatia\",\"world\\u002fEurope\\u002fCyprus\",\"world\\u002fEurope\\u002fCzech Republic\",\"world\\u002fEurope\\u002fDenmark\",\"world\\u002fAmericas\\u002fDominican Republic\",\"world\\u002fAmericas\\u002fEcuador\",\"world\\u002fAmericas\\u002fEl Salvador\",\"world\\u002fEurope\\u002fEstonia\",\"world\\u002fAfrica\\u002fEthiopia\",\"world\\u002fEurope\\u002fFinland\",\"world\\u002fEurope\\u002fFrance\",\"world\\u002fAfrica\\u002fGabon\",\"world\\u002fAsia\\u002fGeorgia\",\"world\\u002fEurope\\u002fGermany\",\"world\\u002fAfrica\\u002fGhana\",\"world\\u002fEurope\\u002fGreece\",\"world\\u002fAmericas\\u002fGuatemala\",\"world\\u002fAfrica\\u002fGuinea\",\"world\\u002fAmericas\\u002fHaiti\",\"world\\u002fAmericas\\u002fHonduras\",\"world\\u002fEurope\\u002fHungary\",\"world\\u002fAsia\\u002fIndia\",\"world\\u002fAsia\\u002fIndonesia\",\"world\\u002fAsia\\u002fIraq\",\"world\\u002fEurope\\u002fIreland\",\"world\\u002fAsia\\u002fIsrael\",\"world\\u002fEurope\\u002fItaly\",\"world\\u002fAsia\\u002fJapan\",\"world\\u002fAsia\\u002fJordan\",\"world\\u002fAsia\\u002fKazakhstan\",\"world\\u002fAfrica\\u002fKenya\",\"world\\u002fEurope\\u002fLatvia\",\"world\\u002fAsia\\u002fLebanon\",\"world\\u002fAfrica\\u002fLiberia\",\"world\\u002fAfrica\\u002fLibya\",\"world\\u002fEurope\\u002fLithuania\",\"world\\u002fEurope\\u002fLuxembourg\",\"world\\u002fAfrica\\u002fMadagascar\",\"world\\u002fAfrica\\u002fMalawi\",\"world\\u002fAsia\\u002fMalaysia\",\"world\\u002fAsia\\u002fMaldives\",\"world\\u002fAfrica\\u002fMali\",\"world\\u002fEurope\\u002fMalta\",\"world\\u002fAfrica\\u002fMauritania\",\"world\\u002fAfrica\\u002fMauritius\",\"world\\u002fAmericas\\u002fMexico\",\"world\\u002fEurope\\u002fMoldova\",\"world\\u002fAsia\\u002fMongolia\",\"world\\u002fEurope\\u002fMontenegro\",\"world\\u002fAfrica\\u002fMorocco\",\"world\\u002fAfrica\\u002fMozambique\",\"world\\u002fAsia\\u002fMyanmar\",\"world\\u002fAfrica\\u002fNamibia\",\"world\\u002fAsia\\u002fNepal\",\"world\\u002fEurope\\u002fNetherlands\",\"world\\u002fOceania\\u002fNew Zealand\",\"world\\u002fAmericas\\u002fNicaragua\",\"world\\u002fAfrica\\u002fNiger\",\"world\\u002fAfrica\\u002fNigeria\",\"world\\u002fEurope\\u002fNorth Macedonia\",\"world\\u002fEurope\\u002fNorway\",\"world\\u002fAsia\\u002fPakistan\",\"world\\u002fAmericas\\u002fPanama\",\"world\\u002fAmericas\\u002fPeru\",\"world\\u002fAsia\\u002fPhilippines\",\"world\\u002fEurope\\u002fPoland\",\"world\\u002fEurope\\u002fPortugal\",\"world\\u002fEurope\\u002fRomania\",\"world\\u002fAfrica\\u002fRwanda\",\"world\\u002fAsia\\u002fSaudi Arabia\",\"world\\u002fAfrica\\u002fSenegal\",\"world\\u002fEurope\\u002fSerbia\",\"world\\u002fAfrica\\u002fSierra Leone\",\"world\\u002fAsia\\u002fSingapore\",\"world\\u002fEurope\\u002fSlovenia\",\"world\\u002fAfrica\\u002fSouth Africa\",\"world\\u002fEurope\\u002fSpain\",\"world\\u002fAsia\\u002fSri Lanka\",\"world\\u002fAfrica\\u002fSwaziland\",\"world\\u002fEurope\\u002fSweden\",\"world\\u002fEurope\\u002fSwitzerland\",\"world\\u002fAsia\\u002fTajikistan\",\"world\\u002fAfrica\\u002fTanzania\",\"world\\u002fAsia\\u002fThailand\",\"world\\u002fAfrica\\u002fTogo\",\"world\\u002fAfrica\\u002fTunisia\",\"world\\u002fAsia\\u002fTurkey\",\"world\\u002fAsia\\u002fTurkmenistan\",\"world\\u002fAmericas\\u002fUSA\",\"world\\u002fAfrica\\u002fUganda\",\"world\\u002fAsia\\u002fUkraine\",\"world\\u002fAsia\\u002fUnited Arab Emirates\",\"world\\u002fEurope\\u002fUnited Kingdom\",\"world\\u002fAmericas\\u002fUruguay\",\"world\\u002fAsia\\u002fUzbekistan\",\"world\\u002fAfrica\\u002fZambia\",\"world\\u002fAfrica\\u002fZimbabwe\",\"world\\u002fAfrica\",\"world\\u002fAmericas\",\"world\\u002fAsia\",\"world\\u002fEurope\",\"world\\u002fOceania\",\"world\"],\"labels\":[\"Afghanistan\",\"Albania\",\"Algeria\",\"Argentina\",\"Armenia\",\"Australia\",\"Austria\",\"Azerbaijan\",\"Bangladesh\",\"Belarus\",\"Belgium\",\"Benin\",\"Bolivia\",\"Bosnia and Herzegovina\",\"Botswana\",\"Brazil\",\"Bulgaria\",\"Burkina Faso\",\"Burundi\",\"Cambodia\",\"Cameroon\",\"Canada\",\"Chad\",\"Chile\",\"China\",\"Colombia\",\"Comoros\",\"Costa Rica\",\"Croatia\",\"Cyprus\",\"Czech Republic\",\"Denmark\",\"Dominican Republic\",\"Ecuador\",\"El Salvador\",\"Estonia\",\"Ethiopia\",\"Finland\",\"France\",\"Gabon\",\"Georgia\",\"Germany\",\"Ghana\",\"Greece\",\"Guatemala\",\"Guinea\",\"Haiti\",\"Honduras\",\"Hungary\",\"India\",\"Indonesia\",\"Iraq\",\"Ireland\",\"Israel\",\"Italy\",\"Japan\",\"Jordan\",\"Kazakhstan\",\"Kenya\",\"Latvia\",\"Lebanon\",\"Liberia\",\"Libya\",\"Lithuania\",\"Luxembourg\",\"Madagascar\",\"Malawi\",\"Malaysia\",\"Maldives\",\"Mali\",\"Malta\",\"Mauritania\",\"Mauritius\",\"Mexico\",\"Moldova\",\"Mongolia\",\"Montenegro\",\"Morocco\",\"Mozambique\",\"Myanmar\",\"Namibia\",\"Nepal\",\"Netherlands\",\"New Zealand\",\"Nicaragua\",\"Niger\",\"Nigeria\",\"North Macedonia\",\"Norway\",\"Pakistan\",\"Panama\",\"Peru\",\"Philippines\",\"Poland\",\"Portugal\",\"Romania\",\"Rwanda\",\"Saudi Arabia\",\"Senegal\",\"Serbia\",\"Sierra Leone\",\"Singapore\",\"Slovenia\",\"South Africa\",\"Spain\",\"Sri Lanka\",\"Swaziland\",\"Sweden\",\"Switzerland\",\"Tajikistan\",\"Tanzania\",\"Thailand\",\"Togo\",\"Tunisia\",\"Turkey\",\"Turkmenistan\",\"USA\",\"Uganda\",\"Ukraine\",\"United Arab Emirates\",\"United Kingdom\",\"Uruguay\",\"Uzbekistan\",\"Zambia\",\"Zimbabwe\",\"Africa\",\"Americas\",\"Asia\",\"Europe\",\"Oceania\",\"world\"],\"marker\":{\"coloraxis\":\"coloraxis\",\"colors\":[2.694303274154663,5.0044026374816895,5.043086051940918,5.792796611785889,5.062448501586914,7.176993370056152,7.396001815795898,5.167995452880859,4.499217033386231,5.23376989364624,6.892171859741211,5.819827079772949,5.91573429107666,5.887401103973389,3.4613656997680664,6.190921783447266,5.098813533782959,4.927236080169678,3.775283098220825,5.121837615966797,5.25073766708374,7.175496578216553,4.486325263977051,6.436220645904541,5.131433963775635,5.9835124015808105,3.972819566726685,7.1410746574401855,5.536271095275879,6.276443004608154,7.034165382385254,7.648785591125488,5.433215618133545,6.128010272979736,6.241199493408203,6.091302394866943,4.379262447357178,7.858107089996338,6.665903568267822,4.783009052276611,4.659097194671631,7.118364334106445,5.003693103790283,5.409289360046387,6.626591682434082,5.252226829528809,3.6149280071258554,5.908423900604248,5.935770988464356,3.8180687427520748,5.340295791625977,4.886400699615479,6.962335586547852,6.927178859710693,6.516526699066162,5.793575286865234,4.6389336585998535,6.007636070251465,4.655702590942383,5.901154041290283,5.167186737060547,4.134852886199951,5.493977546691895,6.3088788986206055,7.242630958557129,4.070586681365967,3.3346335887908936,5.338817596435547,5.197574615478516,4.415729522705078,6.909710884094238,4.313615322113037,5.881740570068359,6.549578666687012,5.682277202606201,5.464622974395752,5.6501898765563965,4.896791934967041,4.653713703155518,4.410633087158203,6.391825675964356,4.910086631774902,7.463097095489502,7.370285987854004,5.818952560424805,5.164007186889648,5.252288341522217,5.239834785461426,7.4442620277404785,5.471553802490234,6.281434059143066,5.679661273956299,5.8691725730896,6.111485004425049,5.919822692871094,6.15087890625,3.561046600341797,6.356393337249756,4.7693772315979,5.936493396759033,4.305683135986328,6.374564170837402,6.249419212341309,4.883922100067139,6.513370990753174,4.435023784637451,4.211565017700195,7.374792098999023,7.508586883544922,5.497468948364258,3.44502329826355,6.011561870574951,4.022894859313965,4.7411322593688965,5.185689449310303,4.620601654052734,6.882684707641602,4.321714878082275,4.661909103393555,6.603743553161621,7.233445167541504,6.3717145919799805,6.205460071563721,4.041488170623779,3.6164798736572266,4.6608937732611055,6.439102755927717,4.758668407739569,6.703137845931731,7.2087087112672625,5.148078767657246]},\"name\":\"\",\"parents\":[\"world\\u002fAsia\",\"world\\u002fEurope\",\"world\\u002fAfrica\",\"world\\u002fAmericas\",\"world\\u002fAsia\",\"world\\u002fOceania\",\"world\\u002fEurope\",\"world\\u002fAsia\",\"world\\u002fAsia\",\"world\\u002fAsia\",\"world\\u002fEurope\",\"world\\u002fAfrica\",\"world\\u002fAmericas\",\"world\\u002fEurope\",\"world\\u002fAfrica\",\"world\\u002fAmericas\",\"world\\u002fEurope\",\"world\\u002fAfrica\",\"world\\u002fAfrica\",\"world\\u002fAsia\",\"world\\u002fAfrica\",\"world\\u002fAmericas\",\"world\\u002fAfrica\",\"world\\u002fAmericas\",\"world\\u002fAsia\",\"world\\u002fAmericas\",\"world\\u002fAfrica\",\"world\\u002fAmericas\",\"world\\u002fEurope\",\"world\\u002fEurope\",\"world\\u002fEurope\",\"world\\u002fEurope\",\"world\\u002fAmericas\",\"world\\u002fAmericas\",\"world\\u002fAmericas\",\"world\\u002fEurope\",\"world\\u002fAfrica\",\"world\\u002fEurope\",\"world\\u002fEurope\",\"world\\u002fAfrica\",\"world\\u002fAsia\",\"world\\u002fEurope\",\"world\\u002fAfrica\",\"world\\u002fEurope\",\"world\\u002fAmericas\",\"world\\u002fAfrica\",\"world\\u002fAmericas\",\"world\\u002fAmericas\",\"world\\u002fEurope\",\"world\\u002fAsia\",\"world\\u002fAsia\",\"world\\u002fAsia\",\"world\\u002fEurope\",\"world\\u002fAsia\",\"world\\u002fEurope\",\"world\\u002fAsia\",\"world\\u002fAsia\",\"world\\u002fAsia\",\"world\\u002fAfrica\",\"world\\u002fEurope\",\"world\\u002fAsia\",\"world\\u002fAfrica\",\"world\\u002fAfrica\",\"world\\u002fEurope\",\"world\\u002fEurope\",\"world\\u002fAfrica\",\"world\\u002fAfrica\",\"world\\u002fAsia\",\"world\\u002fAsia\",\"world\\u002fAfrica\",\"world\\u002fEurope\",\"world\\u002fAfrica\",\"world\\u002fAfrica\",\"world\\u002fAmericas\",\"world\\u002fEurope\",\"world\\u002fAsia\",\"world\\u002fEurope\",\"world\\u002fAfrica\",\"world\\u002fAfrica\",\"world\\u002fAsia\",\"world\\u002fAfrica\",\"world\\u002fAsia\",\"world\\u002fEurope\",\"world\\u002fOceania\",\"world\\u002fAmericas\",\"world\\u002fAfrica\",\"world\\u002fAfrica\",\"world\\u002fEurope\",\"world\\u002fEurope\",\"world\\u002fAsia\",\"world\\u002fAmericas\",\"world\\u002fAmericas\",\"world\\u002fAsia\",\"world\\u002fEurope\",\"world\\u002fEurope\",\"world\\u002fEurope\",\"world\\u002fAfrica\",\"world\\u002fAsia\",\"world\\u002fAfrica\",\"world\\u002fEurope\",\"world\\u002fAfrica\",\"world\\u002fAsia\",\"world\\u002fEurope\",\"world\\u002fAfrica\",\"world\\u002fEurope\",\"world\\u002fAsia\",\"world\\u002fAfrica\",\"world\\u002fEurope\",\"world\\u002fEurope\",\"world\\u002fAsia\",\"world\\u002fAfrica\",\"world\\u002fAsia\",\"world\\u002fAfrica\",\"world\\u002fAfrica\",\"world\\u002fAsia\",\"world\\u002fAsia\",\"world\\u002fAmericas\",\"world\\u002fAfrica\",\"world\\u002fAsia\",\"world\\u002fAsia\",\"world\\u002fEurope\",\"world\\u002fAmericas\",\"world\\u002fAsia\",\"world\\u002fAfrica\",\"world\\u002fAfrica\",\"world\",\"world\",\"world\",\"world\",\"world\",\"\"],\"values\":[36686784.0,2866376.0,41927007.0,44494502.0,2836557.0,24966643.0,8840521.0,9939771.0,163683958.0,9438785.0,11427054.0,11940683.0,11606905.0,3400129.0,2451409.0,210166592.0,7025037.0,20392723.0,11493472.0,16025238.0,25076747.0,37065084.0,15604210.0,18701450.0,1402760000.0,49276961.0,776313.0,5040734.0,4087843.0,1218831.0,10629928.0,5793636.0,10765531.0,17015672.0,6276342.0,1321977.0,111129438.0,5515525.0,67158348.0,2192012.0,3726549.0,82905782.0,30870641.0,10732882.0,16346950.0,12554864.0,11012421.0,9792850.0,9775564.0,1369003306.0,267066843.0,40590700.0,4867316.0,8882800.0,60421760.0,126811000.0,10459865.0,18276452.0,49953304.0,1927174.0,5950839.0,4889391.0,6477793.0,2801543.0,607950.0,26846541.0,18367883.0,32399271.0,489758.0,19934298.0,484630.0,4270712.0,1265577.0,124013861.0,2707203.0,3163991.0,622227.0,35927511.0,29423878.0,52666014.0,1797085.0,28506712.0,17231624.0,4900600.0,6572233.0,22577058.0,198387623.0,2076217.0,5311916.0,219731479.0,4165255.0,32203944.0,108568836.0,37974750.0,10283822.0,19473970.0,12531808.0,35018133.0,15574909.0,6982604.0,7861281.0,5638676.0,2073894.0,57339635.0,46797754.0,21670000.0,1160428.0,10175214.0,8514329.0,9128132.0,58090443.0,71127802.0,8046679.0,11933041.0,82809304.0,6065066.0,326838199.0,41515395.0,44622518.0,9140169.0,66460344.0,3427042.0,32956100.0,17835893.0,15052184.0,953469869.0,944782528.0,4255841408.0,540495674.0,29867243.0,6724456722.0],\"type\":\"treemap\"}],                        {\"template\":{\"data\":{\"histogram2dcontour\":[{\"type\":\"histogram2dcontour\",\"colorbar\":{\"outlinewidth\":0,\"ticks\":\"\"},\"colorscale\":[[0.0,\"#0d0887\"],[0.1111111111111111,\"#46039f\"],[0.2222222222222222,\"#7201a8\"],[0.3333333333333333,\"#9c179e\"],[0.4444444444444444,\"#bd3786\"],[0.5555555555555556,\"#d8576b\"],[0.6666666666666666,\"#ed7953\"],[0.7777777777777778,\"#fb9f3a\"],[0.8888888888888888,\"#fdca26\"],[1.0,\"#f0f921\"]]}],\"choropleth\":[{\"type\":\"choropleth\",\"colorbar\":{\"outlinewidth\":0,\"ticks\":\"\"}}],\"histogram2d\":[{\"type\":\"histogram2d\",\"colorbar\":{\"outlinewidth\":0,\"ticks\":\"\"},\"colorscale\":[[0.0,\"#0d0887\"],[0.1111111111111111,\"#46039f\"],[0.2222222222222222,\"#7201a8\"],[0.3333333333333333,\"#9c179e\"],[0.4444444444444444,\"#bd3786\"],[0.5555555555555556,\"#d8576b\"],[0.6666666666666666,\"#ed7953\"],[0.7777777777777778,\"#fb9f3a\"],[0.8888888888888888,\"#fdca26\"],[1.0,\"#f0f921\"]]}],\"heatmap\":[{\"type\":\"heatmap\",\"colorbar\":{\"outlinewidth\":0,\"ticks\":\"\"},\"colorscale\":[[0.0,\"#0d0887\"],[0.1111111111111111,\"#46039f\"],[0.2222222222222222,\"#7201a8\"],[0.3333333333333333,\"#9c179e\"],[0.4444444444444444,\"#bd3786\"],[0.5555555555555556,\"#d8576b\"],[0.6666666666666666,\"#ed7953\"],[0.7777777777777778,\"#fb9f3a\"],[0.8888888888888888,\"#fdca26\"],[1.0,\"#f0f921\"]]}],\"heatmapgl\":[{\"type\":\"heatmapgl\",\"colorbar\":{\"outlinewidth\":0,\"ticks\":\"\"},\"colorscale\":[[0.0,\"#0d0887\"],[0.1111111111111111,\"#46039f\"],[0.2222222222222222,\"#7201a8\"],[0.3333333333333333,\"#9c179e\"],[0.4444444444444444,\"#bd3786\"],[0.5555555555555556,\"#d8576b\"],[0.6666666666666666,\"#ed7953\"],[0.7777777777777778,\"#fb9f3a\"],[0.8888888888888888,\"#fdca26\"],[1.0,\"#f0f921\"]]}],\"contourcarpet\":[{\"type\":\"contourcarpet\",\"colorbar\":{\"outlinewidth\":0,\"ticks\":\"\"}}],\"contour\":[{\"type\":\"contour\",\"colorbar\":{\"outlinewidth\":0,\"ticks\":\"\"},\"colorscale\":[[0.0,\"#0d0887\"],[0.1111111111111111,\"#46039f\"],[0.2222222222222222,\"#7201a8\"],[0.3333333333333333,\"#9c179e\"],[0.4444444444444444,\"#bd3786\"],[0.5555555555555556,\"#d8576b\"],[0.6666666666666666,\"#ed7953\"],[0.7777777777777778,\"#fb9f3a\"],[0.8888888888888888,\"#fdca26\"],[1.0,\"#f0f921\"]]}],\"surface\":[{\"type\":\"surface\",\"colorbar\":{\"outlinewidth\":0,\"ticks\":\"\"},\"colorscale\":[[0.0,\"#0d0887\"],[0.1111111111111111,\"#46039f\"],[0.2222222222222222,\"#7201a8\"],[0.3333333333333333,\"#9c179e\"],[0.4444444444444444,\"#bd3786\"],[0.5555555555555556,\"#d8576b\"],[0.6666666666666666,\"#ed7953\"],[0.7777777777777778,\"#fb9f3a\"],[0.8888888888888888,\"#fdca26\"],[1.0,\"#f0f921\"]]}],\"mesh3d\":[{\"type\":\"mesh3d\",\"colorbar\":{\"outlinewidth\":0,\"ticks\":\"\"}}],\"scatter\":[{\"fillpattern\":{\"fillmode\":\"overlay\",\"size\":10,\"solidity\":0.2},\"type\":\"scatter\"}],\"parcoords\":[{\"type\":\"parcoords\",\"line\":{\"colorbar\":{\"outlinewidth\":0,\"ticks\":\"\"}}}],\"scatterpolargl\":[{\"type\":\"scatterpolargl\",\"marker\":{\"colorbar\":{\"outlinewidth\":0,\"ticks\":\"\"}}}],\"bar\":[{\"error_x\":{\"color\":\"#2a3f5f\"},\"error_y\":{\"color\":\"#2a3f5f\"},\"marker\":{\"line\":{\"color\":\"#E5ECF6\",\"width\":0.5},\"pattern\":{\"fillmode\":\"overlay\",\"size\":10,\"solidity\":0.2}},\"type\":\"bar\"}],\"scattergeo\":[{\"type\":\"scattergeo\",\"marker\":{\"colorbar\":{\"outlinewidth\":0,\"ticks\":\"\"}}}],\"scatterpolar\":[{\"type\":\"scatterpolar\",\"marker\":{\"colorbar\":{\"outlinewidth\":0,\"ticks\":\"\"}}}],\"histogram\":[{\"marker\":{\"pattern\":{\"fillmode\":\"overlay\",\"size\":10,\"solidity\":0.2}},\"type\":\"histogram\"}],\"scattergl\":[{\"type\":\"scattergl\",\"marker\":{\"colorbar\":{\"outlinewidth\":0,\"ticks\":\"\"}}}],\"scatter3d\":[{\"type\":\"scatter3d\",\"line\":{\"colorbar\":{\"outlinewidth\":0,\"ticks\":\"\"}},\"marker\":{\"colorbar\":{\"outlinewidth\":0,\"ticks\":\"\"}}}],\"scattermapbox\":[{\"type\":\"scattermapbox\",\"marker\":{\"colorbar\":{\"outlinewidth\":0,\"ticks\":\"\"}}}],\"scatterternary\":[{\"type\":\"scatterternary\",\"marker\":{\"colorbar\":{\"outlinewidth\":0,\"ticks\":\"\"}}}],\"scattercarpet\":[{\"type\":\"scattercarpet\",\"marker\":{\"colorbar\":{\"outlinewidth\":0,\"ticks\":\"\"}}}],\"carpet\":[{\"aaxis\":{\"endlinecolor\":\"#2a3f5f\",\"gridcolor\":\"white\",\"linecolor\":\"white\",\"minorgridcolor\":\"white\",\"startlinecolor\":\"#2a3f5f\"},\"baxis\":{\"endlinecolor\":\"#2a3f5f\",\"gridcolor\":\"white\",\"linecolor\":\"white\",\"minorgridcolor\":\"white\",\"startlinecolor\":\"#2a3f5f\"},\"type\":\"carpet\"}],\"table\":[{\"cells\":{\"fill\":{\"color\":\"#EBF0F8\"},\"line\":{\"color\":\"white\"}},\"header\":{\"fill\":{\"color\":\"#C8D4E3\"},\"line\":{\"color\":\"white\"}},\"type\":\"table\"}],\"barpolar\":[{\"marker\":{\"line\":{\"color\":\"#E5ECF6\",\"width\":0.5},\"pattern\":{\"fillmode\":\"overlay\",\"size\":10,\"solidity\":0.2}},\"type\":\"barpolar\"}],\"pie\":[{\"automargin\":true,\"type\":\"pie\"}]},\"layout\":{\"autotypenumbers\":\"strict\",\"colorway\":[\"#636efa\",\"#EF553B\",\"#00cc96\",\"#ab63fa\",\"#FFA15A\",\"#19d3f3\",\"#FF6692\",\"#B6E880\",\"#FF97FF\",\"#FECB52\"],\"font\":{\"color\":\"#2a3f5f\"},\"hovermode\":\"closest\",\"hoverlabel\":{\"align\":\"left\"},\"paper_bgcolor\":\"white\",\"plot_bgcolor\":\"#E5ECF6\",\"polar\":{\"bgcolor\":\"#E5ECF6\",\"angularaxis\":{\"gridcolor\":\"white\",\"linecolor\":\"white\",\"ticks\":\"\"},\"radialaxis\":{\"gridcolor\":\"white\",\"linecolor\":\"white\",\"ticks\":\"\"}},\"ternary\":{\"bgcolor\":\"#E5ECF6\",\"aaxis\":{\"gridcolor\":\"white\",\"linecolor\":\"white\",\"ticks\":\"\"},\"baxis\":{\"gridcolor\":\"white\",\"linecolor\":\"white\",\"ticks\":\"\"},\"caxis\":{\"gridcolor\":\"white\",\"linecolor\":\"white\",\"ticks\":\"\"}},\"coloraxis\":{\"colorbar\":{\"outlinewidth\":0,\"ticks\":\"\"}},\"colorscale\":{\"sequential\":[[0.0,\"#0d0887\"],[0.1111111111111111,\"#46039f\"],[0.2222222222222222,\"#7201a8\"],[0.3333333333333333,\"#9c179e\"],[0.4444444444444444,\"#bd3786\"],[0.5555555555555556,\"#d8576b\"],[0.6666666666666666,\"#ed7953\"],[0.7777777777777778,\"#fb9f3a\"],[0.8888888888888888,\"#fdca26\"],[1.0,\"#f0f921\"]],\"sequentialminus\":[[0.0,\"#0d0887\"],[0.1111111111111111,\"#46039f\"],[0.2222222222222222,\"#7201a8\"],[0.3333333333333333,\"#9c179e\"],[0.4444444444444444,\"#bd3786\"],[0.5555555555555556,\"#d8576b\"],[0.6666666666666666,\"#ed7953\"],[0.7777777777777778,\"#fb9f3a\"],[0.8888888888888888,\"#fdca26\"],[1.0,\"#f0f921\"]],\"diverging\":[[0,\"#8e0152\"],[0.1,\"#c51b7d\"],[0.2,\"#de77ae\"],[0.3,\"#f1b6da\"],[0.4,\"#fde0ef\"],[0.5,\"#f7f7f7\"],[0.6,\"#e6f5d0\"],[0.7,\"#b8e186\"],[0.8,\"#7fbc41\"],[0.9,\"#4d9221\"],[1,\"#276419\"]]},\"xaxis\":{\"gridcolor\":\"white\",\"linecolor\":\"white\",\"ticks\":\"\",\"title\":{\"standoff\":15},\"zerolinecolor\":\"white\",\"automargin\":true,\"zerolinewidth\":2},\"yaxis\":{\"gridcolor\":\"white\",\"linecolor\":\"white\",\"ticks\":\"\",\"title\":{\"standoff\":15},\"zerolinecolor\":\"white\",\"automargin\":true,\"zerolinewidth\":2},\"scene\":{\"xaxis\":{\"backgroundcolor\":\"#E5ECF6\",\"gridcolor\":\"white\",\"linecolor\":\"white\",\"showbackground\":true,\"ticks\":\"\",\"zerolinecolor\":\"white\",\"gridwidth\":2},\"yaxis\":{\"backgroundcolor\":\"#E5ECF6\",\"gridcolor\":\"white\",\"linecolor\":\"white\",\"showbackground\":true,\"ticks\":\"\",\"zerolinecolor\":\"white\",\"gridwidth\":2},\"zaxis\":{\"backgroundcolor\":\"#E5ECF6\",\"gridcolor\":\"white\",\"linecolor\":\"white\",\"showbackground\":true,\"ticks\":\"\",\"zerolinecolor\":\"white\",\"gridwidth\":2}},\"shapedefaults\":{\"line\":{\"color\":\"#2a3f5f\"}},\"annotationdefaults\":{\"arrowcolor\":\"#2a3f5f\",\"arrowhead\":0,\"arrowwidth\":1},\"geo\":{\"bgcolor\":\"white\",\"landcolor\":\"#E5ECF6\",\"subunitcolor\":\"white\",\"showland\":true,\"showlakes\":true,\"lakecolor\":\"white\"},\"title\":{\"x\":0.05},\"mapbox\":{\"style\":\"light\"}}},\"coloraxis\":{\"colorbar\":{\"title\":{\"text\":\"Life Ladder\"}},\"colorscale\":[[0.0,\"#440154\"],[0.1111111111111111,\"#482878\"],[0.2222222222222222,\"#3e4989\"],[0.3333333333333333,\"#31688e\"],[0.4444444444444444,\"#26828e\"],[0.5555555555555556,\"#1f9e89\"],[0.6666666666666666,\"#35b779\"],[0.7777777777777778,\"#6ece58\"],[0.8888888888888888,\"#b5de2b\"],[1.0,\"#fde725\"]],\"cmid\":5.148078767657246,\"cmin\":3,\"cmax\":8},\"legend\":{\"tracegroupgap\":0},\"title\":{\"text\":\"2018\"},\"width\":700},                        {\"responsive\": true}                    ).then(function(){\n",
       "                            \n",
       "var gd = document.getElementById('73983ffa-92ba-406f-b7a2-57e440c2bca3');\n",
       "var x = new MutationObserver(function (mutations, observer) {{\n",
       "        var display = window.getComputedStyle(gd).display;\n",
       "        if (!display || display === 'none') {{\n",
       "            console.log([gd, 'removed!']);\n",
       "            Plotly.purge(gd);\n",
       "            observer.disconnect();\n",
       "        }}\n",
       "}});\n",
       "\n",
       "// Listen for the removal of the full notebook cells\n",
       "var notebookContainer = gd.closest('#notebook-container');\n",
       "if (notebookContainer) {{\n",
       "    x.observe(notebookContainer, {childList: true});\n",
       "}}\n",
       "\n",
       "// Listen for the clearing of the current output cell\n",
       "var outputEl = gd.closest('.output');\n",
       "if (outputEl) {{\n",
       "    x.observe(outputEl, {childList: true});\n",
       "}}\n",
       "\n",
       "                        })                };                });            </script>        </div>"
      ]
     },
     "metadata": {},
     "output_type": "display_data"
    }
   ],
   "source": [
    "gen_treeplot(wdf, 2018)"
   ]
  },
  {
   "cell_type": "code",
   "execution_count": 61,
   "id": "828ff93c",
   "metadata": {},
   "outputs": [
    {
     "data": {
      "application/vnd.plotly.v1+json": {
       "config": {
        "plotlyServerURL": "https://plot.ly"
       },
       "data": [
        {
         "branchvalues": "total",
         "customdata": [
          [
           "Afghanistan",
           2.375091791152954
          ],
          [
           "Albania",
           4.995317935943604
          ],
          [
           "Algeria",
           4.744627475738525
          ],
          [
           "Argentina",
           6.08556079864502
          ],
          [
           "Armenia",
           5.488086700439453
          ],
          [
           "Australia",
           7.233994960784912
          ],
          [
           "Austria",
           7.195361137390137
          ],
          [
           "Azerbaijan",
           5.173389434814453
          ],
          [
           "Bahrain",
           7.098012447357178
          ],
          [
           "Bangladesh",
           5.1142168045043945
          ],
          [
           "Belarus",
           5.821453094482422
          ],
          [
           "Belgium",
           6.7721381187438965
          ],
          [
           "Benin",
           4.97636079788208
          ],
          [
           "Bolivia",
           5.6742706298828125
          ],
          [
           "Bosnia and Herzegovina",
           6.015522480010986
          ],
          [
           "Botswana",
           3.4710848331451416
          ],
          [
           "Brazil",
           6.451148986816406
          ],
          [
           "Bulgaria",
           5.108438014984131
          ],
          [
           "Burkina Faso",
           4.740892887115479
          ],
          [
           "Cambodia",
           4.998284816741943
          ],
          [
           "Cameroon",
           4.936737537384033
          ],
          [
           "Canada",
           7.109076499938965
          ],
          [
           "Chad",
           4.250799179077148
          ],
          [
           "Chile",
           5.94225025177002
          ],
          [
           "China",
           5.144120216369629
          ],
          [
           "Colombia",
           6.350297927856445
          ],
          [
           "Comoros",
           4.608616352081299
          ],
          [
           "Costa Rica",
           6.997618675231934
          ],
          [
           "Croatia",
           5.625743865966797
          ],
          [
           "Cyprus",
           6.1368327140808105
          ],
          [
           "Denmark",
           7.693003177642822
          ],
          [
           "Dominican Republic",
           6.004237174987793
          ],
          [
           "Ecuador",
           5.809131145477295
          ],
          [
           "El Salvador",
           6.45482063293457
          ],
          [
           "Estonia",
           6.034641265869141
          ],
          [
           "Ethiopia",
           4.099555015563965
          ],
          [
           "Finland",
           7.78034782409668
          ],
          [
           "France",
           6.68964433670044
          ],
          [
           "Gabon",
           4.914393424987793
          ],
          [
           "Georgia",
           4.891835689544678
          ],
          [
           "Germany",
           7.035472393035889
          ],
          [
           "Ghana",
           4.966809749603272
          ],
          [
           "Greece",
           5.952157497406006
          ],
          [
           "Guatemala",
           6.2621750831604
          ],
          [
           "Guinea",
           4.767684459686279
          ],
          [
           "Honduras",
           5.930051326751709
          ],
          [
           "Hungary",
           6.000259876251221
          ],
          [
           "Iceland",
           7.532504558563232
          ],
          [
           "India",
           3.248769760131836
          ],
          [
           "Indonesia",
           5.346512794494629
          ],
          [
           "Ireland",
           7.254841327667236
          ],
          [
           "Israel",
           7.331779956817627
          ],
          [
           "Italy",
           6.445416927337647
          ],
          [
           "Jamaica",
           6.309238910675049
          ],
          [
           "Japan",
           5.908039093017578
          ],
          [
           "Jordan",
           4.452548027038574
          ],
          [
           "Kazakhstan",
           6.272268295288086
          ],
          [
           "Kenya",
           4.618850231170654
          ],
          [
           "Kuwait",
           6.106119632720947
          ],
          [
           "Latvia",
           5.969753742218018
          ],
          [
           "Lebanon",
           4.024219512939453
          ],
          [
           "Lesotho",
           3.5117805004119877
          ],
          [
           "Liberia",
           5.121460914611816
          ],
          [
           "Libya",
           5.330222129821777
          ],
          [
           "Lithuania",
           6.064097881317139
          ],
          [
           "Luxembourg",
           7.40401554107666
          ],
          [
           "Madagascar",
           4.33908748626709
          ],
          [
           "Malawi",
           3.869123697280884
          ],
          [
           "Malaysia",
           5.427954196929932
          ],
          [
           "Mali",
           4.987991809844971
          ],
          [
           "Malta",
           6.732977390289307
          ],
          [
           "Mauritania",
           4.152619361877441
          ],
          [
           "Mauritius",
           6.2411651611328125
          ],
          [
           "Mexico",
           6.431945323944092
          ],
          [
           "Moldova",
           5.803450584411621
          ],
          [
           "Mongolia",
           5.562905311584473
          ],
          [
           "Montenegro",
           5.386024951934815
          ],
          [
           "Morocco",
           5.056751728057861
          ],
          [
           "Mozambique",
           4.932132720947266
          ],
          [
           "Myanmar",
           4.434237480163574
          ],
          [
           "Namibia",
           6.425144195556641
          ],
          [
           "Nepal",
           5.448724746704102
          ],
          [
           "Netherlands",
           7.425268650054932
          ],
          [
           "New Zealand",
           7.205174446105957
          ],
          [
           "Nicaragua",
           6.112545013427734
          ],
          [
           "Niger",
           5.003544330596924
          ],
          [
           "Nigeria",
           4.266484260559082
          ],
          [
           "North Macedonia",
           5.015485286712647
          ],
          [
           "Norway",
           7.442139625549316
          ],
          [
           "Pakistan",
           4.442717552185059
          ],
          [
           "Panama",
           6.0859551429748535
          ],
          [
           "Paraguay",
           5.652625560760498
          ],
          [
           "Peru",
           5.9993815422058105
          ],
          [
           "Philippines",
           6.267745018005371
          ],
          [
           "Poland",
           6.242094039916992
          ],
          [
           "Portugal",
           6.095473289489746
          ],
          [
           "Romania",
           6.129942417144775
          ],
          [
           "Rwanda",
           3.268152236938477
          ],
          [
           "Saudi Arabia",
           6.5612473487854
          ],
          [
           "Senegal",
           5.488736629486084
          ],
          [
           "Serbia",
           6.24140739440918
          ],
          [
           "Sierra Leone",
           3.447381496429444
          ],
          [
           "Singapore",
           6.378359794616699
          ],
          [
           "Slovenia",
           6.665273666381836
          ],
          [
           "South Africa",
           5.034863471984863
          ],
          [
           "Spain",
           6.457449436187744
          ],
          [
           "Sri Lanka",
           4.21329927444458
          ],
          [
           "Swaziland",
           4.396114826202393
          ],
          [
           "Sweden",
           7.398092746734619
          ],
          [
           "Switzerland",
           7.694221019744873
          ],
          [
           "Tajikistan",
           5.464015483856201
          ],
          [
           "Tanzania",
           3.640154838562012
          ],
          [
           "Thailand",
           6.022151470184326
          ],
          [
           "Togo",
           4.1794939041137695
          ],
          [
           "Tunisia",
           4.315479755401611
          ],
          [
           "Turkey",
           4.872073650360107
          ],
          [
           "Turkmenistan",
           5.474299907684326
          ],
          [
           "USA",
           6.943701267242432
          ],
          [
           "Uganda",
           4.948051452636719
          ],
          [
           "Ukraine",
           4.701762199401856
          ],
          [
           "United Arab Emirates",
           6.710782527923584
          ],
          [
           "United Kingdom",
           7.157151222229004
          ],
          [
           "Uruguay",
           6.600337028503418
          ],
          [
           "Uzbekistan",
           6.154049396514893
          ],
          [
           "Zambia",
           3.3067965507507324
          ],
          [
           "Zimbabwe",
           2.6935231685638428
          ],
          [
           "(?)",
           4.44115741860725
          ],
          [
           "(?)",
           6.5546500889736174
          ],
          [
           "(?)",
           4.561026414956758
          ],
          [
           "(?)",
           6.6942611086347865
          ],
          [
           "(?)",
           7.229261917709267
          ],
          [
           "(?)",
           5.005600392304575
          ]
         ],
         "domain": {
          "x": [
           0,
           1
          ],
          "y": [
           0,
           1
          ]
         },
         "hovertemplate": "labels=%{label}<br>pop=%{value}<br>parent=%{parent}<br>id=%{id}<br>country=%{customdata[0]}<br>Life Ladder=%{color}<extra></extra>",
         "ids": [
          "world/Asia/Afghanistan",
          "world/Europe/Albania",
          "world/Africa/Algeria",
          "world/Americas/Argentina",
          "world/Asia/Armenia",
          "world/Oceania/Australia",
          "world/Europe/Austria",
          "world/Asia/Azerbaijan",
          "world/Asia/Bahrain",
          "world/Asia/Bangladesh",
          "world/Asia/Belarus",
          "world/Europe/Belgium",
          "world/Africa/Benin",
          "world/Americas/Bolivia",
          "world/Europe/Bosnia and Herzegovina",
          "world/Africa/Botswana",
          "world/Americas/Brazil",
          "world/Europe/Bulgaria",
          "world/Africa/Burkina Faso",
          "world/Asia/Cambodia",
          "world/Africa/Cameroon",
          "world/Americas/Canada",
          "world/Africa/Chad",
          "world/Americas/Chile",
          "world/Asia/China",
          "world/Americas/Colombia",
          "world/Africa/Comoros",
          "world/Americas/Costa Rica",
          "world/Europe/Croatia",
          "world/Europe/Cyprus",
          "world/Europe/Denmark",
          "world/Americas/Dominican Republic",
          "world/Americas/Ecuador",
          "world/Americas/El Salvador",
          "world/Europe/Estonia",
          "world/Africa/Ethiopia",
          "world/Europe/Finland",
          "world/Europe/France",
          "world/Africa/Gabon",
          "world/Asia/Georgia",
          "world/Europe/Germany",
          "world/Africa/Ghana",
          "world/Europe/Greece",
          "world/Americas/Guatemala",
          "world/Africa/Guinea",
          "world/Americas/Honduras",
          "world/Europe/Hungary",
          "world/Europe/Iceland",
          "world/Asia/India",
          "world/Asia/Indonesia",
          "world/Europe/Ireland",
          "world/Asia/Israel",
          "world/Europe/Italy",
          "world/Americas/Jamaica",
          "world/Asia/Japan",
          "world/Asia/Jordan",
          "world/Asia/Kazakhstan",
          "world/Africa/Kenya",
          "world/Asia/Kuwait",
          "world/Europe/Latvia",
          "world/Asia/Lebanon",
          "world/Africa/Lesotho",
          "world/Africa/Liberia",
          "world/Africa/Libya",
          "world/Europe/Lithuania",
          "world/Europe/Luxembourg",
          "world/Africa/Madagascar",
          "world/Africa/Malawi",
          "world/Asia/Malaysia",
          "world/Africa/Mali",
          "world/Europe/Malta",
          "world/Africa/Mauritania",
          "world/Africa/Mauritius",
          "world/Americas/Mexico",
          "world/Europe/Moldova",
          "world/Asia/Mongolia",
          "world/Europe/Montenegro",
          "world/Africa/Morocco",
          "world/Africa/Mozambique",
          "world/Asia/Myanmar",
          "world/Africa/Namibia",
          "world/Asia/Nepal",
          "world/Europe/Netherlands",
          "world/Oceania/New Zealand",
          "world/Americas/Nicaragua",
          "world/Africa/Niger",
          "world/Africa/Nigeria",
          "world/Europe/North Macedonia",
          "world/Europe/Norway",
          "world/Asia/Pakistan",
          "world/Americas/Panama",
          "world/Americas/Paraguay",
          "world/Americas/Peru",
          "world/Asia/Philippines",
          "world/Europe/Poland",
          "world/Europe/Portugal",
          "world/Europe/Romania",
          "world/Africa/Rwanda",
          "world/Asia/Saudi Arabia",
          "world/Africa/Senegal",
          "world/Europe/Serbia",
          "world/Africa/Sierra Leone",
          "world/Asia/Singapore",
          "world/Europe/Slovenia",
          "world/Africa/South Africa",
          "world/Europe/Spain",
          "world/Asia/Sri Lanka",
          "world/Africa/Swaziland",
          "world/Europe/Sweden",
          "world/Europe/Switzerland",
          "world/Asia/Tajikistan",
          "world/Africa/Tanzania",
          "world/Asia/Thailand",
          "world/Africa/Togo",
          "world/Africa/Tunisia",
          "world/Asia/Turkey",
          "world/Asia/Turkmenistan",
          "world/Americas/USA",
          "world/Africa/Uganda",
          "world/Asia/Ukraine",
          "world/Asia/United Arab Emirates",
          "world/Europe/United Kingdom",
          "world/Americas/Uruguay",
          "world/Asia/Uzbekistan",
          "world/Africa/Zambia",
          "world/Africa/Zimbabwe",
          "world/Africa",
          "world/Americas",
          "world/Asia",
          "world/Europe",
          "world/Oceania",
          "world"
         ],
         "labels": [
          "Afghanistan",
          "Albania",
          "Algeria",
          "Argentina",
          "Armenia",
          "Australia",
          "Austria",
          "Azerbaijan",
          "Bahrain",
          "Bangladesh",
          "Belarus",
          "Belgium",
          "Benin",
          "Bolivia",
          "Bosnia and Herzegovina",
          "Botswana",
          "Brazil",
          "Bulgaria",
          "Burkina Faso",
          "Cambodia",
          "Cameroon",
          "Canada",
          "Chad",
          "Chile",
          "China",
          "Colombia",
          "Comoros",
          "Costa Rica",
          "Croatia",
          "Cyprus",
          "Denmark",
          "Dominican Republic",
          "Ecuador",
          "El Salvador",
          "Estonia",
          "Ethiopia",
          "Finland",
          "France",
          "Gabon",
          "Georgia",
          "Germany",
          "Ghana",
          "Greece",
          "Guatemala",
          "Guinea",
          "Honduras",
          "Hungary",
          "Iceland",
          "India",
          "Indonesia",
          "Ireland",
          "Israel",
          "Italy",
          "Jamaica",
          "Japan",
          "Jordan",
          "Kazakhstan",
          "Kenya",
          "Kuwait",
          "Latvia",
          "Lebanon",
          "Lesotho",
          "Liberia",
          "Libya",
          "Lithuania",
          "Luxembourg",
          "Madagascar",
          "Malawi",
          "Malaysia",
          "Mali",
          "Malta",
          "Mauritania",
          "Mauritius",
          "Mexico",
          "Moldova",
          "Mongolia",
          "Montenegro",
          "Morocco",
          "Mozambique",
          "Myanmar",
          "Namibia",
          "Nepal",
          "Netherlands",
          "New Zealand",
          "Nicaragua",
          "Niger",
          "Nigeria",
          "North Macedonia",
          "Norway",
          "Pakistan",
          "Panama",
          "Paraguay",
          "Peru",
          "Philippines",
          "Poland",
          "Portugal",
          "Romania",
          "Rwanda",
          "Saudi Arabia",
          "Senegal",
          "Serbia",
          "Sierra Leone",
          "Singapore",
          "Slovenia",
          "South Africa",
          "Spain",
          "Sri Lanka",
          "Swaziland",
          "Sweden",
          "Switzerland",
          "Tajikistan",
          "Tanzania",
          "Thailand",
          "Togo",
          "Tunisia",
          "Turkey",
          "Turkmenistan",
          "USA",
          "Uganda",
          "Ukraine",
          "United Arab Emirates",
          "United Kingdom",
          "Uruguay",
          "Uzbekistan",
          "Zambia",
          "Zimbabwe",
          "Africa",
          "Americas",
          "Asia",
          "Europe",
          "Oceania",
          "world"
         ],
         "marker": {
          "coloraxis": "coloraxis",
          "colors": [
           2.375091791152954,
           4.995317935943604,
           4.744627475738525,
           6.08556079864502,
           5.488086700439453,
           7.233994960784912,
           7.195361137390137,
           5.173389434814453,
           7.098012447357178,
           5.1142168045043945,
           5.821453094482422,
           6.7721381187438965,
           4.97636079788208,
           5.6742706298828125,
           6.015522480010986,
           3.4710848331451416,
           6.451148986816406,
           5.108438014984131,
           4.740892887115479,
           4.998284816741943,
           4.936737537384033,
           7.109076499938965,
           4.250799179077148,
           5.94225025177002,
           5.144120216369629,
           6.350297927856445,
           4.608616352081299,
           6.997618675231934,
           5.625743865966797,
           6.1368327140808105,
           7.693003177642822,
           6.004237174987793,
           5.809131145477295,
           6.45482063293457,
           6.034641265869141,
           4.099555015563965,
           7.78034782409668,
           6.68964433670044,
           4.914393424987793,
           4.891835689544678,
           7.035472393035889,
           4.966809749603272,
           5.952157497406006,
           6.2621750831604,
           4.767684459686279,
           5.930051326751709,
           6.000259876251221,
           7.532504558563232,
           3.248769760131836,
           5.346512794494629,
           7.254841327667236,
           7.331779956817627,
           6.445416927337647,
           6.309238910675049,
           5.908039093017578,
           4.452548027038574,
           6.272268295288086,
           4.618850231170654,
           6.106119632720947,
           5.969753742218018,
           4.024219512939453,
           3.5117805004119877,
           5.121460914611816,
           5.330222129821777,
           6.064097881317139,
           7.40401554107666,
           4.33908748626709,
           3.869123697280884,
           5.427954196929932,
           4.987991809844971,
           6.732977390289307,
           4.152619361877441,
           6.2411651611328125,
           6.431945323944092,
           5.803450584411621,
           5.562905311584473,
           5.386024951934815,
           5.056751728057861,
           4.932132720947266,
           4.434237480163574,
           6.425144195556641,
           5.448724746704102,
           7.425268650054932,
           7.205174446105957,
           6.112545013427734,
           5.003544330596924,
           4.266484260559082,
           5.015485286712647,
           7.442139625549316,
           4.442717552185059,
           6.0859551429748535,
           5.652625560760498,
           5.9993815422058105,
           6.267745018005371,
           6.242094039916992,
           6.095473289489746,
           6.129942417144775,
           3.268152236938477,
           6.5612473487854,
           5.488736629486084,
           6.24140739440918,
           3.447381496429444,
           6.378359794616699,
           6.665273666381836,
           5.034863471984863,
           6.457449436187744,
           4.21329927444458,
           4.396114826202393,
           7.398092746734619,
           7.694221019744873,
           5.464015483856201,
           3.640154838562012,
           6.022151470184326,
           4.1794939041137695,
           4.315479755401611,
           4.872073650360107,
           5.474299907684326,
           6.943701267242432,
           4.948051452636719,
           4.701762199401856,
           6.710782527923584,
           7.157151222229004,
           6.600337028503418,
           6.154049396514893,
           3.3067965507507324,
           2.6935231685638428,
           4.44115741860725,
           6.5546500889736174,
           4.561026414956758,
           6.6942611086347865,
           7.229261917709267,
           5.005600392304575
          ]
         },
         "name": "",
         "parents": [
          "world/Asia",
          "world/Europe",
          "world/Africa",
          "world/Americas",
          "world/Asia",
          "world/Oceania",
          "world/Europe",
          "world/Asia",
          "world/Asia",
          "world/Asia",
          "world/Asia",
          "world/Europe",
          "world/Africa",
          "world/Americas",
          "world/Europe",
          "world/Africa",
          "world/Americas",
          "world/Europe",
          "world/Africa",
          "world/Asia",
          "world/Africa",
          "world/Americas",
          "world/Africa",
          "world/Americas",
          "world/Asia",
          "world/Americas",
          "world/Africa",
          "world/Americas",
          "world/Europe",
          "world/Europe",
          "world/Europe",
          "world/Americas",
          "world/Americas",
          "world/Americas",
          "world/Europe",
          "world/Africa",
          "world/Europe",
          "world/Europe",
          "world/Africa",
          "world/Asia",
          "world/Europe",
          "world/Africa",
          "world/Europe",
          "world/Americas",
          "world/Africa",
          "world/Americas",
          "world/Europe",
          "world/Europe",
          "world/Asia",
          "world/Asia",
          "world/Europe",
          "world/Asia",
          "world/Europe",
          "world/Americas",
          "world/Asia",
          "world/Asia",
          "world/Asia",
          "world/Africa",
          "world/Asia",
          "world/Europe",
          "world/Asia",
          "world/Africa",
          "world/Africa",
          "world/Africa",
          "world/Europe",
          "world/Europe",
          "world/Africa",
          "world/Africa",
          "world/Asia",
          "world/Africa",
          "world/Europe",
          "world/Africa",
          "world/Africa",
          "world/Americas",
          "world/Europe",
          "world/Asia",
          "world/Europe",
          "world/Africa",
          "world/Africa",
          "world/Asia",
          "world/Africa",
          "world/Asia",
          "world/Europe",
          "world/Oceania",
          "world/Americas",
          "world/Africa",
          "world/Africa",
          "world/Europe",
          "world/Europe",
          "world/Asia",
          "world/Americas",
          "world/Americas",
          "world/Americas",
          "world/Asia",
          "world/Europe",
          "world/Europe",
          "world/Europe",
          "world/Africa",
          "world/Asia",
          "world/Africa",
          "world/Europe",
          "world/Africa",
          "world/Asia",
          "world/Europe",
          "world/Africa",
          "world/Europe",
          "world/Asia",
          "world/Africa",
          "world/Europe",
          "world/Europe",
          "world/Asia",
          "world/Africa",
          "world/Asia",
          "world/Africa",
          "world/Africa",
          "world/Asia",
          "world/Asia",
          "world/Americas",
          "world/Africa",
          "world/Asia",
          "world/Asia",
          "world/Europe",
          "world/Americas",
          "world/Asia",
          "world/Africa",
          "world/Africa",
          "world",
          "world",
          "world",
          "world",
          "world",
          ""
         ],
         "type": "treemap",
         "values": [
          37769499,
          2854191,
          42705368,
          44938712,
          2820602,
          25340217,
          8879920,
          10024283,
          1494188,
          165516222,
          9419758,
          11488980,
          12290444,
          11777315,
          3360711,
          2499702,
          211782878,
          6975761,
          20951639,
          16207746,
          25782341,
          37601230,
          16126866,
          19039485,
          1407745000,
          50187406,
          790986,
          5084532,
          4065253,
          1228836,
          5814422,
          10881882,
          17343740,
          6280217,
          1326898,
          114120594,
          5521606,
          67388001,
          2242785,
          3720161,
          83092962,
          31522290,
          10721582,
          16604026,
          12877539,
          9958829,
          9771141,
          360563,
          1383112050,
          269582878,
          4934340,
          9054000,
          59729081,
          2813773,
          126633000,
          10698683,
          18513673,
          50951450,
          4441100,
          1913822,
          5781907,
          2225702,
          4985289,
          6569088,
          2794137,
          620001,
          27533134,
          18867337,
          32804020,
          20567424,
          504062,
          4383849,
          1265985,
          125085311,
          2664224,
          3232430,
          622028,
          36304408,
          30285595,
          53040212,
          1788878,
          28832496,
          17344874,
          4979200,
          6663924,
          23443393,
          203304492,
          2076694,
          5347896,
          223293280,
          4232532,
          6530026,
          32824861,
          110380804,
          37965475,
          10286263,
          19371648,
          12835028,
          35827362,
          16000781,
          6945235,
          8046828,
          5703569,
          2088385,
          58087055,
          47134837,
          21803000,
          1169613,
          10278887,
          8575280,
          9337003,
          59872579,
          71307763,
          8243094,
          12049314,
          83481684,
          6158420,
          328329953,
          42949080,
          44386203,
          9211657,
          66836327,
          3428409,
          33580350,
          18380477,
          15354608,
          967375035,
          951389041,
          4254915003,
          530884323,
          30319417,
          6734882819
         ]
        }
       ],
       "layout": {
        "coloraxis": {
         "cmax": 8,
         "cmid": 5.005600392304575,
         "cmin": 3,
         "colorbar": {
          "title": {
           "text": "Life Ladder"
          }
         },
         "colorscale": [
          [
           0,
           "#440154"
          ],
          [
           0.1111111111111111,
           "#482878"
          ],
          [
           0.2222222222222222,
           "#3e4989"
          ],
          [
           0.3333333333333333,
           "#31688e"
          ],
          [
           0.4444444444444444,
           "#26828e"
          ],
          [
           0.5555555555555556,
           "#1f9e89"
          ],
          [
           0.6666666666666666,
           "#35b779"
          ],
          [
           0.7777777777777778,
           "#6ece58"
          ],
          [
           0.8888888888888888,
           "#b5de2b"
          ],
          [
           1,
           "#fde725"
          ]
         ]
        },
        "legend": {
         "tracegroupgap": 0
        },
        "template": {
         "data": {
          "bar": [
           {
            "error_x": {
             "color": "#2a3f5f"
            },
            "error_y": {
             "color": "#2a3f5f"
            },
            "marker": {
             "line": {
              "color": "#E5ECF6",
              "width": 0.5
             },
             "pattern": {
              "fillmode": "overlay",
              "size": 10,
              "solidity": 0.2
             }
            },
            "type": "bar"
           }
          ],
          "barpolar": [
           {
            "marker": {
             "line": {
              "color": "#E5ECF6",
              "width": 0.5
             },
             "pattern": {
              "fillmode": "overlay",
              "size": 10,
              "solidity": 0.2
             }
            },
            "type": "barpolar"
           }
          ],
          "carpet": [
           {
            "aaxis": {
             "endlinecolor": "#2a3f5f",
             "gridcolor": "white",
             "linecolor": "white",
             "minorgridcolor": "white",
             "startlinecolor": "#2a3f5f"
            },
            "baxis": {
             "endlinecolor": "#2a3f5f",
             "gridcolor": "white",
             "linecolor": "white",
             "minorgridcolor": "white",
             "startlinecolor": "#2a3f5f"
            },
            "type": "carpet"
           }
          ],
          "choropleth": [
           {
            "colorbar": {
             "outlinewidth": 0,
             "ticks": ""
            },
            "type": "choropleth"
           }
          ],
          "contour": [
           {
            "colorbar": {
             "outlinewidth": 0,
             "ticks": ""
            },
            "colorscale": [
             [
              0,
              "#0d0887"
             ],
             [
              0.1111111111111111,
              "#46039f"
             ],
             [
              0.2222222222222222,
              "#7201a8"
             ],
             [
              0.3333333333333333,
              "#9c179e"
             ],
             [
              0.4444444444444444,
              "#bd3786"
             ],
             [
              0.5555555555555556,
              "#d8576b"
             ],
             [
              0.6666666666666666,
              "#ed7953"
             ],
             [
              0.7777777777777778,
              "#fb9f3a"
             ],
             [
              0.8888888888888888,
              "#fdca26"
             ],
             [
              1,
              "#f0f921"
             ]
            ],
            "type": "contour"
           }
          ],
          "contourcarpet": [
           {
            "colorbar": {
             "outlinewidth": 0,
             "ticks": ""
            },
            "type": "contourcarpet"
           }
          ],
          "heatmap": [
           {
            "colorbar": {
             "outlinewidth": 0,
             "ticks": ""
            },
            "colorscale": [
             [
              0,
              "#0d0887"
             ],
             [
              0.1111111111111111,
              "#46039f"
             ],
             [
              0.2222222222222222,
              "#7201a8"
             ],
             [
              0.3333333333333333,
              "#9c179e"
             ],
             [
              0.4444444444444444,
              "#bd3786"
             ],
             [
              0.5555555555555556,
              "#d8576b"
             ],
             [
              0.6666666666666666,
              "#ed7953"
             ],
             [
              0.7777777777777778,
              "#fb9f3a"
             ],
             [
              0.8888888888888888,
              "#fdca26"
             ],
             [
              1,
              "#f0f921"
             ]
            ],
            "type": "heatmap"
           }
          ],
          "heatmapgl": [
           {
            "colorbar": {
             "outlinewidth": 0,
             "ticks": ""
            },
            "colorscale": [
             [
              0,
              "#0d0887"
             ],
             [
              0.1111111111111111,
              "#46039f"
             ],
             [
              0.2222222222222222,
              "#7201a8"
             ],
             [
              0.3333333333333333,
              "#9c179e"
             ],
             [
              0.4444444444444444,
              "#bd3786"
             ],
             [
              0.5555555555555556,
              "#d8576b"
             ],
             [
              0.6666666666666666,
              "#ed7953"
             ],
             [
              0.7777777777777778,
              "#fb9f3a"
             ],
             [
              0.8888888888888888,
              "#fdca26"
             ],
             [
              1,
              "#f0f921"
             ]
            ],
            "type": "heatmapgl"
           }
          ],
          "histogram": [
           {
            "marker": {
             "pattern": {
              "fillmode": "overlay",
              "size": 10,
              "solidity": 0.2
             }
            },
            "type": "histogram"
           }
          ],
          "histogram2d": [
           {
            "colorbar": {
             "outlinewidth": 0,
             "ticks": ""
            },
            "colorscale": [
             [
              0,
              "#0d0887"
             ],
             [
              0.1111111111111111,
              "#46039f"
             ],
             [
              0.2222222222222222,
              "#7201a8"
             ],
             [
              0.3333333333333333,
              "#9c179e"
             ],
             [
              0.4444444444444444,
              "#bd3786"
             ],
             [
              0.5555555555555556,
              "#d8576b"
             ],
             [
              0.6666666666666666,
              "#ed7953"
             ],
             [
              0.7777777777777778,
              "#fb9f3a"
             ],
             [
              0.8888888888888888,
              "#fdca26"
             ],
             [
              1,
              "#f0f921"
             ]
            ],
            "type": "histogram2d"
           }
          ],
          "histogram2dcontour": [
           {
            "colorbar": {
             "outlinewidth": 0,
             "ticks": ""
            },
            "colorscale": [
             [
              0,
              "#0d0887"
             ],
             [
              0.1111111111111111,
              "#46039f"
             ],
             [
              0.2222222222222222,
              "#7201a8"
             ],
             [
              0.3333333333333333,
              "#9c179e"
             ],
             [
              0.4444444444444444,
              "#bd3786"
             ],
             [
              0.5555555555555556,
              "#d8576b"
             ],
             [
              0.6666666666666666,
              "#ed7953"
             ],
             [
              0.7777777777777778,
              "#fb9f3a"
             ],
             [
              0.8888888888888888,
              "#fdca26"
             ],
             [
              1,
              "#f0f921"
             ]
            ],
            "type": "histogram2dcontour"
           }
          ],
          "mesh3d": [
           {
            "colorbar": {
             "outlinewidth": 0,
             "ticks": ""
            },
            "type": "mesh3d"
           }
          ],
          "parcoords": [
           {
            "line": {
             "colorbar": {
              "outlinewidth": 0,
              "ticks": ""
             }
            },
            "type": "parcoords"
           }
          ],
          "pie": [
           {
            "automargin": true,
            "type": "pie"
           }
          ],
          "scatter": [
           {
            "fillpattern": {
             "fillmode": "overlay",
             "size": 10,
             "solidity": 0.2
            },
            "type": "scatter"
           }
          ],
          "scatter3d": [
           {
            "line": {
             "colorbar": {
              "outlinewidth": 0,
              "ticks": ""
             }
            },
            "marker": {
             "colorbar": {
              "outlinewidth": 0,
              "ticks": ""
             }
            },
            "type": "scatter3d"
           }
          ],
          "scattercarpet": [
           {
            "marker": {
             "colorbar": {
              "outlinewidth": 0,
              "ticks": ""
             }
            },
            "type": "scattercarpet"
           }
          ],
          "scattergeo": [
           {
            "marker": {
             "colorbar": {
              "outlinewidth": 0,
              "ticks": ""
             }
            },
            "type": "scattergeo"
           }
          ],
          "scattergl": [
           {
            "marker": {
             "colorbar": {
              "outlinewidth": 0,
              "ticks": ""
             }
            },
            "type": "scattergl"
           }
          ],
          "scattermapbox": [
           {
            "marker": {
             "colorbar": {
              "outlinewidth": 0,
              "ticks": ""
             }
            },
            "type": "scattermapbox"
           }
          ],
          "scatterpolar": [
           {
            "marker": {
             "colorbar": {
              "outlinewidth": 0,
              "ticks": ""
             }
            },
            "type": "scatterpolar"
           }
          ],
          "scatterpolargl": [
           {
            "marker": {
             "colorbar": {
              "outlinewidth": 0,
              "ticks": ""
             }
            },
            "type": "scatterpolargl"
           }
          ],
          "scatterternary": [
           {
            "marker": {
             "colorbar": {
              "outlinewidth": 0,
              "ticks": ""
             }
            },
            "type": "scatterternary"
           }
          ],
          "surface": [
           {
            "colorbar": {
             "outlinewidth": 0,
             "ticks": ""
            },
            "colorscale": [
             [
              0,
              "#0d0887"
             ],
             [
              0.1111111111111111,
              "#46039f"
             ],
             [
              0.2222222222222222,
              "#7201a8"
             ],
             [
              0.3333333333333333,
              "#9c179e"
             ],
             [
              0.4444444444444444,
              "#bd3786"
             ],
             [
              0.5555555555555556,
              "#d8576b"
             ],
             [
              0.6666666666666666,
              "#ed7953"
             ],
             [
              0.7777777777777778,
              "#fb9f3a"
             ],
             [
              0.8888888888888888,
              "#fdca26"
             ],
             [
              1,
              "#f0f921"
             ]
            ],
            "type": "surface"
           }
          ],
          "table": [
           {
            "cells": {
             "fill": {
              "color": "#EBF0F8"
             },
             "line": {
              "color": "white"
             }
            },
            "header": {
             "fill": {
              "color": "#C8D4E3"
             },
             "line": {
              "color": "white"
             }
            },
            "type": "table"
           }
          ]
         },
         "layout": {
          "annotationdefaults": {
           "arrowcolor": "#2a3f5f",
           "arrowhead": 0,
           "arrowwidth": 1
          },
          "autotypenumbers": "strict",
          "coloraxis": {
           "colorbar": {
            "outlinewidth": 0,
            "ticks": ""
           }
          },
          "colorscale": {
           "diverging": [
            [
             0,
             "#8e0152"
            ],
            [
             0.1,
             "#c51b7d"
            ],
            [
             0.2,
             "#de77ae"
            ],
            [
             0.3,
             "#f1b6da"
            ],
            [
             0.4,
             "#fde0ef"
            ],
            [
             0.5,
             "#f7f7f7"
            ],
            [
             0.6,
             "#e6f5d0"
            ],
            [
             0.7,
             "#b8e186"
            ],
            [
             0.8,
             "#7fbc41"
            ],
            [
             0.9,
             "#4d9221"
            ],
            [
             1,
             "#276419"
            ]
           ],
           "sequential": [
            [
             0,
             "#0d0887"
            ],
            [
             0.1111111111111111,
             "#46039f"
            ],
            [
             0.2222222222222222,
             "#7201a8"
            ],
            [
             0.3333333333333333,
             "#9c179e"
            ],
            [
             0.4444444444444444,
             "#bd3786"
            ],
            [
             0.5555555555555556,
             "#d8576b"
            ],
            [
             0.6666666666666666,
             "#ed7953"
            ],
            [
             0.7777777777777778,
             "#fb9f3a"
            ],
            [
             0.8888888888888888,
             "#fdca26"
            ],
            [
             1,
             "#f0f921"
            ]
           ],
           "sequentialminus": [
            [
             0,
             "#0d0887"
            ],
            [
             0.1111111111111111,
             "#46039f"
            ],
            [
             0.2222222222222222,
             "#7201a8"
            ],
            [
             0.3333333333333333,
             "#9c179e"
            ],
            [
             0.4444444444444444,
             "#bd3786"
            ],
            [
             0.5555555555555556,
             "#d8576b"
            ],
            [
             0.6666666666666666,
             "#ed7953"
            ],
            [
             0.7777777777777778,
             "#fb9f3a"
            ],
            [
             0.8888888888888888,
             "#fdca26"
            ],
            [
             1,
             "#f0f921"
            ]
           ]
          },
          "colorway": [
           "#636efa",
           "#EF553B",
           "#00cc96",
           "#ab63fa",
           "#FFA15A",
           "#19d3f3",
           "#FF6692",
           "#B6E880",
           "#FF97FF",
           "#FECB52"
          ],
          "font": {
           "color": "#2a3f5f"
          },
          "geo": {
           "bgcolor": "white",
           "lakecolor": "white",
           "landcolor": "#E5ECF6",
           "showlakes": true,
           "showland": true,
           "subunitcolor": "white"
          },
          "hoverlabel": {
           "align": "left"
          },
          "hovermode": "closest",
          "mapbox": {
           "style": "light"
          },
          "paper_bgcolor": "white",
          "plot_bgcolor": "#E5ECF6",
          "polar": {
           "angularaxis": {
            "gridcolor": "white",
            "linecolor": "white",
            "ticks": ""
           },
           "bgcolor": "#E5ECF6",
           "radialaxis": {
            "gridcolor": "white",
            "linecolor": "white",
            "ticks": ""
           }
          },
          "scene": {
           "xaxis": {
            "backgroundcolor": "#E5ECF6",
            "gridcolor": "white",
            "gridwidth": 2,
            "linecolor": "white",
            "showbackground": true,
            "ticks": "",
            "zerolinecolor": "white"
           },
           "yaxis": {
            "backgroundcolor": "#E5ECF6",
            "gridcolor": "white",
            "gridwidth": 2,
            "linecolor": "white",
            "showbackground": true,
            "ticks": "",
            "zerolinecolor": "white"
           },
           "zaxis": {
            "backgroundcolor": "#E5ECF6",
            "gridcolor": "white",
            "gridwidth": 2,
            "linecolor": "white",
            "showbackground": true,
            "ticks": "",
            "zerolinecolor": "white"
           }
          },
          "shapedefaults": {
           "line": {
            "color": "#2a3f5f"
           }
          },
          "ternary": {
           "aaxis": {
            "gridcolor": "white",
            "linecolor": "white",
            "ticks": ""
           },
           "baxis": {
            "gridcolor": "white",
            "linecolor": "white",
            "ticks": ""
           },
           "bgcolor": "#E5ECF6",
           "caxis": {
            "gridcolor": "white",
            "linecolor": "white",
            "ticks": ""
           }
          },
          "title": {
           "x": 0.05
          },
          "xaxis": {
           "automargin": true,
           "gridcolor": "white",
           "linecolor": "white",
           "ticks": "",
           "title": {
            "standoff": 15
           },
           "zerolinecolor": "white",
           "zerolinewidth": 2
          },
          "yaxis": {
           "automargin": true,
           "gridcolor": "white",
           "linecolor": "white",
           "ticks": "",
           "title": {
            "standoff": 15
           },
           "zerolinecolor": "white",
           "zerolinewidth": 2
          }
         }
        },
        "title": {
         "text": "2019"
        },
        "width": 700
       }
      },
      "text/html": [
       "<div>                            <div id=\"c644900c-61df-4aa8-9014-a5bb9cb17bc1\" class=\"plotly-graph-div\" style=\"height:525px; width:700px;\"></div>            <script type=\"text/javascript\">                require([\"plotly\"], function(Plotly) {                    window.PLOTLYENV=window.PLOTLYENV || {};                                    if (document.getElementById(\"c644900c-61df-4aa8-9014-a5bb9cb17bc1\")) {                    Plotly.newPlot(                        \"c644900c-61df-4aa8-9014-a5bb9cb17bc1\",                        [{\"branchvalues\":\"total\",\"customdata\":[[\"Afghanistan\",2.375091791152954],[\"Albania\",4.995317935943604],[\"Algeria\",4.744627475738525],[\"Argentina\",6.08556079864502],[\"Armenia\",5.488086700439453],[\"Australia\",7.233994960784912],[\"Austria\",7.195361137390137],[\"Azerbaijan\",5.173389434814453],[\"Bahrain\",7.098012447357178],[\"Bangladesh\",5.1142168045043945],[\"Belarus\",5.821453094482422],[\"Belgium\",6.7721381187438965],[\"Benin\",4.97636079788208],[\"Bolivia\",5.6742706298828125],[\"Bosnia and Herzegovina\",6.015522480010986],[\"Botswana\",3.4710848331451416],[\"Brazil\",6.451148986816406],[\"Bulgaria\",5.108438014984131],[\"Burkina Faso\",4.740892887115479],[\"Cambodia\",4.998284816741943],[\"Cameroon\",4.936737537384033],[\"Canada\",7.109076499938965],[\"Chad\",4.250799179077148],[\"Chile\",5.94225025177002],[\"China\",5.144120216369629],[\"Colombia\",6.350297927856445],[\"Comoros\",4.608616352081299],[\"Costa Rica\",6.997618675231934],[\"Croatia\",5.625743865966797],[\"Cyprus\",6.1368327140808105],[\"Denmark\",7.693003177642822],[\"Dominican Republic\",6.004237174987793],[\"Ecuador\",5.809131145477295],[\"El Salvador\",6.45482063293457],[\"Estonia\",6.034641265869141],[\"Ethiopia\",4.099555015563965],[\"Finland\",7.78034782409668],[\"France\",6.68964433670044],[\"Gabon\",4.914393424987793],[\"Georgia\",4.891835689544678],[\"Germany\",7.035472393035889],[\"Ghana\",4.966809749603272],[\"Greece\",5.952157497406006],[\"Guatemala\",6.2621750831604],[\"Guinea\",4.767684459686279],[\"Honduras\",5.930051326751709],[\"Hungary\",6.000259876251221],[\"Iceland\",7.532504558563232],[\"India\",3.248769760131836],[\"Indonesia\",5.346512794494629],[\"Ireland\",7.254841327667236],[\"Israel\",7.331779956817627],[\"Italy\",6.445416927337647],[\"Jamaica\",6.309238910675049],[\"Japan\",5.908039093017578],[\"Jordan\",4.452548027038574],[\"Kazakhstan\",6.272268295288086],[\"Kenya\",4.618850231170654],[\"Kuwait\",6.106119632720947],[\"Latvia\",5.969753742218018],[\"Lebanon\",4.024219512939453],[\"Lesotho\",3.5117805004119877],[\"Liberia\",5.121460914611816],[\"Libya\",5.330222129821777],[\"Lithuania\",6.064097881317139],[\"Luxembourg\",7.40401554107666],[\"Madagascar\",4.33908748626709],[\"Malawi\",3.869123697280884],[\"Malaysia\",5.427954196929932],[\"Mali\",4.987991809844971],[\"Malta\",6.732977390289307],[\"Mauritania\",4.152619361877441],[\"Mauritius\",6.2411651611328125],[\"Mexico\",6.431945323944092],[\"Moldova\",5.803450584411621],[\"Mongolia\",5.562905311584473],[\"Montenegro\",5.386024951934815],[\"Morocco\",5.056751728057861],[\"Mozambique\",4.932132720947266],[\"Myanmar\",4.434237480163574],[\"Namibia\",6.425144195556641],[\"Nepal\",5.448724746704102],[\"Netherlands\",7.425268650054932],[\"New Zealand\",7.205174446105957],[\"Nicaragua\",6.112545013427734],[\"Niger\",5.003544330596924],[\"Nigeria\",4.266484260559082],[\"North Macedonia\",5.015485286712647],[\"Norway\",7.442139625549316],[\"Pakistan\",4.442717552185059],[\"Panama\",6.0859551429748535],[\"Paraguay\",5.652625560760498],[\"Peru\",5.9993815422058105],[\"Philippines\",6.267745018005371],[\"Poland\",6.242094039916992],[\"Portugal\",6.095473289489746],[\"Romania\",6.129942417144775],[\"Rwanda\",3.268152236938477],[\"Saudi Arabia\",6.5612473487854],[\"Senegal\",5.488736629486084],[\"Serbia\",6.24140739440918],[\"Sierra Leone\",3.447381496429444],[\"Singapore\",6.378359794616699],[\"Slovenia\",6.665273666381836],[\"South Africa\",5.034863471984863],[\"Spain\",6.457449436187744],[\"Sri Lanka\",4.21329927444458],[\"Swaziland\",4.396114826202393],[\"Sweden\",7.398092746734619],[\"Switzerland\",7.694221019744873],[\"Tajikistan\",5.464015483856201],[\"Tanzania\",3.640154838562012],[\"Thailand\",6.022151470184326],[\"Togo\",4.1794939041137695],[\"Tunisia\",4.315479755401611],[\"Turkey\",4.872073650360107],[\"Turkmenistan\",5.474299907684326],[\"USA\",6.943701267242432],[\"Uganda\",4.948051452636719],[\"Ukraine\",4.701762199401856],[\"United Arab Emirates\",6.710782527923584],[\"United Kingdom\",7.157151222229004],[\"Uruguay\",6.600337028503418],[\"Uzbekistan\",6.154049396514893],[\"Zambia\",3.3067965507507324],[\"Zimbabwe\",2.6935231685638428],[\"(?)\",4.44115741860725],[\"(?)\",6.5546500889736174],[\"(?)\",4.561026414956758],[\"(?)\",6.6942611086347865],[\"(?)\",7.229261917709267],[\"(?)\",5.005600392304575]],\"domain\":{\"x\":[0.0,1.0],\"y\":[0.0,1.0]},\"hovertemplate\":\"labels=%{label}\\u003cbr\\u003epop=%{value}\\u003cbr\\u003eparent=%{parent}\\u003cbr\\u003eid=%{id}\\u003cbr\\u003ecountry=%{customdata[0]}\\u003cbr\\u003eLife Ladder=%{color}\\u003cextra\\u003e\\u003c\\u002fextra\\u003e\",\"ids\":[\"world\\u002fAsia\\u002fAfghanistan\",\"world\\u002fEurope\\u002fAlbania\",\"world\\u002fAfrica\\u002fAlgeria\",\"world\\u002fAmericas\\u002fArgentina\",\"world\\u002fAsia\\u002fArmenia\",\"world\\u002fOceania\\u002fAustralia\",\"world\\u002fEurope\\u002fAustria\",\"world\\u002fAsia\\u002fAzerbaijan\",\"world\\u002fAsia\\u002fBahrain\",\"world\\u002fAsia\\u002fBangladesh\",\"world\\u002fAsia\\u002fBelarus\",\"world\\u002fEurope\\u002fBelgium\",\"world\\u002fAfrica\\u002fBenin\",\"world\\u002fAmericas\\u002fBolivia\",\"world\\u002fEurope\\u002fBosnia and Herzegovina\",\"world\\u002fAfrica\\u002fBotswana\",\"world\\u002fAmericas\\u002fBrazil\",\"world\\u002fEurope\\u002fBulgaria\",\"world\\u002fAfrica\\u002fBurkina Faso\",\"world\\u002fAsia\\u002fCambodia\",\"world\\u002fAfrica\\u002fCameroon\",\"world\\u002fAmericas\\u002fCanada\",\"world\\u002fAfrica\\u002fChad\",\"world\\u002fAmericas\\u002fChile\",\"world\\u002fAsia\\u002fChina\",\"world\\u002fAmericas\\u002fColombia\",\"world\\u002fAfrica\\u002fComoros\",\"world\\u002fAmericas\\u002fCosta Rica\",\"world\\u002fEurope\\u002fCroatia\",\"world\\u002fEurope\\u002fCyprus\",\"world\\u002fEurope\\u002fDenmark\",\"world\\u002fAmericas\\u002fDominican Republic\",\"world\\u002fAmericas\\u002fEcuador\",\"world\\u002fAmericas\\u002fEl Salvador\",\"world\\u002fEurope\\u002fEstonia\",\"world\\u002fAfrica\\u002fEthiopia\",\"world\\u002fEurope\\u002fFinland\",\"world\\u002fEurope\\u002fFrance\",\"world\\u002fAfrica\\u002fGabon\",\"world\\u002fAsia\\u002fGeorgia\",\"world\\u002fEurope\\u002fGermany\",\"world\\u002fAfrica\\u002fGhana\",\"world\\u002fEurope\\u002fGreece\",\"world\\u002fAmericas\\u002fGuatemala\",\"world\\u002fAfrica\\u002fGuinea\",\"world\\u002fAmericas\\u002fHonduras\",\"world\\u002fEurope\\u002fHungary\",\"world\\u002fEurope\\u002fIceland\",\"world\\u002fAsia\\u002fIndia\",\"world\\u002fAsia\\u002fIndonesia\",\"world\\u002fEurope\\u002fIreland\",\"world\\u002fAsia\\u002fIsrael\",\"world\\u002fEurope\\u002fItaly\",\"world\\u002fAmericas\\u002fJamaica\",\"world\\u002fAsia\\u002fJapan\",\"world\\u002fAsia\\u002fJordan\",\"world\\u002fAsia\\u002fKazakhstan\",\"world\\u002fAfrica\\u002fKenya\",\"world\\u002fAsia\\u002fKuwait\",\"world\\u002fEurope\\u002fLatvia\",\"world\\u002fAsia\\u002fLebanon\",\"world\\u002fAfrica\\u002fLesotho\",\"world\\u002fAfrica\\u002fLiberia\",\"world\\u002fAfrica\\u002fLibya\",\"world\\u002fEurope\\u002fLithuania\",\"world\\u002fEurope\\u002fLuxembourg\",\"world\\u002fAfrica\\u002fMadagascar\",\"world\\u002fAfrica\\u002fMalawi\",\"world\\u002fAsia\\u002fMalaysia\",\"world\\u002fAfrica\\u002fMali\",\"world\\u002fEurope\\u002fMalta\",\"world\\u002fAfrica\\u002fMauritania\",\"world\\u002fAfrica\\u002fMauritius\",\"world\\u002fAmericas\\u002fMexico\",\"world\\u002fEurope\\u002fMoldova\",\"world\\u002fAsia\\u002fMongolia\",\"world\\u002fEurope\\u002fMontenegro\",\"world\\u002fAfrica\\u002fMorocco\",\"world\\u002fAfrica\\u002fMozambique\",\"world\\u002fAsia\\u002fMyanmar\",\"world\\u002fAfrica\\u002fNamibia\",\"world\\u002fAsia\\u002fNepal\",\"world\\u002fEurope\\u002fNetherlands\",\"world\\u002fOceania\\u002fNew Zealand\",\"world\\u002fAmericas\\u002fNicaragua\",\"world\\u002fAfrica\\u002fNiger\",\"world\\u002fAfrica\\u002fNigeria\",\"world\\u002fEurope\\u002fNorth Macedonia\",\"world\\u002fEurope\\u002fNorway\",\"world\\u002fAsia\\u002fPakistan\",\"world\\u002fAmericas\\u002fPanama\",\"world\\u002fAmericas\\u002fParaguay\",\"world\\u002fAmericas\\u002fPeru\",\"world\\u002fAsia\\u002fPhilippines\",\"world\\u002fEurope\\u002fPoland\",\"world\\u002fEurope\\u002fPortugal\",\"world\\u002fEurope\\u002fRomania\",\"world\\u002fAfrica\\u002fRwanda\",\"world\\u002fAsia\\u002fSaudi Arabia\",\"world\\u002fAfrica\\u002fSenegal\",\"world\\u002fEurope\\u002fSerbia\",\"world\\u002fAfrica\\u002fSierra Leone\",\"world\\u002fAsia\\u002fSingapore\",\"world\\u002fEurope\\u002fSlovenia\",\"world\\u002fAfrica\\u002fSouth Africa\",\"world\\u002fEurope\\u002fSpain\",\"world\\u002fAsia\\u002fSri Lanka\",\"world\\u002fAfrica\\u002fSwaziland\",\"world\\u002fEurope\\u002fSweden\",\"world\\u002fEurope\\u002fSwitzerland\",\"world\\u002fAsia\\u002fTajikistan\",\"world\\u002fAfrica\\u002fTanzania\",\"world\\u002fAsia\\u002fThailand\",\"world\\u002fAfrica\\u002fTogo\",\"world\\u002fAfrica\\u002fTunisia\",\"world\\u002fAsia\\u002fTurkey\",\"world\\u002fAsia\\u002fTurkmenistan\",\"world\\u002fAmericas\\u002fUSA\",\"world\\u002fAfrica\\u002fUganda\",\"world\\u002fAsia\\u002fUkraine\",\"world\\u002fAsia\\u002fUnited Arab Emirates\",\"world\\u002fEurope\\u002fUnited Kingdom\",\"world\\u002fAmericas\\u002fUruguay\",\"world\\u002fAsia\\u002fUzbekistan\",\"world\\u002fAfrica\\u002fZambia\",\"world\\u002fAfrica\\u002fZimbabwe\",\"world\\u002fAfrica\",\"world\\u002fAmericas\",\"world\\u002fAsia\",\"world\\u002fEurope\",\"world\\u002fOceania\",\"world\"],\"labels\":[\"Afghanistan\",\"Albania\",\"Algeria\",\"Argentina\",\"Armenia\",\"Australia\",\"Austria\",\"Azerbaijan\",\"Bahrain\",\"Bangladesh\",\"Belarus\",\"Belgium\",\"Benin\",\"Bolivia\",\"Bosnia and Herzegovina\",\"Botswana\",\"Brazil\",\"Bulgaria\",\"Burkina Faso\",\"Cambodia\",\"Cameroon\",\"Canada\",\"Chad\",\"Chile\",\"China\",\"Colombia\",\"Comoros\",\"Costa Rica\",\"Croatia\",\"Cyprus\",\"Denmark\",\"Dominican Republic\",\"Ecuador\",\"El Salvador\",\"Estonia\",\"Ethiopia\",\"Finland\",\"France\",\"Gabon\",\"Georgia\",\"Germany\",\"Ghana\",\"Greece\",\"Guatemala\",\"Guinea\",\"Honduras\",\"Hungary\",\"Iceland\",\"India\",\"Indonesia\",\"Ireland\",\"Israel\",\"Italy\",\"Jamaica\",\"Japan\",\"Jordan\",\"Kazakhstan\",\"Kenya\",\"Kuwait\",\"Latvia\",\"Lebanon\",\"Lesotho\",\"Liberia\",\"Libya\",\"Lithuania\",\"Luxembourg\",\"Madagascar\",\"Malawi\",\"Malaysia\",\"Mali\",\"Malta\",\"Mauritania\",\"Mauritius\",\"Mexico\",\"Moldova\",\"Mongolia\",\"Montenegro\",\"Morocco\",\"Mozambique\",\"Myanmar\",\"Namibia\",\"Nepal\",\"Netherlands\",\"New Zealand\",\"Nicaragua\",\"Niger\",\"Nigeria\",\"North Macedonia\",\"Norway\",\"Pakistan\",\"Panama\",\"Paraguay\",\"Peru\",\"Philippines\",\"Poland\",\"Portugal\",\"Romania\",\"Rwanda\",\"Saudi Arabia\",\"Senegal\",\"Serbia\",\"Sierra Leone\",\"Singapore\",\"Slovenia\",\"South Africa\",\"Spain\",\"Sri Lanka\",\"Swaziland\",\"Sweden\",\"Switzerland\",\"Tajikistan\",\"Tanzania\",\"Thailand\",\"Togo\",\"Tunisia\",\"Turkey\",\"Turkmenistan\",\"USA\",\"Uganda\",\"Ukraine\",\"United Arab Emirates\",\"United Kingdom\",\"Uruguay\",\"Uzbekistan\",\"Zambia\",\"Zimbabwe\",\"Africa\",\"Americas\",\"Asia\",\"Europe\",\"Oceania\",\"world\"],\"marker\":{\"coloraxis\":\"coloraxis\",\"colors\":[2.375091791152954,4.995317935943604,4.744627475738525,6.08556079864502,5.488086700439453,7.233994960784912,7.195361137390137,5.173389434814453,7.098012447357178,5.1142168045043945,5.821453094482422,6.7721381187438965,4.97636079788208,5.6742706298828125,6.015522480010986,3.4710848331451416,6.451148986816406,5.108438014984131,4.740892887115479,4.998284816741943,4.936737537384033,7.109076499938965,4.250799179077148,5.94225025177002,5.144120216369629,6.350297927856445,4.608616352081299,6.997618675231934,5.625743865966797,6.1368327140808105,7.693003177642822,6.004237174987793,5.809131145477295,6.45482063293457,6.034641265869141,4.099555015563965,7.78034782409668,6.68964433670044,4.914393424987793,4.891835689544678,7.035472393035889,4.966809749603272,5.952157497406006,6.2621750831604,4.767684459686279,5.930051326751709,6.000259876251221,7.532504558563232,3.248769760131836,5.346512794494629,7.254841327667236,7.331779956817627,6.445416927337647,6.309238910675049,5.908039093017578,4.452548027038574,6.272268295288086,4.618850231170654,6.106119632720947,5.969753742218018,4.024219512939453,3.5117805004119877,5.121460914611816,5.330222129821777,6.064097881317139,7.40401554107666,4.33908748626709,3.869123697280884,5.427954196929932,4.987991809844971,6.732977390289307,4.152619361877441,6.2411651611328125,6.431945323944092,5.803450584411621,5.562905311584473,5.386024951934815,5.056751728057861,4.932132720947266,4.434237480163574,6.425144195556641,5.448724746704102,7.425268650054932,7.205174446105957,6.112545013427734,5.003544330596924,4.266484260559082,5.015485286712647,7.442139625549316,4.442717552185059,6.0859551429748535,5.652625560760498,5.9993815422058105,6.267745018005371,6.242094039916992,6.095473289489746,6.129942417144775,3.268152236938477,6.5612473487854,5.488736629486084,6.24140739440918,3.447381496429444,6.378359794616699,6.665273666381836,5.034863471984863,6.457449436187744,4.21329927444458,4.396114826202393,7.398092746734619,7.694221019744873,5.464015483856201,3.640154838562012,6.022151470184326,4.1794939041137695,4.315479755401611,4.872073650360107,5.474299907684326,6.943701267242432,4.948051452636719,4.701762199401856,6.710782527923584,7.157151222229004,6.600337028503418,6.154049396514893,3.3067965507507324,2.6935231685638428,4.44115741860725,6.5546500889736174,4.561026414956758,6.6942611086347865,7.229261917709267,5.005600392304575]},\"name\":\"\",\"parents\":[\"world\\u002fAsia\",\"world\\u002fEurope\",\"world\\u002fAfrica\",\"world\\u002fAmericas\",\"world\\u002fAsia\",\"world\\u002fOceania\",\"world\\u002fEurope\",\"world\\u002fAsia\",\"world\\u002fAsia\",\"world\\u002fAsia\",\"world\\u002fAsia\",\"world\\u002fEurope\",\"world\\u002fAfrica\",\"world\\u002fAmericas\",\"world\\u002fEurope\",\"world\\u002fAfrica\",\"world\\u002fAmericas\",\"world\\u002fEurope\",\"world\\u002fAfrica\",\"world\\u002fAsia\",\"world\\u002fAfrica\",\"world\\u002fAmericas\",\"world\\u002fAfrica\",\"world\\u002fAmericas\",\"world\\u002fAsia\",\"world\\u002fAmericas\",\"world\\u002fAfrica\",\"world\\u002fAmericas\",\"world\\u002fEurope\",\"world\\u002fEurope\",\"world\\u002fEurope\",\"world\\u002fAmericas\",\"world\\u002fAmericas\",\"world\\u002fAmericas\",\"world\\u002fEurope\",\"world\\u002fAfrica\",\"world\\u002fEurope\",\"world\\u002fEurope\",\"world\\u002fAfrica\",\"world\\u002fAsia\",\"world\\u002fEurope\",\"world\\u002fAfrica\",\"world\\u002fEurope\",\"world\\u002fAmericas\",\"world\\u002fAfrica\",\"world\\u002fAmericas\",\"world\\u002fEurope\",\"world\\u002fEurope\",\"world\\u002fAsia\",\"world\\u002fAsia\",\"world\\u002fEurope\",\"world\\u002fAsia\",\"world\\u002fEurope\",\"world\\u002fAmericas\",\"world\\u002fAsia\",\"world\\u002fAsia\",\"world\\u002fAsia\",\"world\\u002fAfrica\",\"world\\u002fAsia\",\"world\\u002fEurope\",\"world\\u002fAsia\",\"world\\u002fAfrica\",\"world\\u002fAfrica\",\"world\\u002fAfrica\",\"world\\u002fEurope\",\"world\\u002fEurope\",\"world\\u002fAfrica\",\"world\\u002fAfrica\",\"world\\u002fAsia\",\"world\\u002fAfrica\",\"world\\u002fEurope\",\"world\\u002fAfrica\",\"world\\u002fAfrica\",\"world\\u002fAmericas\",\"world\\u002fEurope\",\"world\\u002fAsia\",\"world\\u002fEurope\",\"world\\u002fAfrica\",\"world\\u002fAfrica\",\"world\\u002fAsia\",\"world\\u002fAfrica\",\"world\\u002fAsia\",\"world\\u002fEurope\",\"world\\u002fOceania\",\"world\\u002fAmericas\",\"world\\u002fAfrica\",\"world\\u002fAfrica\",\"world\\u002fEurope\",\"world\\u002fEurope\",\"world\\u002fAsia\",\"world\\u002fAmericas\",\"world\\u002fAmericas\",\"world\\u002fAmericas\",\"world\\u002fAsia\",\"world\\u002fEurope\",\"world\\u002fEurope\",\"world\\u002fEurope\",\"world\\u002fAfrica\",\"world\\u002fAsia\",\"world\\u002fAfrica\",\"world\\u002fEurope\",\"world\\u002fAfrica\",\"world\\u002fAsia\",\"world\\u002fEurope\",\"world\\u002fAfrica\",\"world\\u002fEurope\",\"world\\u002fAsia\",\"world\\u002fAfrica\",\"world\\u002fEurope\",\"world\\u002fEurope\",\"world\\u002fAsia\",\"world\\u002fAfrica\",\"world\\u002fAsia\",\"world\\u002fAfrica\",\"world\\u002fAfrica\",\"world\\u002fAsia\",\"world\\u002fAsia\",\"world\\u002fAmericas\",\"world\\u002fAfrica\",\"world\\u002fAsia\",\"world\\u002fAsia\",\"world\\u002fEurope\",\"world\\u002fAmericas\",\"world\\u002fAsia\",\"world\\u002fAfrica\",\"world\\u002fAfrica\",\"world\",\"world\",\"world\",\"world\",\"world\",\"\"],\"values\":[37769499.0,2854191.0,42705368.0,44938712.0,2820602.0,25340217.0,8879920.0,10024283.0,1494188.0,165516222.0,9419758.0,11488980.0,12290444.0,11777315.0,3360711.0,2499702.0,211782878.0,6975761.0,20951639.0,16207746.0,25782341.0,37601230.0,16126866.0,19039485.0,1407745000.0,50187406.0,790986.0,5084532.0,4065253.0,1228836.0,5814422.0,10881882.0,17343740.0,6280217.0,1326898.0,114120594.0,5521606.0,67388001.0,2242785.0,3720161.0,83092962.0,31522290.0,10721582.0,16604026.0,12877539.0,9958829.0,9771141.0,360563.0,1383112050.0,269582878.0,4934340.0,9054000.0,59729081.0,2813773.0,126633000.0,10698683.0,18513673.0,50951450.0,4441100.0,1913822.0,5781907.0,2225702.0,4985289.0,6569088.0,2794137.0,620001.0,27533134.0,18867337.0,32804020.0,20567424.0,504062.0,4383849.0,1265985.0,125085311.0,2664224.0,3232430.0,622028.0,36304408.0,30285595.0,53040212.0,1788878.0,28832496.0,17344874.0,4979200.0,6663924.0,23443393.0,203304492.0,2076694.0,5347896.0,223293280.0,4232532.0,6530026.0,32824861.0,110380804.0,37965475.0,10286263.0,19371648.0,12835028.0,35827362.0,16000781.0,6945235.0,8046828.0,5703569.0,2088385.0,58087055.0,47134837.0,21803000.0,1169613.0,10278887.0,8575280.0,9337003.0,59872579.0,71307763.0,8243094.0,12049314.0,83481684.0,6158420.0,328329953.0,42949080.0,44386203.0,9211657.0,66836327.0,3428409.0,33580350.0,18380477.0,15354608.0,967375035.0,951389041.0,4254915003.0,530884323.0,30319417.0,6734882819.0],\"type\":\"treemap\"}],                        {\"template\":{\"data\":{\"histogram2dcontour\":[{\"type\":\"histogram2dcontour\",\"colorbar\":{\"outlinewidth\":0,\"ticks\":\"\"},\"colorscale\":[[0.0,\"#0d0887\"],[0.1111111111111111,\"#46039f\"],[0.2222222222222222,\"#7201a8\"],[0.3333333333333333,\"#9c179e\"],[0.4444444444444444,\"#bd3786\"],[0.5555555555555556,\"#d8576b\"],[0.6666666666666666,\"#ed7953\"],[0.7777777777777778,\"#fb9f3a\"],[0.8888888888888888,\"#fdca26\"],[1.0,\"#f0f921\"]]}],\"choropleth\":[{\"type\":\"choropleth\",\"colorbar\":{\"outlinewidth\":0,\"ticks\":\"\"}}],\"histogram2d\":[{\"type\":\"histogram2d\",\"colorbar\":{\"outlinewidth\":0,\"ticks\":\"\"},\"colorscale\":[[0.0,\"#0d0887\"],[0.1111111111111111,\"#46039f\"],[0.2222222222222222,\"#7201a8\"],[0.3333333333333333,\"#9c179e\"],[0.4444444444444444,\"#bd3786\"],[0.5555555555555556,\"#d8576b\"],[0.6666666666666666,\"#ed7953\"],[0.7777777777777778,\"#fb9f3a\"],[0.8888888888888888,\"#fdca26\"],[1.0,\"#f0f921\"]]}],\"heatmap\":[{\"type\":\"heatmap\",\"colorbar\":{\"outlinewidth\":0,\"ticks\":\"\"},\"colorscale\":[[0.0,\"#0d0887\"],[0.1111111111111111,\"#46039f\"],[0.2222222222222222,\"#7201a8\"],[0.3333333333333333,\"#9c179e\"],[0.4444444444444444,\"#bd3786\"],[0.5555555555555556,\"#d8576b\"],[0.6666666666666666,\"#ed7953\"],[0.7777777777777778,\"#fb9f3a\"],[0.8888888888888888,\"#fdca26\"],[1.0,\"#f0f921\"]]}],\"heatmapgl\":[{\"type\":\"heatmapgl\",\"colorbar\":{\"outlinewidth\":0,\"ticks\":\"\"},\"colorscale\":[[0.0,\"#0d0887\"],[0.1111111111111111,\"#46039f\"],[0.2222222222222222,\"#7201a8\"],[0.3333333333333333,\"#9c179e\"],[0.4444444444444444,\"#bd3786\"],[0.5555555555555556,\"#d8576b\"],[0.6666666666666666,\"#ed7953\"],[0.7777777777777778,\"#fb9f3a\"],[0.8888888888888888,\"#fdca26\"],[1.0,\"#f0f921\"]]}],\"contourcarpet\":[{\"type\":\"contourcarpet\",\"colorbar\":{\"outlinewidth\":0,\"ticks\":\"\"}}],\"contour\":[{\"type\":\"contour\",\"colorbar\":{\"outlinewidth\":0,\"ticks\":\"\"},\"colorscale\":[[0.0,\"#0d0887\"],[0.1111111111111111,\"#46039f\"],[0.2222222222222222,\"#7201a8\"],[0.3333333333333333,\"#9c179e\"],[0.4444444444444444,\"#bd3786\"],[0.5555555555555556,\"#d8576b\"],[0.6666666666666666,\"#ed7953\"],[0.7777777777777778,\"#fb9f3a\"],[0.8888888888888888,\"#fdca26\"],[1.0,\"#f0f921\"]]}],\"surface\":[{\"type\":\"surface\",\"colorbar\":{\"outlinewidth\":0,\"ticks\":\"\"},\"colorscale\":[[0.0,\"#0d0887\"],[0.1111111111111111,\"#46039f\"],[0.2222222222222222,\"#7201a8\"],[0.3333333333333333,\"#9c179e\"],[0.4444444444444444,\"#bd3786\"],[0.5555555555555556,\"#d8576b\"],[0.6666666666666666,\"#ed7953\"],[0.7777777777777778,\"#fb9f3a\"],[0.8888888888888888,\"#fdca26\"],[1.0,\"#f0f921\"]]}],\"mesh3d\":[{\"type\":\"mesh3d\",\"colorbar\":{\"outlinewidth\":0,\"ticks\":\"\"}}],\"scatter\":[{\"fillpattern\":{\"fillmode\":\"overlay\",\"size\":10,\"solidity\":0.2},\"type\":\"scatter\"}],\"parcoords\":[{\"type\":\"parcoords\",\"line\":{\"colorbar\":{\"outlinewidth\":0,\"ticks\":\"\"}}}],\"scatterpolargl\":[{\"type\":\"scatterpolargl\",\"marker\":{\"colorbar\":{\"outlinewidth\":0,\"ticks\":\"\"}}}],\"bar\":[{\"error_x\":{\"color\":\"#2a3f5f\"},\"error_y\":{\"color\":\"#2a3f5f\"},\"marker\":{\"line\":{\"color\":\"#E5ECF6\",\"width\":0.5},\"pattern\":{\"fillmode\":\"overlay\",\"size\":10,\"solidity\":0.2}},\"type\":\"bar\"}],\"scattergeo\":[{\"type\":\"scattergeo\",\"marker\":{\"colorbar\":{\"outlinewidth\":0,\"ticks\":\"\"}}}],\"scatterpolar\":[{\"type\":\"scatterpolar\",\"marker\":{\"colorbar\":{\"outlinewidth\":0,\"ticks\":\"\"}}}],\"histogram\":[{\"marker\":{\"pattern\":{\"fillmode\":\"overlay\",\"size\":10,\"solidity\":0.2}},\"type\":\"histogram\"}],\"scattergl\":[{\"type\":\"scattergl\",\"marker\":{\"colorbar\":{\"outlinewidth\":0,\"ticks\":\"\"}}}],\"scatter3d\":[{\"type\":\"scatter3d\",\"line\":{\"colorbar\":{\"outlinewidth\":0,\"ticks\":\"\"}},\"marker\":{\"colorbar\":{\"outlinewidth\":0,\"ticks\":\"\"}}}],\"scattermapbox\":[{\"type\":\"scattermapbox\",\"marker\":{\"colorbar\":{\"outlinewidth\":0,\"ticks\":\"\"}}}],\"scatterternary\":[{\"type\":\"scatterternary\",\"marker\":{\"colorbar\":{\"outlinewidth\":0,\"ticks\":\"\"}}}],\"scattercarpet\":[{\"type\":\"scattercarpet\",\"marker\":{\"colorbar\":{\"outlinewidth\":0,\"ticks\":\"\"}}}],\"carpet\":[{\"aaxis\":{\"endlinecolor\":\"#2a3f5f\",\"gridcolor\":\"white\",\"linecolor\":\"white\",\"minorgridcolor\":\"white\",\"startlinecolor\":\"#2a3f5f\"},\"baxis\":{\"endlinecolor\":\"#2a3f5f\",\"gridcolor\":\"white\",\"linecolor\":\"white\",\"minorgridcolor\":\"white\",\"startlinecolor\":\"#2a3f5f\"},\"type\":\"carpet\"}],\"table\":[{\"cells\":{\"fill\":{\"color\":\"#EBF0F8\"},\"line\":{\"color\":\"white\"}},\"header\":{\"fill\":{\"color\":\"#C8D4E3\"},\"line\":{\"color\":\"white\"}},\"type\":\"table\"}],\"barpolar\":[{\"marker\":{\"line\":{\"color\":\"#E5ECF6\",\"width\":0.5},\"pattern\":{\"fillmode\":\"overlay\",\"size\":10,\"solidity\":0.2}},\"type\":\"barpolar\"}],\"pie\":[{\"automargin\":true,\"type\":\"pie\"}]},\"layout\":{\"autotypenumbers\":\"strict\",\"colorway\":[\"#636efa\",\"#EF553B\",\"#00cc96\",\"#ab63fa\",\"#FFA15A\",\"#19d3f3\",\"#FF6692\",\"#B6E880\",\"#FF97FF\",\"#FECB52\"],\"font\":{\"color\":\"#2a3f5f\"},\"hovermode\":\"closest\",\"hoverlabel\":{\"align\":\"left\"},\"paper_bgcolor\":\"white\",\"plot_bgcolor\":\"#E5ECF6\",\"polar\":{\"bgcolor\":\"#E5ECF6\",\"angularaxis\":{\"gridcolor\":\"white\",\"linecolor\":\"white\",\"ticks\":\"\"},\"radialaxis\":{\"gridcolor\":\"white\",\"linecolor\":\"white\",\"ticks\":\"\"}},\"ternary\":{\"bgcolor\":\"#E5ECF6\",\"aaxis\":{\"gridcolor\":\"white\",\"linecolor\":\"white\",\"ticks\":\"\"},\"baxis\":{\"gridcolor\":\"white\",\"linecolor\":\"white\",\"ticks\":\"\"},\"caxis\":{\"gridcolor\":\"white\",\"linecolor\":\"white\",\"ticks\":\"\"}},\"coloraxis\":{\"colorbar\":{\"outlinewidth\":0,\"ticks\":\"\"}},\"colorscale\":{\"sequential\":[[0.0,\"#0d0887\"],[0.1111111111111111,\"#46039f\"],[0.2222222222222222,\"#7201a8\"],[0.3333333333333333,\"#9c179e\"],[0.4444444444444444,\"#bd3786\"],[0.5555555555555556,\"#d8576b\"],[0.6666666666666666,\"#ed7953\"],[0.7777777777777778,\"#fb9f3a\"],[0.8888888888888888,\"#fdca26\"],[1.0,\"#f0f921\"]],\"sequentialminus\":[[0.0,\"#0d0887\"],[0.1111111111111111,\"#46039f\"],[0.2222222222222222,\"#7201a8\"],[0.3333333333333333,\"#9c179e\"],[0.4444444444444444,\"#bd3786\"],[0.5555555555555556,\"#d8576b\"],[0.6666666666666666,\"#ed7953\"],[0.7777777777777778,\"#fb9f3a\"],[0.8888888888888888,\"#fdca26\"],[1.0,\"#f0f921\"]],\"diverging\":[[0,\"#8e0152\"],[0.1,\"#c51b7d\"],[0.2,\"#de77ae\"],[0.3,\"#f1b6da\"],[0.4,\"#fde0ef\"],[0.5,\"#f7f7f7\"],[0.6,\"#e6f5d0\"],[0.7,\"#b8e186\"],[0.8,\"#7fbc41\"],[0.9,\"#4d9221\"],[1,\"#276419\"]]},\"xaxis\":{\"gridcolor\":\"white\",\"linecolor\":\"white\",\"ticks\":\"\",\"title\":{\"standoff\":15},\"zerolinecolor\":\"white\",\"automargin\":true,\"zerolinewidth\":2},\"yaxis\":{\"gridcolor\":\"white\",\"linecolor\":\"white\",\"ticks\":\"\",\"title\":{\"standoff\":15},\"zerolinecolor\":\"white\",\"automargin\":true,\"zerolinewidth\":2},\"scene\":{\"xaxis\":{\"backgroundcolor\":\"#E5ECF6\",\"gridcolor\":\"white\",\"linecolor\":\"white\",\"showbackground\":true,\"ticks\":\"\",\"zerolinecolor\":\"white\",\"gridwidth\":2},\"yaxis\":{\"backgroundcolor\":\"#E5ECF6\",\"gridcolor\":\"white\",\"linecolor\":\"white\",\"showbackground\":true,\"ticks\":\"\",\"zerolinecolor\":\"white\",\"gridwidth\":2},\"zaxis\":{\"backgroundcolor\":\"#E5ECF6\",\"gridcolor\":\"white\",\"linecolor\":\"white\",\"showbackground\":true,\"ticks\":\"\",\"zerolinecolor\":\"white\",\"gridwidth\":2}},\"shapedefaults\":{\"line\":{\"color\":\"#2a3f5f\"}},\"annotationdefaults\":{\"arrowcolor\":\"#2a3f5f\",\"arrowhead\":0,\"arrowwidth\":1},\"geo\":{\"bgcolor\":\"white\",\"landcolor\":\"#E5ECF6\",\"subunitcolor\":\"white\",\"showland\":true,\"showlakes\":true,\"lakecolor\":\"white\"},\"title\":{\"x\":0.05},\"mapbox\":{\"style\":\"light\"}}},\"coloraxis\":{\"colorbar\":{\"title\":{\"text\":\"Life Ladder\"}},\"colorscale\":[[0.0,\"#440154\"],[0.1111111111111111,\"#482878\"],[0.2222222222222222,\"#3e4989\"],[0.3333333333333333,\"#31688e\"],[0.4444444444444444,\"#26828e\"],[0.5555555555555556,\"#1f9e89\"],[0.6666666666666666,\"#35b779\"],[0.7777777777777778,\"#6ece58\"],[0.8888888888888888,\"#b5de2b\"],[1.0,\"#fde725\"]],\"cmid\":5.005600392304575,\"cmin\":3,\"cmax\":8},\"legend\":{\"tracegroupgap\":0},\"title\":{\"text\":\"2019\"},\"width\":700},                        {\"responsive\": true}                    ).then(function(){\n",
       "                            \n",
       "var gd = document.getElementById('c644900c-61df-4aa8-9014-a5bb9cb17bc1');\n",
       "var x = new MutationObserver(function (mutations, observer) {{\n",
       "        var display = window.getComputedStyle(gd).display;\n",
       "        if (!display || display === 'none') {{\n",
       "            console.log([gd, 'removed!']);\n",
       "            Plotly.purge(gd);\n",
       "            observer.disconnect();\n",
       "        }}\n",
       "}});\n",
       "\n",
       "// Listen for the removal of the full notebook cells\n",
       "var notebookContainer = gd.closest('#notebook-container');\n",
       "if (notebookContainer) {{\n",
       "    x.observe(notebookContainer, {childList: true});\n",
       "}}\n",
       "\n",
       "// Listen for the clearing of the current output cell\n",
       "var outputEl = gd.closest('.output');\n",
       "if (outputEl) {{\n",
       "    x.observe(outputEl, {childList: true});\n",
       "}}\n",
       "\n",
       "                        })                };                });            </script>        </div>"
      ]
     },
     "metadata": {},
     "output_type": "display_data"
    }
   ],
   "source": [
    "gen_treeplot(wdf, 2019)"
   ]
  },
  {
   "cell_type": "code",
   "execution_count": 62,
   "id": "eaeafeff",
   "metadata": {},
   "outputs": [
    {
     "data": {
      "application/vnd.plotly.v1+json": {
       "config": {
        "plotlyServerURL": "https://plot.ly"
       },
       "data": [
        {
         "branchvalues": "total",
         "customdata": [
          [
           "Afghanistan",
           2.4360344409942627
          ],
          [
           "Albania",
           5.255481719970703
          ],
          [
           "Algeria",
           5.217017650604248
          ],
          [
           "Argentina",
           5.908278942108154
          ],
          [
           "Armenia",
           5.300568580627441
          ],
          [
           "Australia",
           7.111598968505859
          ],
          [
           "Austria",
           7.079640865325928
          ],
          [
           "Bangladesh",
           4.123318672180176
          ],
          [
           "Belgium",
           6.88175630569458
          ],
          [
           "Benin",
           4.493431091308594
          ],
          [
           "Bolivia",
           5.568624019622803
          ],
          [
           "Bosnia and Herzegovina",
           5.748823165893555
          ],
          [
           "Brazil",
           6.009953498840332
          ],
          [
           "Bulgaria",
           5.421693325042725
          ],
          [
           "Burkina Faso",
           4.6355085372924805
          ],
          [
           "Cambodia",
           4.555141448974609
          ],
          [
           "Cameroon",
           4.962747573852539
          ],
          [
           "Canada",
           6.9394354820251465
          ],
          [
           "Chile",
           6.435630798339844
          ],
          [
           "China",
           5.8628644943237305
          ],
          [
           "Colombia",
           5.289958477020264
          ],
          [
           "Costa Rica",
           6.408448219299316
          ],
          [
           "Croatia",
           6.286790370941162
          ],
          [
           "Cyprus",
           6.26920223236084
          ],
          [
           "Czech Republic",
           6.9424967765808105
          ],
          [
           "Denmark",
           7.698747158050537
          ],
          [
           "Dominican Republic",
           6.030537128448486
          ],
          [
           "Ecuador",
           5.434872150421143
          ],
          [
           "El Salvador",
           6.4314470291137695
          ],
          [
           "Estonia",
           6.553915500640869
          ],
          [
           "Finland",
           7.79437780380249
          ],
          [
           "France",
           6.656206607818604
          ],
          [
           "Gabon",
           5.075422286987305
          ],
          [
           "Georgia",
           4.91127347946167
          ],
          [
           "Germany",
           6.754523754119873
          ],
          [
           "Ghana",
           4.377950668334961
          ],
          [
           "Greece",
           6.104214191436768
          ],
          [
           "Guinea",
           4.944539546966553
          ],
          [
           "Honduras",
           6.113636016845703
          ],
          [
           "Hungary",
           6.226647853851318
          ],
          [
           "Iceland",
           7.564624786376953
          ],
          [
           "India",
           3.558253765106201
          ],
          [
           "Indonesia",
           5.433173179626465
          ],
          [
           "Iraq",
           5.093667984008789
          ],
          [
           "Ireland",
           6.827651977539064
          ],
          [
           "Israel",
           7.57752799987793
          ],
          [
           "Italy",
           6.466744899749756
          ],
          [
           "Jamaica",
           5.813733577728272
          ],
          [
           "Japan",
           6.091324806213379
          ],
          [
           "Jordan",
           3.909149169921875
          ],
          [
           "Kazakhstan",
           6.259634017944336
          ],
          [
           "Kenya",
           4.464540958404541
          ],
          [
           "Latvia",
           6.353090763092041
          ],
          [
           "Lebanon",
           2.178809404373169
          ],
          [
           "Lithuania",
           6.864572525024414
          ],
          [
           "Malawi",
           3.6352832317352295
          ],
          [
           "Malaysia",
           6.010391712188721
          ],
          [
           "Mali",
           4.113095760345459
          ],
          [
           "Malta",
           6.44371509552002
          ],
          [
           "Mauritius",
           5.949120044708252
          ],
          [
           "Mexico",
           5.990750789642334
          ],
          [
           "Moldova",
           5.959048748016357
          ],
          [
           "Mongolia",
           5.721034049987793
          ],
          [
           "Morocco",
           5.326248645782471
          ],
          [
           "Mozambique",
           5.1784868240356445
          ],
          [
           "Myanmar",
           4.314039707183838
          ],
          [
           "Namibia",
           6.648499488830566
          ],
          [
           "Nepal",
           4.622300148010254
          ],
          [
           "Netherlands",
           7.314151287078857
          ],
          [
           "New Zealand",
           7.136700630187988
          ],
          [
           "Nicaragua",
           6.095348834991455
          ],
          [
           "Nigeria",
           4.4792656898498535
          ],
          [
           "North Macedonia",
           5.534749984741211
          ],
          [
           "Norway",
           7.361573696136475
          ],
          [
           "Pakistan",
           4.486834526062012
          ],
          [
           "Panama",
           6.552778720855713
          ],
          [
           "Paraguay",
           5.575535297393799
          ],
          [
           "Peru",
           5.694317817687988
          ],
          [
           "Philippines",
           5.965057849884033
          ],
          [
           "Poland",
           5.978068828582764
          ],
          [
           "Portugal",
           6.183014392852783
          ],
          [
           "Romania",
           6.548725605010986
          ],
          [
           "Saudi Arabia",
           6.445294380187988
          ],
          [
           "Senegal",
           4.902830600738525
          ],
          [
           "Serbia",
           6.245267391204834
          ],
          [
           "Sierra Leone",
           3.71429443359375
          ],
          [
           "Singapore",
           6.586717128753662
          ],
          [
           "Slovenia",
           6.761220932006836
          ],
          [
           "South Africa",
           5.598653793334961
          ],
          [
           "Spain",
           6.469611167907715
          ],
          [
           "Sri Lanka",
           4.103446960449219
          ],
          [
           "Sweden",
           7.439280033111572
          ],
          [
           "Switzerland",
           7.327672481536865
          ],
          [
           "Tajikistan",
           5.2868242263793945
          ],
          [
           "Tanzania",
           3.680567979812622
          ],
          [
           "Thailand",
           5.638096809387207
          ],
          [
           "Togo",
           4.036543846130371
          ],
          [
           "Tunisia",
           4.499485969543457
          ],
          [
           "Turkey",
           4.366639614105225
          ],
          [
           "USA",
           6.95908784866333
          ],
          [
           "Uganda",
           4.224533557891846
          ],
          [
           "Ukraine",
           5.311355113983154
          ],
          [
           "United Arab Emirates",
           6.733067512512207
          ],
          [
           "United Kingdom",
           6.86696195602417
          ],
          [
           "Uruguay",
           6.501700401306152
          ],
          [
           "Uzbekistan",
           6.18530797958374
          ],
          [
           "Zambia",
           3.0821549892425537
          ],
          [
           "Zimbabwe",
           3.15457820892334
          ],
          [
           "(?)",
           4.530753691326692
          ],
          [
           "(?)",
           6.321693480493307
          ],
          [
           "(?)",
           4.837467958047111
          ],
          [
           "(?)",
           6.633592030988279
          ],
          [
           "(?)",
           7.115764773827502
          ],
          [
           "(?)",
           5.17040900711631
          ]
         ],
         "domain": {
          "x": [
           0,
           1
          ],
          "y": [
           0,
           1
          ]
         },
         "hovertemplate": "labels=%{label}<br>pop=%{value}<br>parent=%{parent}<br>id=%{id}<br>country=%{customdata[0]}<br>Life Ladder=%{color}<extra></extra>",
         "ids": [
          "world/Asia/Afghanistan",
          "world/Europe/Albania",
          "world/Africa/Algeria",
          "world/Americas/Argentina",
          "world/Asia/Armenia",
          "world/Oceania/Australia",
          "world/Europe/Austria",
          "world/Asia/Bangladesh",
          "world/Europe/Belgium",
          "world/Africa/Benin",
          "world/Americas/Bolivia",
          "world/Europe/Bosnia and Herzegovina",
          "world/Americas/Brazil",
          "world/Europe/Bulgaria",
          "world/Africa/Burkina Faso",
          "world/Asia/Cambodia",
          "world/Africa/Cameroon",
          "world/Americas/Canada",
          "world/Americas/Chile",
          "world/Asia/China",
          "world/Americas/Colombia",
          "world/Americas/Costa Rica",
          "world/Europe/Croatia",
          "world/Europe/Cyprus",
          "world/Europe/Czech Republic",
          "world/Europe/Denmark",
          "world/Americas/Dominican Republic",
          "world/Americas/Ecuador",
          "world/Americas/El Salvador",
          "world/Europe/Estonia",
          "world/Europe/Finland",
          "world/Europe/France",
          "world/Africa/Gabon",
          "world/Asia/Georgia",
          "world/Europe/Germany",
          "world/Africa/Ghana",
          "world/Europe/Greece",
          "world/Africa/Guinea",
          "world/Americas/Honduras",
          "world/Europe/Hungary",
          "world/Europe/Iceland",
          "world/Asia/India",
          "world/Asia/Indonesia",
          "world/Asia/Iraq",
          "world/Europe/Ireland",
          "world/Asia/Israel",
          "world/Europe/Italy",
          "world/Americas/Jamaica",
          "world/Asia/Japan",
          "world/Asia/Jordan",
          "world/Asia/Kazakhstan",
          "world/Africa/Kenya",
          "world/Europe/Latvia",
          "world/Asia/Lebanon",
          "world/Europe/Lithuania",
          "world/Africa/Malawi",
          "world/Asia/Malaysia",
          "world/Africa/Mali",
          "world/Europe/Malta",
          "world/Africa/Mauritius",
          "world/Americas/Mexico",
          "world/Europe/Moldova",
          "world/Asia/Mongolia",
          "world/Africa/Morocco",
          "world/Africa/Mozambique",
          "world/Asia/Myanmar",
          "world/Africa/Namibia",
          "world/Asia/Nepal",
          "world/Europe/Netherlands",
          "world/Oceania/New Zealand",
          "world/Americas/Nicaragua",
          "world/Africa/Nigeria",
          "world/Europe/North Macedonia",
          "world/Europe/Norway",
          "world/Asia/Pakistan",
          "world/Americas/Panama",
          "world/Americas/Paraguay",
          "world/Americas/Peru",
          "world/Asia/Philippines",
          "world/Europe/Poland",
          "world/Europe/Portugal",
          "world/Europe/Romania",
          "world/Asia/Saudi Arabia",
          "world/Africa/Senegal",
          "world/Europe/Serbia",
          "world/Africa/Sierra Leone",
          "world/Asia/Singapore",
          "world/Europe/Slovenia",
          "world/Africa/South Africa",
          "world/Europe/Spain",
          "world/Asia/Sri Lanka",
          "world/Europe/Sweden",
          "world/Europe/Switzerland",
          "world/Asia/Tajikistan",
          "world/Africa/Tanzania",
          "world/Asia/Thailand",
          "world/Africa/Togo",
          "world/Africa/Tunisia",
          "world/Asia/Turkey",
          "world/Americas/USA",
          "world/Africa/Uganda",
          "world/Asia/Ukraine",
          "world/Asia/United Arab Emirates",
          "world/Europe/United Kingdom",
          "world/Americas/Uruguay",
          "world/Asia/Uzbekistan",
          "world/Africa/Zambia",
          "world/Africa/Zimbabwe",
          "world/Africa",
          "world/Americas",
          "world/Asia",
          "world/Europe",
          "world/Oceania",
          "world"
         ],
         "labels": [
          "Afghanistan",
          "Albania",
          "Algeria",
          "Argentina",
          "Armenia",
          "Australia",
          "Austria",
          "Bangladesh",
          "Belgium",
          "Benin",
          "Bolivia",
          "Bosnia and Herzegovina",
          "Brazil",
          "Bulgaria",
          "Burkina Faso",
          "Cambodia",
          "Cameroon",
          "Canada",
          "Chile",
          "China",
          "Colombia",
          "Costa Rica",
          "Croatia",
          "Cyprus",
          "Czech Republic",
          "Denmark",
          "Dominican Republic",
          "Ecuador",
          "El Salvador",
          "Estonia",
          "Finland",
          "France",
          "Gabon",
          "Georgia",
          "Germany",
          "Ghana",
          "Greece",
          "Guinea",
          "Honduras",
          "Hungary",
          "Iceland",
          "India",
          "Indonesia",
          "Iraq",
          "Ireland",
          "Israel",
          "Italy",
          "Jamaica",
          "Japan",
          "Jordan",
          "Kazakhstan",
          "Kenya",
          "Latvia",
          "Lebanon",
          "Lithuania",
          "Malawi",
          "Malaysia",
          "Mali",
          "Malta",
          "Mauritius",
          "Mexico",
          "Moldova",
          "Mongolia",
          "Morocco",
          "Mozambique",
          "Myanmar",
          "Namibia",
          "Nepal",
          "Netherlands",
          "New Zealand",
          "Nicaragua",
          "Nigeria",
          "North Macedonia",
          "Norway",
          "Pakistan",
          "Panama",
          "Paraguay",
          "Peru",
          "Philippines",
          "Poland",
          "Portugal",
          "Romania",
          "Saudi Arabia",
          "Senegal",
          "Serbia",
          "Sierra Leone",
          "Singapore",
          "Slovenia",
          "South Africa",
          "Spain",
          "Sri Lanka",
          "Sweden",
          "Switzerland",
          "Tajikistan",
          "Tanzania",
          "Thailand",
          "Togo",
          "Tunisia",
          "Turkey",
          "USA",
          "Uganda",
          "Ukraine",
          "United Arab Emirates",
          "United Kingdom",
          "Uruguay",
          "Uzbekistan",
          "Zambia",
          "Zimbabwe",
          "Africa",
          "Americas",
          "Asia",
          "Europe",
          "Oceania",
          "world"
         ],
         "marker": {
          "coloraxis": "coloraxis",
          "colors": [
           2.4360344409942627,
           5.255481719970703,
           5.217017650604248,
           5.908278942108154,
           5.300568580627441,
           7.111598968505859,
           7.079640865325928,
           4.123318672180176,
           6.88175630569458,
           4.493431091308594,
           5.568624019622803,
           5.748823165893555,
           6.009953498840332,
           5.421693325042725,
           4.6355085372924805,
           4.555141448974609,
           4.962747573852539,
           6.9394354820251465,
           6.435630798339844,
           5.8628644943237305,
           5.289958477020264,
           6.408448219299316,
           6.286790370941162,
           6.26920223236084,
           6.9424967765808105,
           7.698747158050537,
           6.030537128448486,
           5.434872150421143,
           6.4314470291137695,
           6.553915500640869,
           7.79437780380249,
           6.656206607818604,
           5.075422286987305,
           4.91127347946167,
           6.754523754119873,
           4.377950668334961,
           6.104214191436768,
           4.944539546966553,
           6.113636016845703,
           6.226647853851318,
           7.564624786376953,
           3.558253765106201,
           5.433173179626465,
           5.093667984008789,
           6.827651977539064,
           7.57752799987793,
           6.466744899749756,
           5.813733577728272,
           6.091324806213379,
           3.909149169921875,
           6.259634017944336,
           4.464540958404541,
           6.353090763092041,
           2.178809404373169,
           6.864572525024414,
           3.6352832317352295,
           6.010391712188721,
           4.113095760345459,
           6.44371509552002,
           5.949120044708252,
           5.990750789642334,
           5.959048748016357,
           5.721034049987793,
           5.326248645782471,
           5.1784868240356445,
           4.314039707183838,
           6.648499488830566,
           4.622300148010254,
           7.314151287078857,
           7.136700630187988,
           6.095348834991455,
           4.4792656898498535,
           5.534749984741211,
           7.361573696136475,
           4.486834526062012,
           6.552778720855713,
           5.575535297393799,
           5.694317817687988,
           5.965057849884033,
           5.978068828582764,
           6.183014392852783,
           6.548725605010986,
           6.445294380187988,
           4.902830600738525,
           6.245267391204834,
           3.71429443359375,
           6.586717128753662,
           6.761220932006836,
           5.598653793334961,
           6.469611167907715,
           4.103446960449219,
           7.439280033111572,
           7.327672481536865,
           5.2868242263793945,
           3.680567979812622,
           5.638096809387207,
           4.036543846130371,
           4.499485969543457,
           4.366639614105225,
           6.95908784866333,
           4.224533557891846,
           5.311355113983154,
           6.733067512512207,
           6.86696195602417,
           6.501700401306152,
           6.18530797958374,
           3.0821549892425537,
           3.15457820892334,
           4.530753691326692,
           6.321693480493307,
           4.837467958047111,
           6.633592030988279,
           7.115764773827502,
           5.17040900711631
          ]
         },
         "name": "",
         "parents": [
          "world/Asia",
          "world/Europe",
          "world/Africa",
          "world/Americas",
          "world/Asia",
          "world/Oceania",
          "world/Europe",
          "world/Asia",
          "world/Europe",
          "world/Africa",
          "world/Americas",
          "world/Europe",
          "world/Americas",
          "world/Europe",
          "world/Africa",
          "world/Asia",
          "world/Africa",
          "world/Americas",
          "world/Americas",
          "world/Asia",
          "world/Americas",
          "world/Americas",
          "world/Europe",
          "world/Europe",
          "world/Europe",
          "world/Europe",
          "world/Americas",
          "world/Americas",
          "world/Americas",
          "world/Europe",
          "world/Europe",
          "world/Europe",
          "world/Africa",
          "world/Asia",
          "world/Europe",
          "world/Africa",
          "world/Europe",
          "world/Africa",
          "world/Americas",
          "world/Europe",
          "world/Europe",
          "world/Asia",
          "world/Asia",
          "world/Asia",
          "world/Europe",
          "world/Asia",
          "world/Europe",
          "world/Americas",
          "world/Asia",
          "world/Asia",
          "world/Asia",
          "world/Africa",
          "world/Europe",
          "world/Asia",
          "world/Europe",
          "world/Africa",
          "world/Asia",
          "world/Africa",
          "world/Europe",
          "world/Africa",
          "world/Americas",
          "world/Europe",
          "world/Asia",
          "world/Africa",
          "world/Africa",
          "world/Asia",
          "world/Africa",
          "world/Asia",
          "world/Europe",
          "world/Oceania",
          "world/Americas",
          "world/Africa",
          "world/Europe",
          "world/Europe",
          "world/Asia",
          "world/Americas",
          "world/Americas",
          "world/Americas",
          "world/Asia",
          "world/Europe",
          "world/Europe",
          "world/Europe",
          "world/Asia",
          "world/Africa",
          "world/Europe",
          "world/Africa",
          "world/Asia",
          "world/Europe",
          "world/Africa",
          "world/Europe",
          "world/Asia",
          "world/Europe",
          "world/Europe",
          "world/Asia",
          "world/Africa",
          "world/Asia",
          "world/Africa",
          "world/Africa",
          "world/Asia",
          "world/Americas",
          "world/Africa",
          "world/Asia",
          "world/Asia",
          "world/Europe",
          "world/Americas",
          "world/Asia",
          "world/Africa",
          "world/Africa",
          "world",
          "world",
          "world",
          "world",
          "world",
          ""
         ],
         "type": "treemap",
         "values": [
          40099462,
          2811666,
          44177969,
          45808747,
          2790974,
          25688079,
          8955797,
          169356251,
          11592952,
          12996895,
          12079472,
          3270943,
          214326223,
          6877743,
          22100683,
          16589023,
          27198628,
          38226498,
          19493184,
          1412360000,
          51516562,
          5153957,
          3879000,
          1244188,
          10505772,
          5856733,
          11117873,
          17797737,
          6314167,
          1330932,
          5541017,
          67749632,
          2341179,
          3708610,
          83196078,
          32833031,
          10641221,
          13531906,
          10278345,
          9709891,
          372520,
          1407563842,
          273753191,
          43533592,
          5033165,
          9364700,
          59109668,
          2827695,
          125681593,
          11148278,
          19000988,
          53005614,
          1884490,
          5592631,
          2800839,
          19889742,
          33573874,
          21904983,
          518536,
          1266334,
          126705138,
          2615199,
          3347782,
          37076584,
          32077072,
          53798084,
          1786038,
          30034989,
          17533044,
          5111400,
          6850540,
          213401323,
          2065092,
          5408320,
          231402117,
          4351267,
          6703799,
          33715471,
          113880328,
          37747124,
          10325147,
          19119880,
          35950396,
          16876720,
          6834326,
          8420641,
          5453566,
          2108079,
          59392255,
          47415750,
          22156000,
          10415811,
          8703405,
          9750064,
          63588334,
          71601103,
          8644829,
          12262946,
          84775404,
          332031554,
          45853778,
          43792855,
          9365145,
          67026300,
          3426260,
          34915100,
          19473125,
          15993524,
          786094133,
          948724489,
          4324339942,
          540200260,
          30799479,
          6630158303
         ]
        }
       ],
       "layout": {
        "coloraxis": {
         "cmax": 8,
         "cmid": 5.17040900711631,
         "cmin": 3,
         "colorbar": {
          "title": {
           "text": "Life Ladder"
          }
         },
         "colorscale": [
          [
           0,
           "#440154"
          ],
          [
           0.1111111111111111,
           "#482878"
          ],
          [
           0.2222222222222222,
           "#3e4989"
          ],
          [
           0.3333333333333333,
           "#31688e"
          ],
          [
           0.4444444444444444,
           "#26828e"
          ],
          [
           0.5555555555555556,
           "#1f9e89"
          ],
          [
           0.6666666666666666,
           "#35b779"
          ],
          [
           0.7777777777777778,
           "#6ece58"
          ],
          [
           0.8888888888888888,
           "#b5de2b"
          ],
          [
           1,
           "#fde725"
          ]
         ]
        },
        "legend": {
         "tracegroupgap": 0
        },
        "template": {
         "data": {
          "bar": [
           {
            "error_x": {
             "color": "#2a3f5f"
            },
            "error_y": {
             "color": "#2a3f5f"
            },
            "marker": {
             "line": {
              "color": "#E5ECF6",
              "width": 0.5
             },
             "pattern": {
              "fillmode": "overlay",
              "size": 10,
              "solidity": 0.2
             }
            },
            "type": "bar"
           }
          ],
          "barpolar": [
           {
            "marker": {
             "line": {
              "color": "#E5ECF6",
              "width": 0.5
             },
             "pattern": {
              "fillmode": "overlay",
              "size": 10,
              "solidity": 0.2
             }
            },
            "type": "barpolar"
           }
          ],
          "carpet": [
           {
            "aaxis": {
             "endlinecolor": "#2a3f5f",
             "gridcolor": "white",
             "linecolor": "white",
             "minorgridcolor": "white",
             "startlinecolor": "#2a3f5f"
            },
            "baxis": {
             "endlinecolor": "#2a3f5f",
             "gridcolor": "white",
             "linecolor": "white",
             "minorgridcolor": "white",
             "startlinecolor": "#2a3f5f"
            },
            "type": "carpet"
           }
          ],
          "choropleth": [
           {
            "colorbar": {
             "outlinewidth": 0,
             "ticks": ""
            },
            "type": "choropleth"
           }
          ],
          "contour": [
           {
            "colorbar": {
             "outlinewidth": 0,
             "ticks": ""
            },
            "colorscale": [
             [
              0,
              "#0d0887"
             ],
             [
              0.1111111111111111,
              "#46039f"
             ],
             [
              0.2222222222222222,
              "#7201a8"
             ],
             [
              0.3333333333333333,
              "#9c179e"
             ],
             [
              0.4444444444444444,
              "#bd3786"
             ],
             [
              0.5555555555555556,
              "#d8576b"
             ],
             [
              0.6666666666666666,
              "#ed7953"
             ],
             [
              0.7777777777777778,
              "#fb9f3a"
             ],
             [
              0.8888888888888888,
              "#fdca26"
             ],
             [
              1,
              "#f0f921"
             ]
            ],
            "type": "contour"
           }
          ],
          "contourcarpet": [
           {
            "colorbar": {
             "outlinewidth": 0,
             "ticks": ""
            },
            "type": "contourcarpet"
           }
          ],
          "heatmap": [
           {
            "colorbar": {
             "outlinewidth": 0,
             "ticks": ""
            },
            "colorscale": [
             [
              0,
              "#0d0887"
             ],
             [
              0.1111111111111111,
              "#46039f"
             ],
             [
              0.2222222222222222,
              "#7201a8"
             ],
             [
              0.3333333333333333,
              "#9c179e"
             ],
             [
              0.4444444444444444,
              "#bd3786"
             ],
             [
              0.5555555555555556,
              "#d8576b"
             ],
             [
              0.6666666666666666,
              "#ed7953"
             ],
             [
              0.7777777777777778,
              "#fb9f3a"
             ],
             [
              0.8888888888888888,
              "#fdca26"
             ],
             [
              1,
              "#f0f921"
             ]
            ],
            "type": "heatmap"
           }
          ],
          "heatmapgl": [
           {
            "colorbar": {
             "outlinewidth": 0,
             "ticks": ""
            },
            "colorscale": [
             [
              0,
              "#0d0887"
             ],
             [
              0.1111111111111111,
              "#46039f"
             ],
             [
              0.2222222222222222,
              "#7201a8"
             ],
             [
              0.3333333333333333,
              "#9c179e"
             ],
             [
              0.4444444444444444,
              "#bd3786"
             ],
             [
              0.5555555555555556,
              "#d8576b"
             ],
             [
              0.6666666666666666,
              "#ed7953"
             ],
             [
              0.7777777777777778,
              "#fb9f3a"
             ],
             [
              0.8888888888888888,
              "#fdca26"
             ],
             [
              1,
              "#f0f921"
             ]
            ],
            "type": "heatmapgl"
           }
          ],
          "histogram": [
           {
            "marker": {
             "pattern": {
              "fillmode": "overlay",
              "size": 10,
              "solidity": 0.2
             }
            },
            "type": "histogram"
           }
          ],
          "histogram2d": [
           {
            "colorbar": {
             "outlinewidth": 0,
             "ticks": ""
            },
            "colorscale": [
             [
              0,
              "#0d0887"
             ],
             [
              0.1111111111111111,
              "#46039f"
             ],
             [
              0.2222222222222222,
              "#7201a8"
             ],
             [
              0.3333333333333333,
              "#9c179e"
             ],
             [
              0.4444444444444444,
              "#bd3786"
             ],
             [
              0.5555555555555556,
              "#d8576b"
             ],
             [
              0.6666666666666666,
              "#ed7953"
             ],
             [
              0.7777777777777778,
              "#fb9f3a"
             ],
             [
              0.8888888888888888,
              "#fdca26"
             ],
             [
              1,
              "#f0f921"
             ]
            ],
            "type": "histogram2d"
           }
          ],
          "histogram2dcontour": [
           {
            "colorbar": {
             "outlinewidth": 0,
             "ticks": ""
            },
            "colorscale": [
             [
              0,
              "#0d0887"
             ],
             [
              0.1111111111111111,
              "#46039f"
             ],
             [
              0.2222222222222222,
              "#7201a8"
             ],
             [
              0.3333333333333333,
              "#9c179e"
             ],
             [
              0.4444444444444444,
              "#bd3786"
             ],
             [
              0.5555555555555556,
              "#d8576b"
             ],
             [
              0.6666666666666666,
              "#ed7953"
             ],
             [
              0.7777777777777778,
              "#fb9f3a"
             ],
             [
              0.8888888888888888,
              "#fdca26"
             ],
             [
              1,
              "#f0f921"
             ]
            ],
            "type": "histogram2dcontour"
           }
          ],
          "mesh3d": [
           {
            "colorbar": {
             "outlinewidth": 0,
             "ticks": ""
            },
            "type": "mesh3d"
           }
          ],
          "parcoords": [
           {
            "line": {
             "colorbar": {
              "outlinewidth": 0,
              "ticks": ""
             }
            },
            "type": "parcoords"
           }
          ],
          "pie": [
           {
            "automargin": true,
            "type": "pie"
           }
          ],
          "scatter": [
           {
            "fillpattern": {
             "fillmode": "overlay",
             "size": 10,
             "solidity": 0.2
            },
            "type": "scatter"
           }
          ],
          "scatter3d": [
           {
            "line": {
             "colorbar": {
              "outlinewidth": 0,
              "ticks": ""
             }
            },
            "marker": {
             "colorbar": {
              "outlinewidth": 0,
              "ticks": ""
             }
            },
            "type": "scatter3d"
           }
          ],
          "scattercarpet": [
           {
            "marker": {
             "colorbar": {
              "outlinewidth": 0,
              "ticks": ""
             }
            },
            "type": "scattercarpet"
           }
          ],
          "scattergeo": [
           {
            "marker": {
             "colorbar": {
              "outlinewidth": 0,
              "ticks": ""
             }
            },
            "type": "scattergeo"
           }
          ],
          "scattergl": [
           {
            "marker": {
             "colorbar": {
              "outlinewidth": 0,
              "ticks": ""
             }
            },
            "type": "scattergl"
           }
          ],
          "scattermapbox": [
           {
            "marker": {
             "colorbar": {
              "outlinewidth": 0,
              "ticks": ""
             }
            },
            "type": "scattermapbox"
           }
          ],
          "scatterpolar": [
           {
            "marker": {
             "colorbar": {
              "outlinewidth": 0,
              "ticks": ""
             }
            },
            "type": "scatterpolar"
           }
          ],
          "scatterpolargl": [
           {
            "marker": {
             "colorbar": {
              "outlinewidth": 0,
              "ticks": ""
             }
            },
            "type": "scatterpolargl"
           }
          ],
          "scatterternary": [
           {
            "marker": {
             "colorbar": {
              "outlinewidth": 0,
              "ticks": ""
             }
            },
            "type": "scatterternary"
           }
          ],
          "surface": [
           {
            "colorbar": {
             "outlinewidth": 0,
             "ticks": ""
            },
            "colorscale": [
             [
              0,
              "#0d0887"
             ],
             [
              0.1111111111111111,
              "#46039f"
             ],
             [
              0.2222222222222222,
              "#7201a8"
             ],
             [
              0.3333333333333333,
              "#9c179e"
             ],
             [
              0.4444444444444444,
              "#bd3786"
             ],
             [
              0.5555555555555556,
              "#d8576b"
             ],
             [
              0.6666666666666666,
              "#ed7953"
             ],
             [
              0.7777777777777778,
              "#fb9f3a"
             ],
             [
              0.8888888888888888,
              "#fdca26"
             ],
             [
              1,
              "#f0f921"
             ]
            ],
            "type": "surface"
           }
          ],
          "table": [
           {
            "cells": {
             "fill": {
              "color": "#EBF0F8"
             },
             "line": {
              "color": "white"
             }
            },
            "header": {
             "fill": {
              "color": "#C8D4E3"
             },
             "line": {
              "color": "white"
             }
            },
            "type": "table"
           }
          ]
         },
         "layout": {
          "annotationdefaults": {
           "arrowcolor": "#2a3f5f",
           "arrowhead": 0,
           "arrowwidth": 1
          },
          "autotypenumbers": "strict",
          "coloraxis": {
           "colorbar": {
            "outlinewidth": 0,
            "ticks": ""
           }
          },
          "colorscale": {
           "diverging": [
            [
             0,
             "#8e0152"
            ],
            [
             0.1,
             "#c51b7d"
            ],
            [
             0.2,
             "#de77ae"
            ],
            [
             0.3,
             "#f1b6da"
            ],
            [
             0.4,
             "#fde0ef"
            ],
            [
             0.5,
             "#f7f7f7"
            ],
            [
             0.6,
             "#e6f5d0"
            ],
            [
             0.7,
             "#b8e186"
            ],
            [
             0.8,
             "#7fbc41"
            ],
            [
             0.9,
             "#4d9221"
            ],
            [
             1,
             "#276419"
            ]
           ],
           "sequential": [
            [
             0,
             "#0d0887"
            ],
            [
             0.1111111111111111,
             "#46039f"
            ],
            [
             0.2222222222222222,
             "#7201a8"
            ],
            [
             0.3333333333333333,
             "#9c179e"
            ],
            [
             0.4444444444444444,
             "#bd3786"
            ],
            [
             0.5555555555555556,
             "#d8576b"
            ],
            [
             0.6666666666666666,
             "#ed7953"
            ],
            [
             0.7777777777777778,
             "#fb9f3a"
            ],
            [
             0.8888888888888888,
             "#fdca26"
            ],
            [
             1,
             "#f0f921"
            ]
           ],
           "sequentialminus": [
            [
             0,
             "#0d0887"
            ],
            [
             0.1111111111111111,
             "#46039f"
            ],
            [
             0.2222222222222222,
             "#7201a8"
            ],
            [
             0.3333333333333333,
             "#9c179e"
            ],
            [
             0.4444444444444444,
             "#bd3786"
            ],
            [
             0.5555555555555556,
             "#d8576b"
            ],
            [
             0.6666666666666666,
             "#ed7953"
            ],
            [
             0.7777777777777778,
             "#fb9f3a"
            ],
            [
             0.8888888888888888,
             "#fdca26"
            ],
            [
             1,
             "#f0f921"
            ]
           ]
          },
          "colorway": [
           "#636efa",
           "#EF553B",
           "#00cc96",
           "#ab63fa",
           "#FFA15A",
           "#19d3f3",
           "#FF6692",
           "#B6E880",
           "#FF97FF",
           "#FECB52"
          ],
          "font": {
           "color": "#2a3f5f"
          },
          "geo": {
           "bgcolor": "white",
           "lakecolor": "white",
           "landcolor": "#E5ECF6",
           "showlakes": true,
           "showland": true,
           "subunitcolor": "white"
          },
          "hoverlabel": {
           "align": "left"
          },
          "hovermode": "closest",
          "mapbox": {
           "style": "light"
          },
          "paper_bgcolor": "white",
          "plot_bgcolor": "#E5ECF6",
          "polar": {
           "angularaxis": {
            "gridcolor": "white",
            "linecolor": "white",
            "ticks": ""
           },
           "bgcolor": "#E5ECF6",
           "radialaxis": {
            "gridcolor": "white",
            "linecolor": "white",
            "ticks": ""
           }
          },
          "scene": {
           "xaxis": {
            "backgroundcolor": "#E5ECF6",
            "gridcolor": "white",
            "gridwidth": 2,
            "linecolor": "white",
            "showbackground": true,
            "ticks": "",
            "zerolinecolor": "white"
           },
           "yaxis": {
            "backgroundcolor": "#E5ECF6",
            "gridcolor": "white",
            "gridwidth": 2,
            "linecolor": "white",
            "showbackground": true,
            "ticks": "",
            "zerolinecolor": "white"
           },
           "zaxis": {
            "backgroundcolor": "#E5ECF6",
            "gridcolor": "white",
            "gridwidth": 2,
            "linecolor": "white",
            "showbackground": true,
            "ticks": "",
            "zerolinecolor": "white"
           }
          },
          "shapedefaults": {
           "line": {
            "color": "#2a3f5f"
           }
          },
          "ternary": {
           "aaxis": {
            "gridcolor": "white",
            "linecolor": "white",
            "ticks": ""
           },
           "baxis": {
            "gridcolor": "white",
            "linecolor": "white",
            "ticks": ""
           },
           "bgcolor": "#E5ECF6",
           "caxis": {
            "gridcolor": "white",
            "linecolor": "white",
            "ticks": ""
           }
          },
          "title": {
           "x": 0.05
          },
          "xaxis": {
           "automargin": true,
           "gridcolor": "white",
           "linecolor": "white",
           "ticks": "",
           "title": {
            "standoff": 15
           },
           "zerolinecolor": "white",
           "zerolinewidth": 2
          },
          "yaxis": {
           "automargin": true,
           "gridcolor": "white",
           "linecolor": "white",
           "ticks": "",
           "title": {
            "standoff": 15
           },
           "zerolinecolor": "white",
           "zerolinewidth": 2
          }
         }
        },
        "title": {
         "text": "2021"
        },
        "width": 700
       }
      },
      "text/html": [
       "<div>                            <div id=\"e0bb6882-54ee-41d8-8cf3-6abbed7536be\" class=\"plotly-graph-div\" style=\"height:525px; width:700px;\"></div>            <script type=\"text/javascript\">                require([\"plotly\"], function(Plotly) {                    window.PLOTLYENV=window.PLOTLYENV || {};                                    if (document.getElementById(\"e0bb6882-54ee-41d8-8cf3-6abbed7536be\")) {                    Plotly.newPlot(                        \"e0bb6882-54ee-41d8-8cf3-6abbed7536be\",                        [{\"branchvalues\":\"total\",\"customdata\":[[\"Afghanistan\",2.4360344409942627],[\"Albania\",5.255481719970703],[\"Algeria\",5.217017650604248],[\"Argentina\",5.908278942108154],[\"Armenia\",5.300568580627441],[\"Australia\",7.111598968505859],[\"Austria\",7.079640865325928],[\"Bangladesh\",4.123318672180176],[\"Belgium\",6.88175630569458],[\"Benin\",4.493431091308594],[\"Bolivia\",5.568624019622803],[\"Bosnia and Herzegovina\",5.748823165893555],[\"Brazil\",6.009953498840332],[\"Bulgaria\",5.421693325042725],[\"Burkina Faso\",4.6355085372924805],[\"Cambodia\",4.555141448974609],[\"Cameroon\",4.962747573852539],[\"Canada\",6.9394354820251465],[\"Chile\",6.435630798339844],[\"China\",5.8628644943237305],[\"Colombia\",5.289958477020264],[\"Costa Rica\",6.408448219299316],[\"Croatia\",6.286790370941162],[\"Cyprus\",6.26920223236084],[\"Czech Republic\",6.9424967765808105],[\"Denmark\",7.698747158050537],[\"Dominican Republic\",6.030537128448486],[\"Ecuador\",5.434872150421143],[\"El Salvador\",6.4314470291137695],[\"Estonia\",6.553915500640869],[\"Finland\",7.79437780380249],[\"France\",6.656206607818604],[\"Gabon\",5.075422286987305],[\"Georgia\",4.91127347946167],[\"Germany\",6.754523754119873],[\"Ghana\",4.377950668334961],[\"Greece\",6.104214191436768],[\"Guinea\",4.944539546966553],[\"Honduras\",6.113636016845703],[\"Hungary\",6.226647853851318],[\"Iceland\",7.564624786376953],[\"India\",3.558253765106201],[\"Indonesia\",5.433173179626465],[\"Iraq\",5.093667984008789],[\"Ireland\",6.827651977539064],[\"Israel\",7.57752799987793],[\"Italy\",6.466744899749756],[\"Jamaica\",5.813733577728272],[\"Japan\",6.091324806213379],[\"Jordan\",3.909149169921875],[\"Kazakhstan\",6.259634017944336],[\"Kenya\",4.464540958404541],[\"Latvia\",6.353090763092041],[\"Lebanon\",2.178809404373169],[\"Lithuania\",6.864572525024414],[\"Malawi\",3.6352832317352295],[\"Malaysia\",6.010391712188721],[\"Mali\",4.113095760345459],[\"Malta\",6.44371509552002],[\"Mauritius\",5.949120044708252],[\"Mexico\",5.990750789642334],[\"Moldova\",5.959048748016357],[\"Mongolia\",5.721034049987793],[\"Morocco\",5.326248645782471],[\"Mozambique\",5.1784868240356445],[\"Myanmar\",4.314039707183838],[\"Namibia\",6.648499488830566],[\"Nepal\",4.622300148010254],[\"Netherlands\",7.314151287078857],[\"New Zealand\",7.136700630187988],[\"Nicaragua\",6.095348834991455],[\"Nigeria\",4.4792656898498535],[\"North Macedonia\",5.534749984741211],[\"Norway\",7.361573696136475],[\"Pakistan\",4.486834526062012],[\"Panama\",6.552778720855713],[\"Paraguay\",5.575535297393799],[\"Peru\",5.694317817687988],[\"Philippines\",5.965057849884033],[\"Poland\",5.978068828582764],[\"Portugal\",6.183014392852783],[\"Romania\",6.548725605010986],[\"Saudi Arabia\",6.445294380187988],[\"Senegal\",4.902830600738525],[\"Serbia\",6.245267391204834],[\"Sierra Leone\",3.71429443359375],[\"Singapore\",6.586717128753662],[\"Slovenia\",6.761220932006836],[\"South Africa\",5.598653793334961],[\"Spain\",6.469611167907715],[\"Sri Lanka\",4.103446960449219],[\"Sweden\",7.439280033111572],[\"Switzerland\",7.327672481536865],[\"Tajikistan\",5.2868242263793945],[\"Tanzania\",3.680567979812622],[\"Thailand\",5.638096809387207],[\"Togo\",4.036543846130371],[\"Tunisia\",4.499485969543457],[\"Turkey\",4.366639614105225],[\"USA\",6.95908784866333],[\"Uganda\",4.224533557891846],[\"Ukraine\",5.311355113983154],[\"United Arab Emirates\",6.733067512512207],[\"United Kingdom\",6.86696195602417],[\"Uruguay\",6.501700401306152],[\"Uzbekistan\",6.18530797958374],[\"Zambia\",3.0821549892425537],[\"Zimbabwe\",3.15457820892334],[\"(?)\",4.530753691326692],[\"(?)\",6.321693480493307],[\"(?)\",4.837467958047111],[\"(?)\",6.633592030988279],[\"(?)\",7.115764773827502],[\"(?)\",5.17040900711631]],\"domain\":{\"x\":[0.0,1.0],\"y\":[0.0,1.0]},\"hovertemplate\":\"labels=%{label}\\u003cbr\\u003epop=%{value}\\u003cbr\\u003eparent=%{parent}\\u003cbr\\u003eid=%{id}\\u003cbr\\u003ecountry=%{customdata[0]}\\u003cbr\\u003eLife Ladder=%{color}\\u003cextra\\u003e\\u003c\\u002fextra\\u003e\",\"ids\":[\"world\\u002fAsia\\u002fAfghanistan\",\"world\\u002fEurope\\u002fAlbania\",\"world\\u002fAfrica\\u002fAlgeria\",\"world\\u002fAmericas\\u002fArgentina\",\"world\\u002fAsia\\u002fArmenia\",\"world\\u002fOceania\\u002fAustralia\",\"world\\u002fEurope\\u002fAustria\",\"world\\u002fAsia\\u002fBangladesh\",\"world\\u002fEurope\\u002fBelgium\",\"world\\u002fAfrica\\u002fBenin\",\"world\\u002fAmericas\\u002fBolivia\",\"world\\u002fEurope\\u002fBosnia and Herzegovina\",\"world\\u002fAmericas\\u002fBrazil\",\"world\\u002fEurope\\u002fBulgaria\",\"world\\u002fAfrica\\u002fBurkina Faso\",\"world\\u002fAsia\\u002fCambodia\",\"world\\u002fAfrica\\u002fCameroon\",\"world\\u002fAmericas\\u002fCanada\",\"world\\u002fAmericas\\u002fChile\",\"world\\u002fAsia\\u002fChina\",\"world\\u002fAmericas\\u002fColombia\",\"world\\u002fAmericas\\u002fCosta Rica\",\"world\\u002fEurope\\u002fCroatia\",\"world\\u002fEurope\\u002fCyprus\",\"world\\u002fEurope\\u002fCzech Republic\",\"world\\u002fEurope\\u002fDenmark\",\"world\\u002fAmericas\\u002fDominican Republic\",\"world\\u002fAmericas\\u002fEcuador\",\"world\\u002fAmericas\\u002fEl Salvador\",\"world\\u002fEurope\\u002fEstonia\",\"world\\u002fEurope\\u002fFinland\",\"world\\u002fEurope\\u002fFrance\",\"world\\u002fAfrica\\u002fGabon\",\"world\\u002fAsia\\u002fGeorgia\",\"world\\u002fEurope\\u002fGermany\",\"world\\u002fAfrica\\u002fGhana\",\"world\\u002fEurope\\u002fGreece\",\"world\\u002fAfrica\\u002fGuinea\",\"world\\u002fAmericas\\u002fHonduras\",\"world\\u002fEurope\\u002fHungary\",\"world\\u002fEurope\\u002fIceland\",\"world\\u002fAsia\\u002fIndia\",\"world\\u002fAsia\\u002fIndonesia\",\"world\\u002fAsia\\u002fIraq\",\"world\\u002fEurope\\u002fIreland\",\"world\\u002fAsia\\u002fIsrael\",\"world\\u002fEurope\\u002fItaly\",\"world\\u002fAmericas\\u002fJamaica\",\"world\\u002fAsia\\u002fJapan\",\"world\\u002fAsia\\u002fJordan\",\"world\\u002fAsia\\u002fKazakhstan\",\"world\\u002fAfrica\\u002fKenya\",\"world\\u002fEurope\\u002fLatvia\",\"world\\u002fAsia\\u002fLebanon\",\"world\\u002fEurope\\u002fLithuania\",\"world\\u002fAfrica\\u002fMalawi\",\"world\\u002fAsia\\u002fMalaysia\",\"world\\u002fAfrica\\u002fMali\",\"world\\u002fEurope\\u002fMalta\",\"world\\u002fAfrica\\u002fMauritius\",\"world\\u002fAmericas\\u002fMexico\",\"world\\u002fEurope\\u002fMoldova\",\"world\\u002fAsia\\u002fMongolia\",\"world\\u002fAfrica\\u002fMorocco\",\"world\\u002fAfrica\\u002fMozambique\",\"world\\u002fAsia\\u002fMyanmar\",\"world\\u002fAfrica\\u002fNamibia\",\"world\\u002fAsia\\u002fNepal\",\"world\\u002fEurope\\u002fNetherlands\",\"world\\u002fOceania\\u002fNew Zealand\",\"world\\u002fAmericas\\u002fNicaragua\",\"world\\u002fAfrica\\u002fNigeria\",\"world\\u002fEurope\\u002fNorth Macedonia\",\"world\\u002fEurope\\u002fNorway\",\"world\\u002fAsia\\u002fPakistan\",\"world\\u002fAmericas\\u002fPanama\",\"world\\u002fAmericas\\u002fParaguay\",\"world\\u002fAmericas\\u002fPeru\",\"world\\u002fAsia\\u002fPhilippines\",\"world\\u002fEurope\\u002fPoland\",\"world\\u002fEurope\\u002fPortugal\",\"world\\u002fEurope\\u002fRomania\",\"world\\u002fAsia\\u002fSaudi Arabia\",\"world\\u002fAfrica\\u002fSenegal\",\"world\\u002fEurope\\u002fSerbia\",\"world\\u002fAfrica\\u002fSierra Leone\",\"world\\u002fAsia\\u002fSingapore\",\"world\\u002fEurope\\u002fSlovenia\",\"world\\u002fAfrica\\u002fSouth Africa\",\"world\\u002fEurope\\u002fSpain\",\"world\\u002fAsia\\u002fSri Lanka\",\"world\\u002fEurope\\u002fSweden\",\"world\\u002fEurope\\u002fSwitzerland\",\"world\\u002fAsia\\u002fTajikistan\",\"world\\u002fAfrica\\u002fTanzania\",\"world\\u002fAsia\\u002fThailand\",\"world\\u002fAfrica\\u002fTogo\",\"world\\u002fAfrica\\u002fTunisia\",\"world\\u002fAsia\\u002fTurkey\",\"world\\u002fAmericas\\u002fUSA\",\"world\\u002fAfrica\\u002fUganda\",\"world\\u002fAsia\\u002fUkraine\",\"world\\u002fAsia\\u002fUnited Arab Emirates\",\"world\\u002fEurope\\u002fUnited Kingdom\",\"world\\u002fAmericas\\u002fUruguay\",\"world\\u002fAsia\\u002fUzbekistan\",\"world\\u002fAfrica\\u002fZambia\",\"world\\u002fAfrica\\u002fZimbabwe\",\"world\\u002fAfrica\",\"world\\u002fAmericas\",\"world\\u002fAsia\",\"world\\u002fEurope\",\"world\\u002fOceania\",\"world\"],\"labels\":[\"Afghanistan\",\"Albania\",\"Algeria\",\"Argentina\",\"Armenia\",\"Australia\",\"Austria\",\"Bangladesh\",\"Belgium\",\"Benin\",\"Bolivia\",\"Bosnia and Herzegovina\",\"Brazil\",\"Bulgaria\",\"Burkina Faso\",\"Cambodia\",\"Cameroon\",\"Canada\",\"Chile\",\"China\",\"Colombia\",\"Costa Rica\",\"Croatia\",\"Cyprus\",\"Czech Republic\",\"Denmark\",\"Dominican Republic\",\"Ecuador\",\"El Salvador\",\"Estonia\",\"Finland\",\"France\",\"Gabon\",\"Georgia\",\"Germany\",\"Ghana\",\"Greece\",\"Guinea\",\"Honduras\",\"Hungary\",\"Iceland\",\"India\",\"Indonesia\",\"Iraq\",\"Ireland\",\"Israel\",\"Italy\",\"Jamaica\",\"Japan\",\"Jordan\",\"Kazakhstan\",\"Kenya\",\"Latvia\",\"Lebanon\",\"Lithuania\",\"Malawi\",\"Malaysia\",\"Mali\",\"Malta\",\"Mauritius\",\"Mexico\",\"Moldova\",\"Mongolia\",\"Morocco\",\"Mozambique\",\"Myanmar\",\"Namibia\",\"Nepal\",\"Netherlands\",\"New Zealand\",\"Nicaragua\",\"Nigeria\",\"North Macedonia\",\"Norway\",\"Pakistan\",\"Panama\",\"Paraguay\",\"Peru\",\"Philippines\",\"Poland\",\"Portugal\",\"Romania\",\"Saudi Arabia\",\"Senegal\",\"Serbia\",\"Sierra Leone\",\"Singapore\",\"Slovenia\",\"South Africa\",\"Spain\",\"Sri Lanka\",\"Sweden\",\"Switzerland\",\"Tajikistan\",\"Tanzania\",\"Thailand\",\"Togo\",\"Tunisia\",\"Turkey\",\"USA\",\"Uganda\",\"Ukraine\",\"United Arab Emirates\",\"United Kingdom\",\"Uruguay\",\"Uzbekistan\",\"Zambia\",\"Zimbabwe\",\"Africa\",\"Americas\",\"Asia\",\"Europe\",\"Oceania\",\"world\"],\"marker\":{\"coloraxis\":\"coloraxis\",\"colors\":[2.4360344409942627,5.255481719970703,5.217017650604248,5.908278942108154,5.300568580627441,7.111598968505859,7.079640865325928,4.123318672180176,6.88175630569458,4.493431091308594,5.568624019622803,5.748823165893555,6.009953498840332,5.421693325042725,4.6355085372924805,4.555141448974609,4.962747573852539,6.9394354820251465,6.435630798339844,5.8628644943237305,5.289958477020264,6.408448219299316,6.286790370941162,6.26920223236084,6.9424967765808105,7.698747158050537,6.030537128448486,5.434872150421143,6.4314470291137695,6.553915500640869,7.79437780380249,6.656206607818604,5.075422286987305,4.91127347946167,6.754523754119873,4.377950668334961,6.104214191436768,4.944539546966553,6.113636016845703,6.226647853851318,7.564624786376953,3.558253765106201,5.433173179626465,5.093667984008789,6.827651977539064,7.57752799987793,6.466744899749756,5.813733577728272,6.091324806213379,3.909149169921875,6.259634017944336,4.464540958404541,6.353090763092041,2.178809404373169,6.864572525024414,3.6352832317352295,6.010391712188721,4.113095760345459,6.44371509552002,5.949120044708252,5.990750789642334,5.959048748016357,5.721034049987793,5.326248645782471,5.1784868240356445,4.314039707183838,6.648499488830566,4.622300148010254,7.314151287078857,7.136700630187988,6.095348834991455,4.4792656898498535,5.534749984741211,7.361573696136475,4.486834526062012,6.552778720855713,5.575535297393799,5.694317817687988,5.965057849884033,5.978068828582764,6.183014392852783,6.548725605010986,6.445294380187988,4.902830600738525,6.245267391204834,3.71429443359375,6.586717128753662,6.761220932006836,5.598653793334961,6.469611167907715,4.103446960449219,7.439280033111572,7.327672481536865,5.2868242263793945,3.680567979812622,5.638096809387207,4.036543846130371,4.499485969543457,4.366639614105225,6.95908784866333,4.224533557891846,5.311355113983154,6.733067512512207,6.86696195602417,6.501700401306152,6.18530797958374,3.0821549892425537,3.15457820892334,4.530753691326692,6.321693480493307,4.837467958047111,6.633592030988279,7.115764773827502,5.17040900711631]},\"name\":\"\",\"parents\":[\"world\\u002fAsia\",\"world\\u002fEurope\",\"world\\u002fAfrica\",\"world\\u002fAmericas\",\"world\\u002fAsia\",\"world\\u002fOceania\",\"world\\u002fEurope\",\"world\\u002fAsia\",\"world\\u002fEurope\",\"world\\u002fAfrica\",\"world\\u002fAmericas\",\"world\\u002fEurope\",\"world\\u002fAmericas\",\"world\\u002fEurope\",\"world\\u002fAfrica\",\"world\\u002fAsia\",\"world\\u002fAfrica\",\"world\\u002fAmericas\",\"world\\u002fAmericas\",\"world\\u002fAsia\",\"world\\u002fAmericas\",\"world\\u002fAmericas\",\"world\\u002fEurope\",\"world\\u002fEurope\",\"world\\u002fEurope\",\"world\\u002fEurope\",\"world\\u002fAmericas\",\"world\\u002fAmericas\",\"world\\u002fAmericas\",\"world\\u002fEurope\",\"world\\u002fEurope\",\"world\\u002fEurope\",\"world\\u002fAfrica\",\"world\\u002fAsia\",\"world\\u002fEurope\",\"world\\u002fAfrica\",\"world\\u002fEurope\",\"world\\u002fAfrica\",\"world\\u002fAmericas\",\"world\\u002fEurope\",\"world\\u002fEurope\",\"world\\u002fAsia\",\"world\\u002fAsia\",\"world\\u002fAsia\",\"world\\u002fEurope\",\"world\\u002fAsia\",\"world\\u002fEurope\",\"world\\u002fAmericas\",\"world\\u002fAsia\",\"world\\u002fAsia\",\"world\\u002fAsia\",\"world\\u002fAfrica\",\"world\\u002fEurope\",\"world\\u002fAsia\",\"world\\u002fEurope\",\"world\\u002fAfrica\",\"world\\u002fAsia\",\"world\\u002fAfrica\",\"world\\u002fEurope\",\"world\\u002fAfrica\",\"world\\u002fAmericas\",\"world\\u002fEurope\",\"world\\u002fAsia\",\"world\\u002fAfrica\",\"world\\u002fAfrica\",\"world\\u002fAsia\",\"world\\u002fAfrica\",\"world\\u002fAsia\",\"world\\u002fEurope\",\"world\\u002fOceania\",\"world\\u002fAmericas\",\"world\\u002fAfrica\",\"world\\u002fEurope\",\"world\\u002fEurope\",\"world\\u002fAsia\",\"world\\u002fAmericas\",\"world\\u002fAmericas\",\"world\\u002fAmericas\",\"world\\u002fAsia\",\"world\\u002fEurope\",\"world\\u002fEurope\",\"world\\u002fEurope\",\"world\\u002fAsia\",\"world\\u002fAfrica\",\"world\\u002fEurope\",\"world\\u002fAfrica\",\"world\\u002fAsia\",\"world\\u002fEurope\",\"world\\u002fAfrica\",\"world\\u002fEurope\",\"world\\u002fAsia\",\"world\\u002fEurope\",\"world\\u002fEurope\",\"world\\u002fAsia\",\"world\\u002fAfrica\",\"world\\u002fAsia\",\"world\\u002fAfrica\",\"world\\u002fAfrica\",\"world\\u002fAsia\",\"world\\u002fAmericas\",\"world\\u002fAfrica\",\"world\\u002fAsia\",\"world\\u002fAsia\",\"world\\u002fEurope\",\"world\\u002fAmericas\",\"world\\u002fAsia\",\"world\\u002fAfrica\",\"world\\u002fAfrica\",\"world\",\"world\",\"world\",\"world\",\"world\",\"\"],\"values\":[40099462.0,2811666.0,44177969.0,45808747.0,2790974.0,25688079.0,8955797.0,169356251.0,11592952.0,12996895.0,12079472.0,3270943.0,214326223.0,6877743.0,22100683.0,16589023.0,27198628.0,38226498.0,19493184.0,1412360000.0,51516562.0,5153957.0,3879000.0,1244188.0,10505772.0,5856733.0,11117873.0,17797737.0,6314167.0,1330932.0,5541017.0,67749632.0,2341179.0,3708610.0,83196078.0,32833031.0,10641221.0,13531906.0,10278345.0,9709891.0,372520.0,1407563842.0,273753191.0,43533592.0,5033165.0,9364700.0,59109668.0,2827695.0,125681593.0,11148278.0,19000988.0,53005614.0,1884490.0,5592631.0,2800839.0,19889742.0,33573874.0,21904983.0,518536.0,1266334.0,126705138.0,2615199.0,3347782.0,37076584.0,32077072.0,53798084.0,1786038.0,30034989.0,17533044.0,5111400.0,6850540.0,213401323.0,2065092.0,5408320.0,231402117.0,4351267.0,6703799.0,33715471.0,113880328.0,37747124.0,10325147.0,19119880.0,35950396.0,16876720.0,6834326.0,8420641.0,5453566.0,2108079.0,59392255.0,47415750.0,22156000.0,10415811.0,8703405.0,9750064.0,63588334.0,71601103.0,8644829.0,12262946.0,84775404.0,332031554.0,45853778.0,43792855.0,9365145.0,67026300.0,3426260.0,34915100.0,19473125.0,15993524.0,786094133.0,948724489.0,4324339942.0,540200260.0,30799479.0,6630158303.0],\"type\":\"treemap\"}],                        {\"template\":{\"data\":{\"histogram2dcontour\":[{\"type\":\"histogram2dcontour\",\"colorbar\":{\"outlinewidth\":0,\"ticks\":\"\"},\"colorscale\":[[0.0,\"#0d0887\"],[0.1111111111111111,\"#46039f\"],[0.2222222222222222,\"#7201a8\"],[0.3333333333333333,\"#9c179e\"],[0.4444444444444444,\"#bd3786\"],[0.5555555555555556,\"#d8576b\"],[0.6666666666666666,\"#ed7953\"],[0.7777777777777778,\"#fb9f3a\"],[0.8888888888888888,\"#fdca26\"],[1.0,\"#f0f921\"]]}],\"choropleth\":[{\"type\":\"choropleth\",\"colorbar\":{\"outlinewidth\":0,\"ticks\":\"\"}}],\"histogram2d\":[{\"type\":\"histogram2d\",\"colorbar\":{\"outlinewidth\":0,\"ticks\":\"\"},\"colorscale\":[[0.0,\"#0d0887\"],[0.1111111111111111,\"#46039f\"],[0.2222222222222222,\"#7201a8\"],[0.3333333333333333,\"#9c179e\"],[0.4444444444444444,\"#bd3786\"],[0.5555555555555556,\"#d8576b\"],[0.6666666666666666,\"#ed7953\"],[0.7777777777777778,\"#fb9f3a\"],[0.8888888888888888,\"#fdca26\"],[1.0,\"#f0f921\"]]}],\"heatmap\":[{\"type\":\"heatmap\",\"colorbar\":{\"outlinewidth\":0,\"ticks\":\"\"},\"colorscale\":[[0.0,\"#0d0887\"],[0.1111111111111111,\"#46039f\"],[0.2222222222222222,\"#7201a8\"],[0.3333333333333333,\"#9c179e\"],[0.4444444444444444,\"#bd3786\"],[0.5555555555555556,\"#d8576b\"],[0.6666666666666666,\"#ed7953\"],[0.7777777777777778,\"#fb9f3a\"],[0.8888888888888888,\"#fdca26\"],[1.0,\"#f0f921\"]]}],\"heatmapgl\":[{\"type\":\"heatmapgl\",\"colorbar\":{\"outlinewidth\":0,\"ticks\":\"\"},\"colorscale\":[[0.0,\"#0d0887\"],[0.1111111111111111,\"#46039f\"],[0.2222222222222222,\"#7201a8\"],[0.3333333333333333,\"#9c179e\"],[0.4444444444444444,\"#bd3786\"],[0.5555555555555556,\"#d8576b\"],[0.6666666666666666,\"#ed7953\"],[0.7777777777777778,\"#fb9f3a\"],[0.8888888888888888,\"#fdca26\"],[1.0,\"#f0f921\"]]}],\"contourcarpet\":[{\"type\":\"contourcarpet\",\"colorbar\":{\"outlinewidth\":0,\"ticks\":\"\"}}],\"contour\":[{\"type\":\"contour\",\"colorbar\":{\"outlinewidth\":0,\"ticks\":\"\"},\"colorscale\":[[0.0,\"#0d0887\"],[0.1111111111111111,\"#46039f\"],[0.2222222222222222,\"#7201a8\"],[0.3333333333333333,\"#9c179e\"],[0.4444444444444444,\"#bd3786\"],[0.5555555555555556,\"#d8576b\"],[0.6666666666666666,\"#ed7953\"],[0.7777777777777778,\"#fb9f3a\"],[0.8888888888888888,\"#fdca26\"],[1.0,\"#f0f921\"]]}],\"surface\":[{\"type\":\"surface\",\"colorbar\":{\"outlinewidth\":0,\"ticks\":\"\"},\"colorscale\":[[0.0,\"#0d0887\"],[0.1111111111111111,\"#46039f\"],[0.2222222222222222,\"#7201a8\"],[0.3333333333333333,\"#9c179e\"],[0.4444444444444444,\"#bd3786\"],[0.5555555555555556,\"#d8576b\"],[0.6666666666666666,\"#ed7953\"],[0.7777777777777778,\"#fb9f3a\"],[0.8888888888888888,\"#fdca26\"],[1.0,\"#f0f921\"]]}],\"mesh3d\":[{\"type\":\"mesh3d\",\"colorbar\":{\"outlinewidth\":0,\"ticks\":\"\"}}],\"scatter\":[{\"fillpattern\":{\"fillmode\":\"overlay\",\"size\":10,\"solidity\":0.2},\"type\":\"scatter\"}],\"parcoords\":[{\"type\":\"parcoords\",\"line\":{\"colorbar\":{\"outlinewidth\":0,\"ticks\":\"\"}}}],\"scatterpolargl\":[{\"type\":\"scatterpolargl\",\"marker\":{\"colorbar\":{\"outlinewidth\":0,\"ticks\":\"\"}}}],\"bar\":[{\"error_x\":{\"color\":\"#2a3f5f\"},\"error_y\":{\"color\":\"#2a3f5f\"},\"marker\":{\"line\":{\"color\":\"#E5ECF6\",\"width\":0.5},\"pattern\":{\"fillmode\":\"overlay\",\"size\":10,\"solidity\":0.2}},\"type\":\"bar\"}],\"scattergeo\":[{\"type\":\"scattergeo\",\"marker\":{\"colorbar\":{\"outlinewidth\":0,\"ticks\":\"\"}}}],\"scatterpolar\":[{\"type\":\"scatterpolar\",\"marker\":{\"colorbar\":{\"outlinewidth\":0,\"ticks\":\"\"}}}],\"histogram\":[{\"marker\":{\"pattern\":{\"fillmode\":\"overlay\",\"size\":10,\"solidity\":0.2}},\"type\":\"histogram\"}],\"scattergl\":[{\"type\":\"scattergl\",\"marker\":{\"colorbar\":{\"outlinewidth\":0,\"ticks\":\"\"}}}],\"scatter3d\":[{\"type\":\"scatter3d\",\"line\":{\"colorbar\":{\"outlinewidth\":0,\"ticks\":\"\"}},\"marker\":{\"colorbar\":{\"outlinewidth\":0,\"ticks\":\"\"}}}],\"scattermapbox\":[{\"type\":\"scattermapbox\",\"marker\":{\"colorbar\":{\"outlinewidth\":0,\"ticks\":\"\"}}}],\"scatterternary\":[{\"type\":\"scatterternary\",\"marker\":{\"colorbar\":{\"outlinewidth\":0,\"ticks\":\"\"}}}],\"scattercarpet\":[{\"type\":\"scattercarpet\",\"marker\":{\"colorbar\":{\"outlinewidth\":0,\"ticks\":\"\"}}}],\"carpet\":[{\"aaxis\":{\"endlinecolor\":\"#2a3f5f\",\"gridcolor\":\"white\",\"linecolor\":\"white\",\"minorgridcolor\":\"white\",\"startlinecolor\":\"#2a3f5f\"},\"baxis\":{\"endlinecolor\":\"#2a3f5f\",\"gridcolor\":\"white\",\"linecolor\":\"white\",\"minorgridcolor\":\"white\",\"startlinecolor\":\"#2a3f5f\"},\"type\":\"carpet\"}],\"table\":[{\"cells\":{\"fill\":{\"color\":\"#EBF0F8\"},\"line\":{\"color\":\"white\"}},\"header\":{\"fill\":{\"color\":\"#C8D4E3\"},\"line\":{\"color\":\"white\"}},\"type\":\"table\"}],\"barpolar\":[{\"marker\":{\"line\":{\"color\":\"#E5ECF6\",\"width\":0.5},\"pattern\":{\"fillmode\":\"overlay\",\"size\":10,\"solidity\":0.2}},\"type\":\"barpolar\"}],\"pie\":[{\"automargin\":true,\"type\":\"pie\"}]},\"layout\":{\"autotypenumbers\":\"strict\",\"colorway\":[\"#636efa\",\"#EF553B\",\"#00cc96\",\"#ab63fa\",\"#FFA15A\",\"#19d3f3\",\"#FF6692\",\"#B6E880\",\"#FF97FF\",\"#FECB52\"],\"font\":{\"color\":\"#2a3f5f\"},\"hovermode\":\"closest\",\"hoverlabel\":{\"align\":\"left\"},\"paper_bgcolor\":\"white\",\"plot_bgcolor\":\"#E5ECF6\",\"polar\":{\"bgcolor\":\"#E5ECF6\",\"angularaxis\":{\"gridcolor\":\"white\",\"linecolor\":\"white\",\"ticks\":\"\"},\"radialaxis\":{\"gridcolor\":\"white\",\"linecolor\":\"white\",\"ticks\":\"\"}},\"ternary\":{\"bgcolor\":\"#E5ECF6\",\"aaxis\":{\"gridcolor\":\"white\",\"linecolor\":\"white\",\"ticks\":\"\"},\"baxis\":{\"gridcolor\":\"white\",\"linecolor\":\"white\",\"ticks\":\"\"},\"caxis\":{\"gridcolor\":\"white\",\"linecolor\":\"white\",\"ticks\":\"\"}},\"coloraxis\":{\"colorbar\":{\"outlinewidth\":0,\"ticks\":\"\"}},\"colorscale\":{\"sequential\":[[0.0,\"#0d0887\"],[0.1111111111111111,\"#46039f\"],[0.2222222222222222,\"#7201a8\"],[0.3333333333333333,\"#9c179e\"],[0.4444444444444444,\"#bd3786\"],[0.5555555555555556,\"#d8576b\"],[0.6666666666666666,\"#ed7953\"],[0.7777777777777778,\"#fb9f3a\"],[0.8888888888888888,\"#fdca26\"],[1.0,\"#f0f921\"]],\"sequentialminus\":[[0.0,\"#0d0887\"],[0.1111111111111111,\"#46039f\"],[0.2222222222222222,\"#7201a8\"],[0.3333333333333333,\"#9c179e\"],[0.4444444444444444,\"#bd3786\"],[0.5555555555555556,\"#d8576b\"],[0.6666666666666666,\"#ed7953\"],[0.7777777777777778,\"#fb9f3a\"],[0.8888888888888888,\"#fdca26\"],[1.0,\"#f0f921\"]],\"diverging\":[[0,\"#8e0152\"],[0.1,\"#c51b7d\"],[0.2,\"#de77ae\"],[0.3,\"#f1b6da\"],[0.4,\"#fde0ef\"],[0.5,\"#f7f7f7\"],[0.6,\"#e6f5d0\"],[0.7,\"#b8e186\"],[0.8,\"#7fbc41\"],[0.9,\"#4d9221\"],[1,\"#276419\"]]},\"xaxis\":{\"gridcolor\":\"white\",\"linecolor\":\"white\",\"ticks\":\"\",\"title\":{\"standoff\":15},\"zerolinecolor\":\"white\",\"automargin\":true,\"zerolinewidth\":2},\"yaxis\":{\"gridcolor\":\"white\",\"linecolor\":\"white\",\"ticks\":\"\",\"title\":{\"standoff\":15},\"zerolinecolor\":\"white\",\"automargin\":true,\"zerolinewidth\":2},\"scene\":{\"xaxis\":{\"backgroundcolor\":\"#E5ECF6\",\"gridcolor\":\"white\",\"linecolor\":\"white\",\"showbackground\":true,\"ticks\":\"\",\"zerolinecolor\":\"white\",\"gridwidth\":2},\"yaxis\":{\"backgroundcolor\":\"#E5ECF6\",\"gridcolor\":\"white\",\"linecolor\":\"white\",\"showbackground\":true,\"ticks\":\"\",\"zerolinecolor\":\"white\",\"gridwidth\":2},\"zaxis\":{\"backgroundcolor\":\"#E5ECF6\",\"gridcolor\":\"white\",\"linecolor\":\"white\",\"showbackground\":true,\"ticks\":\"\",\"zerolinecolor\":\"white\",\"gridwidth\":2}},\"shapedefaults\":{\"line\":{\"color\":\"#2a3f5f\"}},\"annotationdefaults\":{\"arrowcolor\":\"#2a3f5f\",\"arrowhead\":0,\"arrowwidth\":1},\"geo\":{\"bgcolor\":\"white\",\"landcolor\":\"#E5ECF6\",\"subunitcolor\":\"white\",\"showland\":true,\"showlakes\":true,\"lakecolor\":\"white\"},\"title\":{\"x\":0.05},\"mapbox\":{\"style\":\"light\"}}},\"coloraxis\":{\"colorbar\":{\"title\":{\"text\":\"Life Ladder\"}},\"colorscale\":[[0.0,\"#440154\"],[0.1111111111111111,\"#482878\"],[0.2222222222222222,\"#3e4989\"],[0.3333333333333333,\"#31688e\"],[0.4444444444444444,\"#26828e\"],[0.5555555555555556,\"#1f9e89\"],[0.6666666666666666,\"#35b779\"],[0.7777777777777778,\"#6ece58\"],[0.8888888888888888,\"#b5de2b\"],[1.0,\"#fde725\"]],\"cmid\":5.17040900711631,\"cmin\":3,\"cmax\":8},\"legend\":{\"tracegroupgap\":0},\"title\":{\"text\":\"2021\"},\"width\":700},                        {\"responsive\": true}                    ).then(function(){\n",
       "                            \n",
       "var gd = document.getElementById('e0bb6882-54ee-41d8-8cf3-6abbed7536be');\n",
       "var x = new MutationObserver(function (mutations, observer) {{\n",
       "        var display = window.getComputedStyle(gd).display;\n",
       "        if (!display || display === 'none') {{\n",
       "            console.log([gd, 'removed!']);\n",
       "            Plotly.purge(gd);\n",
       "            observer.disconnect();\n",
       "        }}\n",
       "}});\n",
       "\n",
       "// Listen for the removal of the full notebook cells\n",
       "var notebookContainer = gd.closest('#notebook-container');\n",
       "if (notebookContainer) {{\n",
       "    x.observe(notebookContainer, {childList: true});\n",
       "}}\n",
       "\n",
       "// Listen for the clearing of the current output cell\n",
       "var outputEl = gd.closest('.output');\n",
       "if (outputEl) {{\n",
       "    x.observe(outputEl, {childList: true});\n",
       "}}\n",
       "\n",
       "                        })                };                });            </script>        </div>"
      ]
     },
     "metadata": {},
     "output_type": "display_data"
    }
   ],
   "source": [
    "gen_treeplot(wdf, 2021)"
   ]
  },
  {
   "cell_type": "code",
   "execution_count": 63,
   "id": "e02b8c3e",
   "metadata": {},
   "outputs": [
    {
     "data": {
      "application/vnd.plotly.v1+json": {
       "config": {
        "plotlyServerURL": "https://plot.ly"
       },
       "data": [
        {
         "branchvalues": "total",
         "customdata": [
          [
           "Afghanistan",
           1.2812711000442505
          ],
          [
           "Albania",
           5.212213039398193
          ],
          [
           "Argentina",
           6.260993480682373
          ],
          [
           "Armenia",
           5.3819427490234375
          ],
          [
           "Australia",
           7.034696102142334
          ],
          [
           "Austria",
           6.998997211456299
          ],
          [
           "Bangladesh",
           3.407532215118408
          ],
          [
           "Belgium",
           6.856874465942383
          ],
          [
           "Benin",
           4.217325687408447
          ],
          [
           "Bolivia",
           5.928882122039795
          ],
          [
           "Botswana",
           3.435275077819824
          ],
          [
           "Brazil",
           6.257079601287842
          ],
          [
           "Bulgaria",
           5.3783488273620605
          ],
          [
           "Cambodia",
           4.250280857086182
          ],
          [
           "Cameroon",
           4.712408065795898
          ],
          [
           "Canada",
           6.917935371398926
          ],
          [
           "Chad",
           4.396646022796631
          ],
          [
           "Chile",
           6.415198802947998
          ],
          [
           "Colombia",
           5.891712188720703
          ],
          [
           "Comoros",
           3.545203685760498
          ],
          [
           "Costa Rica",
           7.076658248901367
          ],
          [
           "Croatia",
           5.578691482543945
          ],
          [
           "Cyprus",
           5.8647565841674805
          ],
          [
           "Czech Republic",
           6.695077419281006
          ],
          [
           "Denmark",
           7.544964790344238
          ],
          [
           "Dominican Republic",
           5.518415927886963
          ],
          [
           "Ecuador",
           5.887132167816162
          ],
          [
           "El Salvador",
           6.492156028747559
          ],
          [
           "Estonia",
           6.357114315032959
          ],
          [
           "Ethiopia",
           3.628071546554565
          ],
          [
           "Finland",
           7.728998184204102
          ],
          [
           "France",
           6.61380672454834
          ],
          [
           "Gabon",
           5.139500617980957
          ],
          [
           "Georgia",
           5.292755126953125
          ],
          [
           "Germany",
           6.608206748962402
          ],
          [
           "Ghana",
           4.190854549407959
          ],
          [
           "Greece",
           5.900459289550781
          ],
          [
           "Guatemala",
           6.150331497192383
          ],
          [
           "Guinea",
           5.317492961883545
          ],
          [
           "Honduras",
           5.9318037033081055
          ],
          [
           "Hungary",
           5.861183166503906
          ],
          [
           "Iceland",
           7.448794364929199
          ],
          [
           "India",
           3.929816246032715
          ],
          [
           "Indonesia",
           5.584685802459717
          ],
          [
           "Ireland",
           6.869863986968994
          ],
          [
           "Israel",
           7.662397384643555
          ],
          [
           "Italy",
           6.258476734161377
          ],
          [
           "Jamaica",
           5.870189189910889
          ],
          [
           "Japan",
           6.178009986877441
          ],
          [
           "Jordan",
           4.355606555938721
          ],
          [
           "Kazakhstan",
           6.006279468536377
          ],
          [
           "Kenya",
           4.447946548461914
          ],
          [
           "Latvia",
           6.054838180541992
          ],
          [
           "Lebanon",
           2.35242772102356
          ],
          [
           "Liberia",
           4.04226016998291
          ],
          [
           "Lithuania",
           7.037577152252197
          ],
          [
           "Luxembourg",
           7.227934837341309
          ],
          [
           "Madagascar",
           4.019134044647217
          ],
          [
           "Malawi",
           3.355563402175904
          ],
          [
           "Mali",
           4.210547924041748
          ],
          [
           "Malta",
           6.299238204956055
          ],
          [
           "Mauritania",
           4.723868846893311
          ],
          [
           "Mauritius",
           5.740500926971436
          ],
          [
           "Mexico",
           7.038368701934815
          ],
          [
           "Moldova",
           5.686611652374268
          ],
          [
           "Mongolia",
           5.787830352783203
          ],
          [
           "Morocco",
           4.59609317779541
          ],
          [
           "Mozambique",
           4.739677429199219
          ],
          [
           "Namibia",
           6.159853458404541
          ],
          [
           "Nepal",
           5.474175930023193
          ],
          [
           "Netherlands",
           7.389636039733887
          ],
          [
           "New Zealand",
           6.974986553192139
          ],
          [
           "Nicaragua",
           6.392257690429688
          ],
          [
           "Niger",
           4.501331329345703
          ],
          [
           "North Macedonia",
           5.166881561279297
          ],
          [
           "Norway",
           7.294604301452637
          ],
          [
           "Panama",
           5.979382038116455
          ],
          [
           "Paraguay",
           6.1376118659973145
          ],
          [
           "Peru",
           5.892068862915039
          ],
          [
           "Poland",
           6.66626501083374
          ],
          [
           "Portugal",
           5.952542781829834
          ],
          [
           "Romania",
           6.436973571777344
          ],
          [
           "Saudi Arabia",
           6.38161039352417
          ],
          [
           "Senegal",
           4.906819820404053
          ],
          [
           "Sierra Leone",
           2.560429573059082
          ],
          [
           "Slovenia",
           6.723397731781006
          ],
          [
           "Spain",
           6.336902141571045
          ],
          [
           "Sweden",
           7.431214332580566
          ],
          [
           "Switzerland",
           6.883844375610352
          ],
          [
           "Tanzania",
           3.615845203399658
          ],
          [
           "Thailand",
           6.00711727142334
          ],
          [
           "Togo",
           4.238982200622559
          ],
          [
           "Tunisia",
           4.260868072509766
          ],
          [
           "USA",
           6.6927900314331055
          ],
          [
           "Ukraine",
           4.637436389923096
          ],
          [
           "United Arab Emirates",
           6.737605571746826
          ],
          [
           "United Kingdom",
           6.721779823303223
          ],
          [
           "Uruguay",
           6.6708526611328125
          ],
          [
           "Uzbekistan",
           6.016238689422607
          ],
          [
           "Zimbabwe",
           3.29621958732605
          ],
          [
           "(?)",
           4.112049859231399
          ],
          [
           "(?)",
           6.4867335106521065
          ],
          [
           "(?)",
           4.379538511096285
          ],
          [
           "(?)",
           6.5696974352306015
          ],
          [
           "(?)",
           7.024859193950715
          ],
          [
           "(?)",
           5.082196396154305
          ]
         ],
         "domain": {
          "x": [
           0,
           1
          ],
          "y": [
           0,
           1
          ]
         },
         "hovertemplate": "labels=%{label}<br>pop=%{value}<br>parent=%{parent}<br>id=%{id}<br>country=%{customdata[0]}<br>Life Ladder=%{color}<extra></extra>",
         "ids": [
          "world/Asia/Afghanistan",
          "world/Europe/Albania",
          "world/Americas/Argentina",
          "world/Asia/Armenia",
          "world/Oceania/Australia",
          "world/Europe/Austria",
          "world/Asia/Bangladesh",
          "world/Europe/Belgium",
          "world/Africa/Benin",
          "world/Americas/Bolivia",
          "world/Africa/Botswana",
          "world/Americas/Brazil",
          "world/Europe/Bulgaria",
          "world/Asia/Cambodia",
          "world/Africa/Cameroon",
          "world/Americas/Canada",
          "world/Africa/Chad",
          "world/Americas/Chile",
          "world/Americas/Colombia",
          "world/Africa/Comoros",
          "world/Americas/Costa Rica",
          "world/Europe/Croatia",
          "world/Europe/Cyprus",
          "world/Europe/Czech Republic",
          "world/Europe/Denmark",
          "world/Americas/Dominican Republic",
          "world/Americas/Ecuador",
          "world/Americas/El Salvador",
          "world/Europe/Estonia",
          "world/Africa/Ethiopia",
          "world/Europe/Finland",
          "world/Europe/France",
          "world/Africa/Gabon",
          "world/Asia/Georgia",
          "world/Europe/Germany",
          "world/Africa/Ghana",
          "world/Europe/Greece",
          "world/Americas/Guatemala",
          "world/Africa/Guinea",
          "world/Americas/Honduras",
          "world/Europe/Hungary",
          "world/Europe/Iceland",
          "world/Asia/India",
          "world/Asia/Indonesia",
          "world/Europe/Ireland",
          "world/Asia/Israel",
          "world/Europe/Italy",
          "world/Americas/Jamaica",
          "world/Asia/Japan",
          "world/Asia/Jordan",
          "world/Asia/Kazakhstan",
          "world/Africa/Kenya",
          "world/Europe/Latvia",
          "world/Asia/Lebanon",
          "world/Africa/Liberia",
          "world/Europe/Lithuania",
          "world/Europe/Luxembourg",
          "world/Africa/Madagascar",
          "world/Africa/Malawi",
          "world/Africa/Mali",
          "world/Europe/Malta",
          "world/Africa/Mauritania",
          "world/Africa/Mauritius",
          "world/Americas/Mexico",
          "world/Europe/Moldova",
          "world/Asia/Mongolia",
          "world/Africa/Morocco",
          "world/Africa/Mozambique",
          "world/Africa/Namibia",
          "world/Asia/Nepal",
          "world/Europe/Netherlands",
          "world/Oceania/New Zealand",
          "world/Americas/Nicaragua",
          "world/Africa/Niger",
          "world/Europe/North Macedonia",
          "world/Europe/Norway",
          "world/Americas/Panama",
          "world/Americas/Paraguay",
          "world/Americas/Peru",
          "world/Europe/Poland",
          "world/Europe/Portugal",
          "world/Europe/Romania",
          "world/Asia/Saudi Arabia",
          "world/Africa/Senegal",
          "world/Africa/Sierra Leone",
          "world/Europe/Slovenia",
          "world/Europe/Spain",
          "world/Europe/Sweden",
          "world/Europe/Switzerland",
          "world/Africa/Tanzania",
          "world/Asia/Thailand",
          "world/Africa/Togo",
          "world/Africa/Tunisia",
          "world/Americas/USA",
          "world/Asia/Ukraine",
          "world/Asia/United Arab Emirates",
          "world/Europe/United Kingdom",
          "world/Americas/Uruguay",
          "world/Asia/Uzbekistan",
          "world/Africa/Zimbabwe",
          "world/Africa",
          "world/Americas",
          "world/Asia",
          "world/Europe",
          "world/Oceania",
          "world"
         ],
         "labels": [
          "Afghanistan",
          "Albania",
          "Argentina",
          "Armenia",
          "Australia",
          "Austria",
          "Bangladesh",
          "Belgium",
          "Benin",
          "Bolivia",
          "Botswana",
          "Brazil",
          "Bulgaria",
          "Cambodia",
          "Cameroon",
          "Canada",
          "Chad",
          "Chile",
          "Colombia",
          "Comoros",
          "Costa Rica",
          "Croatia",
          "Cyprus",
          "Czech Republic",
          "Denmark",
          "Dominican Republic",
          "Ecuador",
          "El Salvador",
          "Estonia",
          "Ethiopia",
          "Finland",
          "France",
          "Gabon",
          "Georgia",
          "Germany",
          "Ghana",
          "Greece",
          "Guatemala",
          "Guinea",
          "Honduras",
          "Hungary",
          "Iceland",
          "India",
          "Indonesia",
          "Ireland",
          "Israel",
          "Italy",
          "Jamaica",
          "Japan",
          "Jordan",
          "Kazakhstan",
          "Kenya",
          "Latvia",
          "Lebanon",
          "Liberia",
          "Lithuania",
          "Luxembourg",
          "Madagascar",
          "Malawi",
          "Mali",
          "Malta",
          "Mauritania",
          "Mauritius",
          "Mexico",
          "Moldova",
          "Mongolia",
          "Morocco",
          "Mozambique",
          "Namibia",
          "Nepal",
          "Netherlands",
          "New Zealand",
          "Nicaragua",
          "Niger",
          "North Macedonia",
          "Norway",
          "Panama",
          "Paraguay",
          "Peru",
          "Poland",
          "Portugal",
          "Romania",
          "Saudi Arabia",
          "Senegal",
          "Sierra Leone",
          "Slovenia",
          "Spain",
          "Sweden",
          "Switzerland",
          "Tanzania",
          "Thailand",
          "Togo",
          "Tunisia",
          "USA",
          "Ukraine",
          "United Arab Emirates",
          "United Kingdom",
          "Uruguay",
          "Uzbekistan",
          "Zimbabwe",
          "Africa",
          "Americas",
          "Asia",
          "Europe",
          "Oceania",
          "world"
         ],
         "marker": {
          "coloraxis": "coloraxis",
          "colors": [
           1.2812711000442505,
           5.212213039398193,
           6.260993480682373,
           5.3819427490234375,
           7.034696102142334,
           6.998997211456299,
           3.407532215118408,
           6.856874465942383,
           4.217325687408447,
           5.928882122039795,
           3.435275077819824,
           6.257079601287842,
           5.3783488273620605,
           4.250280857086182,
           4.712408065795898,
           6.917935371398926,
           4.396646022796631,
           6.415198802947998,
           5.891712188720703,
           3.545203685760498,
           7.076658248901367,
           5.578691482543945,
           5.8647565841674805,
           6.695077419281006,
           7.544964790344238,
           5.518415927886963,
           5.887132167816162,
           6.492156028747559,
           6.357114315032959,
           3.628071546554565,
           7.728998184204102,
           6.61380672454834,
           5.139500617980957,
           5.292755126953125,
           6.608206748962402,
           4.190854549407959,
           5.900459289550781,
           6.150331497192383,
           5.317492961883545,
           5.9318037033081055,
           5.861183166503906,
           7.448794364929199,
           3.929816246032715,
           5.584685802459717,
           6.869863986968994,
           7.662397384643555,
           6.258476734161377,
           5.870189189910889,
           6.178009986877441,
           4.355606555938721,
           6.006279468536377,
           4.447946548461914,
           6.054838180541992,
           2.35242772102356,
           4.04226016998291,
           7.037577152252197,
           7.227934837341309,
           4.019134044647217,
           3.355563402175904,
           4.210547924041748,
           6.299238204956055,
           4.723868846893311,
           5.740500926971436,
           7.038368701934815,
           5.686611652374268,
           5.787830352783203,
           4.59609317779541,
           4.739677429199219,
           6.159853458404541,
           5.474175930023193,
           7.389636039733887,
           6.974986553192139,
           6.392257690429688,
           4.501331329345703,
           5.166881561279297,
           7.294604301452637,
           5.979382038116455,
           6.1376118659973145,
           5.892068862915039,
           6.66626501083374,
           5.952542781829834,
           6.436973571777344,
           6.38161039352417,
           4.906819820404053,
           2.560429573059082,
           6.723397731781006,
           6.336902141571045,
           7.431214332580566,
           6.883844375610352,
           3.615845203399658,
           6.00711727142334,
           4.238982200622559,
           4.260868072509766,
           6.6927900314331055,
           4.637436389923096,
           6.737605571746826,
           6.721779823303223,
           6.6708526611328125,
           6.016238689422607,
           3.29621958732605,
           4.112049859231399,
           6.4867335106521065,
           4.379538511096285,
           6.5696974352306015,
           7.024859193950715,
           5.082196396154305
          ]
         },
         "name": "",
         "parents": [
          "world/Asia",
          "world/Europe",
          "world/Americas",
          "world/Asia",
          "world/Oceania",
          "world/Europe",
          "world/Asia",
          "world/Europe",
          "world/Africa",
          "world/Americas",
          "world/Africa",
          "world/Americas",
          "world/Europe",
          "world/Asia",
          "world/Africa",
          "world/Americas",
          "world/Africa",
          "world/Americas",
          "world/Americas",
          "world/Africa",
          "world/Americas",
          "world/Europe",
          "world/Europe",
          "world/Europe",
          "world/Europe",
          "world/Americas",
          "world/Americas",
          "world/Americas",
          "world/Europe",
          "world/Africa",
          "world/Europe",
          "world/Europe",
          "world/Africa",
          "world/Asia",
          "world/Europe",
          "world/Africa",
          "world/Europe",
          "world/Americas",
          "world/Africa",
          "world/Americas",
          "world/Europe",
          "world/Europe",
          "world/Asia",
          "world/Asia",
          "world/Europe",
          "world/Asia",
          "world/Europe",
          "world/Americas",
          "world/Asia",
          "world/Asia",
          "world/Asia",
          "world/Africa",
          "world/Europe",
          "world/Asia",
          "world/Africa",
          "world/Europe",
          "world/Europe",
          "world/Africa",
          "world/Africa",
          "world/Africa",
          "world/Europe",
          "world/Africa",
          "world/Africa",
          "world/Americas",
          "world/Europe",
          "world/Asia",
          "world/Africa",
          "world/Africa",
          "world/Africa",
          "world/Asia",
          "world/Europe",
          "world/Oceania",
          "world/Americas",
          "world/Africa",
          "world/Europe",
          "world/Europe",
          "world/Americas",
          "world/Americas",
          "world/Americas",
          "world/Europe",
          "world/Europe",
          "world/Europe",
          "world/Asia",
          "world/Africa",
          "world/Africa",
          "world/Europe",
          "world/Europe",
          "world/Europe",
          "world/Europe",
          "world/Africa",
          "world/Asia",
          "world/Africa",
          "world/Africa",
          "world/Americas",
          "world/Asia",
          "world/Asia",
          "world/Europe",
          "world/Americas",
          "world/Asia",
          "world/Africa",
          "world",
          "world",
          "world",
          "world",
          "world",
          ""
         ],
         "type": "treemap",
         "values": [
          41128771,
          2775634,
          46234830,
          2780469,
          25978935,
          9042528,
          171186372,
          11669446,
          13352864,
          12224110,
          2630296,
          215313498,
          6465097,
          16767842,
          27914536,
          38929902,
          17723315,
          19603733,
          51874024,
          836774,
          5180829,
          3854000,
          1251488,
          10526073,
          5903037,
          11228821,
          18001000,
          6336392,
          1344768,
          123379924,
          5556880,
          67935660,
          2388992,
          3712502,
          84079811,
          33475870,
          10566531,
          17357886,
          13859341,
          10432860,
          9683505,
          381900,
          1417173173,
          275501339,
          5086988,
          9550600,
          58856847,
          2827377,
          125124989,
          11285869,
          19621972,
          54027487,
          1883379,
          5489739,
          5302681,
          2833000,
          650774,
          29611714,
          20405317,
          22593590,
          523417,
          4736139,
          1262523,
          127504125,
          2592477,
          3398366,
          37457971,
          32969518,
          1761985,
          30547580,
          17703090,
          5124100,
          6948392,
          26207977,
          2057679,
          5457127,
          4408581,
          6780744,
          34049588,
          37561599,
          10379007,
          18956666,
          36408820,
          17316449,
          8605718,
          2108732,
          47615034,
          10486941,
          8769741,
          65497748,
          71697030,
          8848699,
          12356117,
          333287557,
          38000000,
          9441129,
          66971411,
          3422794,
          35648100,
          16320537,
          600844082,
          971947043,
          2324464662,
          531530267,
          31103035,
          4459889089
         ]
        }
       ],
       "layout": {
        "coloraxis": {
         "cmax": 8,
         "cmid": 5.082196396154305,
         "cmin": 3,
         "colorbar": {
          "title": {
           "text": "Life Ladder"
          }
         },
         "colorscale": [
          [
           0,
           "#440154"
          ],
          [
           0.1111111111111111,
           "#482878"
          ],
          [
           0.2222222222222222,
           "#3e4989"
          ],
          [
           0.3333333333333333,
           "#31688e"
          ],
          [
           0.4444444444444444,
           "#26828e"
          ],
          [
           0.5555555555555556,
           "#1f9e89"
          ],
          [
           0.6666666666666666,
           "#35b779"
          ],
          [
           0.7777777777777778,
           "#6ece58"
          ],
          [
           0.8888888888888888,
           "#b5de2b"
          ],
          [
           1,
           "#fde725"
          ]
         ]
        },
        "legend": {
         "tracegroupgap": 0
        },
        "template": {
         "data": {
          "bar": [
           {
            "error_x": {
             "color": "#2a3f5f"
            },
            "error_y": {
             "color": "#2a3f5f"
            },
            "marker": {
             "line": {
              "color": "#E5ECF6",
              "width": 0.5
             },
             "pattern": {
              "fillmode": "overlay",
              "size": 10,
              "solidity": 0.2
             }
            },
            "type": "bar"
           }
          ],
          "barpolar": [
           {
            "marker": {
             "line": {
              "color": "#E5ECF6",
              "width": 0.5
             },
             "pattern": {
              "fillmode": "overlay",
              "size": 10,
              "solidity": 0.2
             }
            },
            "type": "barpolar"
           }
          ],
          "carpet": [
           {
            "aaxis": {
             "endlinecolor": "#2a3f5f",
             "gridcolor": "white",
             "linecolor": "white",
             "minorgridcolor": "white",
             "startlinecolor": "#2a3f5f"
            },
            "baxis": {
             "endlinecolor": "#2a3f5f",
             "gridcolor": "white",
             "linecolor": "white",
             "minorgridcolor": "white",
             "startlinecolor": "#2a3f5f"
            },
            "type": "carpet"
           }
          ],
          "choropleth": [
           {
            "colorbar": {
             "outlinewidth": 0,
             "ticks": ""
            },
            "type": "choropleth"
           }
          ],
          "contour": [
           {
            "colorbar": {
             "outlinewidth": 0,
             "ticks": ""
            },
            "colorscale": [
             [
              0,
              "#0d0887"
             ],
             [
              0.1111111111111111,
              "#46039f"
             ],
             [
              0.2222222222222222,
              "#7201a8"
             ],
             [
              0.3333333333333333,
              "#9c179e"
             ],
             [
              0.4444444444444444,
              "#bd3786"
             ],
             [
              0.5555555555555556,
              "#d8576b"
             ],
             [
              0.6666666666666666,
              "#ed7953"
             ],
             [
              0.7777777777777778,
              "#fb9f3a"
             ],
             [
              0.8888888888888888,
              "#fdca26"
             ],
             [
              1,
              "#f0f921"
             ]
            ],
            "type": "contour"
           }
          ],
          "contourcarpet": [
           {
            "colorbar": {
             "outlinewidth": 0,
             "ticks": ""
            },
            "type": "contourcarpet"
           }
          ],
          "heatmap": [
           {
            "colorbar": {
             "outlinewidth": 0,
             "ticks": ""
            },
            "colorscale": [
             [
              0,
              "#0d0887"
             ],
             [
              0.1111111111111111,
              "#46039f"
             ],
             [
              0.2222222222222222,
              "#7201a8"
             ],
             [
              0.3333333333333333,
              "#9c179e"
             ],
             [
              0.4444444444444444,
              "#bd3786"
             ],
             [
              0.5555555555555556,
              "#d8576b"
             ],
             [
              0.6666666666666666,
              "#ed7953"
             ],
             [
              0.7777777777777778,
              "#fb9f3a"
             ],
             [
              0.8888888888888888,
              "#fdca26"
             ],
             [
              1,
              "#f0f921"
             ]
            ],
            "type": "heatmap"
           }
          ],
          "heatmapgl": [
           {
            "colorbar": {
             "outlinewidth": 0,
             "ticks": ""
            },
            "colorscale": [
             [
              0,
              "#0d0887"
             ],
             [
              0.1111111111111111,
              "#46039f"
             ],
             [
              0.2222222222222222,
              "#7201a8"
             ],
             [
              0.3333333333333333,
              "#9c179e"
             ],
             [
              0.4444444444444444,
              "#bd3786"
             ],
             [
              0.5555555555555556,
              "#d8576b"
             ],
             [
              0.6666666666666666,
              "#ed7953"
             ],
             [
              0.7777777777777778,
              "#fb9f3a"
             ],
             [
              0.8888888888888888,
              "#fdca26"
             ],
             [
              1,
              "#f0f921"
             ]
            ],
            "type": "heatmapgl"
           }
          ],
          "histogram": [
           {
            "marker": {
             "pattern": {
              "fillmode": "overlay",
              "size": 10,
              "solidity": 0.2
             }
            },
            "type": "histogram"
           }
          ],
          "histogram2d": [
           {
            "colorbar": {
             "outlinewidth": 0,
             "ticks": ""
            },
            "colorscale": [
             [
              0,
              "#0d0887"
             ],
             [
              0.1111111111111111,
              "#46039f"
             ],
             [
              0.2222222222222222,
              "#7201a8"
             ],
             [
              0.3333333333333333,
              "#9c179e"
             ],
             [
              0.4444444444444444,
              "#bd3786"
             ],
             [
              0.5555555555555556,
              "#d8576b"
             ],
             [
              0.6666666666666666,
              "#ed7953"
             ],
             [
              0.7777777777777778,
              "#fb9f3a"
             ],
             [
              0.8888888888888888,
              "#fdca26"
             ],
             [
              1,
              "#f0f921"
             ]
            ],
            "type": "histogram2d"
           }
          ],
          "histogram2dcontour": [
           {
            "colorbar": {
             "outlinewidth": 0,
             "ticks": ""
            },
            "colorscale": [
             [
              0,
              "#0d0887"
             ],
             [
              0.1111111111111111,
              "#46039f"
             ],
             [
              0.2222222222222222,
              "#7201a8"
             ],
             [
              0.3333333333333333,
              "#9c179e"
             ],
             [
              0.4444444444444444,
              "#bd3786"
             ],
             [
              0.5555555555555556,
              "#d8576b"
             ],
             [
              0.6666666666666666,
              "#ed7953"
             ],
             [
              0.7777777777777778,
              "#fb9f3a"
             ],
             [
              0.8888888888888888,
              "#fdca26"
             ],
             [
              1,
              "#f0f921"
             ]
            ],
            "type": "histogram2dcontour"
           }
          ],
          "mesh3d": [
           {
            "colorbar": {
             "outlinewidth": 0,
             "ticks": ""
            },
            "type": "mesh3d"
           }
          ],
          "parcoords": [
           {
            "line": {
             "colorbar": {
              "outlinewidth": 0,
              "ticks": ""
             }
            },
            "type": "parcoords"
           }
          ],
          "pie": [
           {
            "automargin": true,
            "type": "pie"
           }
          ],
          "scatter": [
           {
            "fillpattern": {
             "fillmode": "overlay",
             "size": 10,
             "solidity": 0.2
            },
            "type": "scatter"
           }
          ],
          "scatter3d": [
           {
            "line": {
             "colorbar": {
              "outlinewidth": 0,
              "ticks": ""
             }
            },
            "marker": {
             "colorbar": {
              "outlinewidth": 0,
              "ticks": ""
             }
            },
            "type": "scatter3d"
           }
          ],
          "scattercarpet": [
           {
            "marker": {
             "colorbar": {
              "outlinewidth": 0,
              "ticks": ""
             }
            },
            "type": "scattercarpet"
           }
          ],
          "scattergeo": [
           {
            "marker": {
             "colorbar": {
              "outlinewidth": 0,
              "ticks": ""
             }
            },
            "type": "scattergeo"
           }
          ],
          "scattergl": [
           {
            "marker": {
             "colorbar": {
              "outlinewidth": 0,
              "ticks": ""
             }
            },
            "type": "scattergl"
           }
          ],
          "scattermapbox": [
           {
            "marker": {
             "colorbar": {
              "outlinewidth": 0,
              "ticks": ""
             }
            },
            "type": "scattermapbox"
           }
          ],
          "scatterpolar": [
           {
            "marker": {
             "colorbar": {
              "outlinewidth": 0,
              "ticks": ""
             }
            },
            "type": "scatterpolar"
           }
          ],
          "scatterpolargl": [
           {
            "marker": {
             "colorbar": {
              "outlinewidth": 0,
              "ticks": ""
             }
            },
            "type": "scatterpolargl"
           }
          ],
          "scatterternary": [
           {
            "marker": {
             "colorbar": {
              "outlinewidth": 0,
              "ticks": ""
             }
            },
            "type": "scatterternary"
           }
          ],
          "surface": [
           {
            "colorbar": {
             "outlinewidth": 0,
             "ticks": ""
            },
            "colorscale": [
             [
              0,
              "#0d0887"
             ],
             [
              0.1111111111111111,
              "#46039f"
             ],
             [
              0.2222222222222222,
              "#7201a8"
             ],
             [
              0.3333333333333333,
              "#9c179e"
             ],
             [
              0.4444444444444444,
              "#bd3786"
             ],
             [
              0.5555555555555556,
              "#d8576b"
             ],
             [
              0.6666666666666666,
              "#ed7953"
             ],
             [
              0.7777777777777778,
              "#fb9f3a"
             ],
             [
              0.8888888888888888,
              "#fdca26"
             ],
             [
              1,
              "#f0f921"
             ]
            ],
            "type": "surface"
           }
          ],
          "table": [
           {
            "cells": {
             "fill": {
              "color": "#EBF0F8"
             },
             "line": {
              "color": "white"
             }
            },
            "header": {
             "fill": {
              "color": "#C8D4E3"
             },
             "line": {
              "color": "white"
             }
            },
            "type": "table"
           }
          ]
         },
         "layout": {
          "annotationdefaults": {
           "arrowcolor": "#2a3f5f",
           "arrowhead": 0,
           "arrowwidth": 1
          },
          "autotypenumbers": "strict",
          "coloraxis": {
           "colorbar": {
            "outlinewidth": 0,
            "ticks": ""
           }
          },
          "colorscale": {
           "diverging": [
            [
             0,
             "#8e0152"
            ],
            [
             0.1,
             "#c51b7d"
            ],
            [
             0.2,
             "#de77ae"
            ],
            [
             0.3,
             "#f1b6da"
            ],
            [
             0.4,
             "#fde0ef"
            ],
            [
             0.5,
             "#f7f7f7"
            ],
            [
             0.6,
             "#e6f5d0"
            ],
            [
             0.7,
             "#b8e186"
            ],
            [
             0.8,
             "#7fbc41"
            ],
            [
             0.9,
             "#4d9221"
            ],
            [
             1,
             "#276419"
            ]
           ],
           "sequential": [
            [
             0,
             "#0d0887"
            ],
            [
             0.1111111111111111,
             "#46039f"
            ],
            [
             0.2222222222222222,
             "#7201a8"
            ],
            [
             0.3333333333333333,
             "#9c179e"
            ],
            [
             0.4444444444444444,
             "#bd3786"
            ],
            [
             0.5555555555555556,
             "#d8576b"
            ],
            [
             0.6666666666666666,
             "#ed7953"
            ],
            [
             0.7777777777777778,
             "#fb9f3a"
            ],
            [
             0.8888888888888888,
             "#fdca26"
            ],
            [
             1,
             "#f0f921"
            ]
           ],
           "sequentialminus": [
            [
             0,
             "#0d0887"
            ],
            [
             0.1111111111111111,
             "#46039f"
            ],
            [
             0.2222222222222222,
             "#7201a8"
            ],
            [
             0.3333333333333333,
             "#9c179e"
            ],
            [
             0.4444444444444444,
             "#bd3786"
            ],
            [
             0.5555555555555556,
             "#d8576b"
            ],
            [
             0.6666666666666666,
             "#ed7953"
            ],
            [
             0.7777777777777778,
             "#fb9f3a"
            ],
            [
             0.8888888888888888,
             "#fdca26"
            ],
            [
             1,
             "#f0f921"
            ]
           ]
          },
          "colorway": [
           "#636efa",
           "#EF553B",
           "#00cc96",
           "#ab63fa",
           "#FFA15A",
           "#19d3f3",
           "#FF6692",
           "#B6E880",
           "#FF97FF",
           "#FECB52"
          ],
          "font": {
           "color": "#2a3f5f"
          },
          "geo": {
           "bgcolor": "white",
           "lakecolor": "white",
           "landcolor": "#E5ECF6",
           "showlakes": true,
           "showland": true,
           "subunitcolor": "white"
          },
          "hoverlabel": {
           "align": "left"
          },
          "hovermode": "closest",
          "mapbox": {
           "style": "light"
          },
          "paper_bgcolor": "white",
          "plot_bgcolor": "#E5ECF6",
          "polar": {
           "angularaxis": {
            "gridcolor": "white",
            "linecolor": "white",
            "ticks": ""
           },
           "bgcolor": "#E5ECF6",
           "radialaxis": {
            "gridcolor": "white",
            "linecolor": "white",
            "ticks": ""
           }
          },
          "scene": {
           "xaxis": {
            "backgroundcolor": "#E5ECF6",
            "gridcolor": "white",
            "gridwidth": 2,
            "linecolor": "white",
            "showbackground": true,
            "ticks": "",
            "zerolinecolor": "white"
           },
           "yaxis": {
            "backgroundcolor": "#E5ECF6",
            "gridcolor": "white",
            "gridwidth": 2,
            "linecolor": "white",
            "showbackground": true,
            "ticks": "",
            "zerolinecolor": "white"
           },
           "zaxis": {
            "backgroundcolor": "#E5ECF6",
            "gridcolor": "white",
            "gridwidth": 2,
            "linecolor": "white",
            "showbackground": true,
            "ticks": "",
            "zerolinecolor": "white"
           }
          },
          "shapedefaults": {
           "line": {
            "color": "#2a3f5f"
           }
          },
          "ternary": {
           "aaxis": {
            "gridcolor": "white",
            "linecolor": "white",
            "ticks": ""
           },
           "baxis": {
            "gridcolor": "white",
            "linecolor": "white",
            "ticks": ""
           },
           "bgcolor": "#E5ECF6",
           "caxis": {
            "gridcolor": "white",
            "linecolor": "white",
            "ticks": ""
           }
          },
          "title": {
           "x": 0.05
          },
          "xaxis": {
           "automargin": true,
           "gridcolor": "white",
           "linecolor": "white",
           "ticks": "",
           "title": {
            "standoff": 15
           },
           "zerolinecolor": "white",
           "zerolinewidth": 2
          },
          "yaxis": {
           "automargin": true,
           "gridcolor": "white",
           "linecolor": "white",
           "ticks": "",
           "title": {
            "standoff": 15
           },
           "zerolinecolor": "white",
           "zerolinewidth": 2
          }
         }
        },
        "title": {
         "text": "2022"
        },
        "width": 700
       }
      },
      "text/html": [
       "<div>                            <div id=\"8f71ce76-b971-4d93-b4cd-0d2b4e8686f6\" class=\"plotly-graph-div\" style=\"height:525px; width:700px;\"></div>            <script type=\"text/javascript\">                require([\"plotly\"], function(Plotly) {                    window.PLOTLYENV=window.PLOTLYENV || {};                                    if (document.getElementById(\"8f71ce76-b971-4d93-b4cd-0d2b4e8686f6\")) {                    Plotly.newPlot(                        \"8f71ce76-b971-4d93-b4cd-0d2b4e8686f6\",                        [{\"branchvalues\":\"total\",\"customdata\":[[\"Afghanistan\",1.2812711000442505],[\"Albania\",5.212213039398193],[\"Argentina\",6.260993480682373],[\"Armenia\",5.3819427490234375],[\"Australia\",7.034696102142334],[\"Austria\",6.998997211456299],[\"Bangladesh\",3.407532215118408],[\"Belgium\",6.856874465942383],[\"Benin\",4.217325687408447],[\"Bolivia\",5.928882122039795],[\"Botswana\",3.435275077819824],[\"Brazil\",6.257079601287842],[\"Bulgaria\",5.3783488273620605],[\"Cambodia\",4.250280857086182],[\"Cameroon\",4.712408065795898],[\"Canada\",6.917935371398926],[\"Chad\",4.396646022796631],[\"Chile\",6.415198802947998],[\"Colombia\",5.891712188720703],[\"Comoros\",3.545203685760498],[\"Costa Rica\",7.076658248901367],[\"Croatia\",5.578691482543945],[\"Cyprus\",5.8647565841674805],[\"Czech Republic\",6.695077419281006],[\"Denmark\",7.544964790344238],[\"Dominican Republic\",5.518415927886963],[\"Ecuador\",5.887132167816162],[\"El Salvador\",6.492156028747559],[\"Estonia\",6.357114315032959],[\"Ethiopia\",3.628071546554565],[\"Finland\",7.728998184204102],[\"France\",6.61380672454834],[\"Gabon\",5.139500617980957],[\"Georgia\",5.292755126953125],[\"Germany\",6.608206748962402],[\"Ghana\",4.190854549407959],[\"Greece\",5.900459289550781],[\"Guatemala\",6.150331497192383],[\"Guinea\",5.317492961883545],[\"Honduras\",5.9318037033081055],[\"Hungary\",5.861183166503906],[\"Iceland\",7.448794364929199],[\"India\",3.929816246032715],[\"Indonesia\",5.584685802459717],[\"Ireland\",6.869863986968994],[\"Israel\",7.662397384643555],[\"Italy\",6.258476734161377],[\"Jamaica\",5.870189189910889],[\"Japan\",6.178009986877441],[\"Jordan\",4.355606555938721],[\"Kazakhstan\",6.006279468536377],[\"Kenya\",4.447946548461914],[\"Latvia\",6.054838180541992],[\"Lebanon\",2.35242772102356],[\"Liberia\",4.04226016998291],[\"Lithuania\",7.037577152252197],[\"Luxembourg\",7.227934837341309],[\"Madagascar\",4.019134044647217],[\"Malawi\",3.355563402175904],[\"Mali\",4.210547924041748],[\"Malta\",6.299238204956055],[\"Mauritania\",4.723868846893311],[\"Mauritius\",5.740500926971436],[\"Mexico\",7.038368701934815],[\"Moldova\",5.686611652374268],[\"Mongolia\",5.787830352783203],[\"Morocco\",4.59609317779541],[\"Mozambique\",4.739677429199219],[\"Namibia\",6.159853458404541],[\"Nepal\",5.474175930023193],[\"Netherlands\",7.389636039733887],[\"New Zealand\",6.974986553192139],[\"Nicaragua\",6.392257690429688],[\"Niger\",4.501331329345703],[\"North Macedonia\",5.166881561279297],[\"Norway\",7.294604301452637],[\"Panama\",5.979382038116455],[\"Paraguay\",6.1376118659973145],[\"Peru\",5.892068862915039],[\"Poland\",6.66626501083374],[\"Portugal\",5.952542781829834],[\"Romania\",6.436973571777344],[\"Saudi Arabia\",6.38161039352417],[\"Senegal\",4.906819820404053],[\"Sierra Leone\",2.560429573059082],[\"Slovenia\",6.723397731781006],[\"Spain\",6.336902141571045],[\"Sweden\",7.431214332580566],[\"Switzerland\",6.883844375610352],[\"Tanzania\",3.615845203399658],[\"Thailand\",6.00711727142334],[\"Togo\",4.238982200622559],[\"Tunisia\",4.260868072509766],[\"USA\",6.6927900314331055],[\"Ukraine\",4.637436389923096],[\"United Arab Emirates\",6.737605571746826],[\"United Kingdom\",6.721779823303223],[\"Uruguay\",6.6708526611328125],[\"Uzbekistan\",6.016238689422607],[\"Zimbabwe\",3.29621958732605],[\"(?)\",4.112049859231399],[\"(?)\",6.4867335106521065],[\"(?)\",4.379538511096285],[\"(?)\",6.5696974352306015],[\"(?)\",7.024859193950715],[\"(?)\",5.082196396154305]],\"domain\":{\"x\":[0.0,1.0],\"y\":[0.0,1.0]},\"hovertemplate\":\"labels=%{label}\\u003cbr\\u003epop=%{value}\\u003cbr\\u003eparent=%{parent}\\u003cbr\\u003eid=%{id}\\u003cbr\\u003ecountry=%{customdata[0]}\\u003cbr\\u003eLife Ladder=%{color}\\u003cextra\\u003e\\u003c\\u002fextra\\u003e\",\"ids\":[\"world\\u002fAsia\\u002fAfghanistan\",\"world\\u002fEurope\\u002fAlbania\",\"world\\u002fAmericas\\u002fArgentina\",\"world\\u002fAsia\\u002fArmenia\",\"world\\u002fOceania\\u002fAustralia\",\"world\\u002fEurope\\u002fAustria\",\"world\\u002fAsia\\u002fBangladesh\",\"world\\u002fEurope\\u002fBelgium\",\"world\\u002fAfrica\\u002fBenin\",\"world\\u002fAmericas\\u002fBolivia\",\"world\\u002fAfrica\\u002fBotswana\",\"world\\u002fAmericas\\u002fBrazil\",\"world\\u002fEurope\\u002fBulgaria\",\"world\\u002fAsia\\u002fCambodia\",\"world\\u002fAfrica\\u002fCameroon\",\"world\\u002fAmericas\\u002fCanada\",\"world\\u002fAfrica\\u002fChad\",\"world\\u002fAmericas\\u002fChile\",\"world\\u002fAmericas\\u002fColombia\",\"world\\u002fAfrica\\u002fComoros\",\"world\\u002fAmericas\\u002fCosta Rica\",\"world\\u002fEurope\\u002fCroatia\",\"world\\u002fEurope\\u002fCyprus\",\"world\\u002fEurope\\u002fCzech Republic\",\"world\\u002fEurope\\u002fDenmark\",\"world\\u002fAmericas\\u002fDominican Republic\",\"world\\u002fAmericas\\u002fEcuador\",\"world\\u002fAmericas\\u002fEl Salvador\",\"world\\u002fEurope\\u002fEstonia\",\"world\\u002fAfrica\\u002fEthiopia\",\"world\\u002fEurope\\u002fFinland\",\"world\\u002fEurope\\u002fFrance\",\"world\\u002fAfrica\\u002fGabon\",\"world\\u002fAsia\\u002fGeorgia\",\"world\\u002fEurope\\u002fGermany\",\"world\\u002fAfrica\\u002fGhana\",\"world\\u002fEurope\\u002fGreece\",\"world\\u002fAmericas\\u002fGuatemala\",\"world\\u002fAfrica\\u002fGuinea\",\"world\\u002fAmericas\\u002fHonduras\",\"world\\u002fEurope\\u002fHungary\",\"world\\u002fEurope\\u002fIceland\",\"world\\u002fAsia\\u002fIndia\",\"world\\u002fAsia\\u002fIndonesia\",\"world\\u002fEurope\\u002fIreland\",\"world\\u002fAsia\\u002fIsrael\",\"world\\u002fEurope\\u002fItaly\",\"world\\u002fAmericas\\u002fJamaica\",\"world\\u002fAsia\\u002fJapan\",\"world\\u002fAsia\\u002fJordan\",\"world\\u002fAsia\\u002fKazakhstan\",\"world\\u002fAfrica\\u002fKenya\",\"world\\u002fEurope\\u002fLatvia\",\"world\\u002fAsia\\u002fLebanon\",\"world\\u002fAfrica\\u002fLiberia\",\"world\\u002fEurope\\u002fLithuania\",\"world\\u002fEurope\\u002fLuxembourg\",\"world\\u002fAfrica\\u002fMadagascar\",\"world\\u002fAfrica\\u002fMalawi\",\"world\\u002fAfrica\\u002fMali\",\"world\\u002fEurope\\u002fMalta\",\"world\\u002fAfrica\\u002fMauritania\",\"world\\u002fAfrica\\u002fMauritius\",\"world\\u002fAmericas\\u002fMexico\",\"world\\u002fEurope\\u002fMoldova\",\"world\\u002fAsia\\u002fMongolia\",\"world\\u002fAfrica\\u002fMorocco\",\"world\\u002fAfrica\\u002fMozambique\",\"world\\u002fAfrica\\u002fNamibia\",\"world\\u002fAsia\\u002fNepal\",\"world\\u002fEurope\\u002fNetherlands\",\"world\\u002fOceania\\u002fNew Zealand\",\"world\\u002fAmericas\\u002fNicaragua\",\"world\\u002fAfrica\\u002fNiger\",\"world\\u002fEurope\\u002fNorth Macedonia\",\"world\\u002fEurope\\u002fNorway\",\"world\\u002fAmericas\\u002fPanama\",\"world\\u002fAmericas\\u002fParaguay\",\"world\\u002fAmericas\\u002fPeru\",\"world\\u002fEurope\\u002fPoland\",\"world\\u002fEurope\\u002fPortugal\",\"world\\u002fEurope\\u002fRomania\",\"world\\u002fAsia\\u002fSaudi Arabia\",\"world\\u002fAfrica\\u002fSenegal\",\"world\\u002fAfrica\\u002fSierra Leone\",\"world\\u002fEurope\\u002fSlovenia\",\"world\\u002fEurope\\u002fSpain\",\"world\\u002fEurope\\u002fSweden\",\"world\\u002fEurope\\u002fSwitzerland\",\"world\\u002fAfrica\\u002fTanzania\",\"world\\u002fAsia\\u002fThailand\",\"world\\u002fAfrica\\u002fTogo\",\"world\\u002fAfrica\\u002fTunisia\",\"world\\u002fAmericas\\u002fUSA\",\"world\\u002fAsia\\u002fUkraine\",\"world\\u002fAsia\\u002fUnited Arab Emirates\",\"world\\u002fEurope\\u002fUnited Kingdom\",\"world\\u002fAmericas\\u002fUruguay\",\"world\\u002fAsia\\u002fUzbekistan\",\"world\\u002fAfrica\\u002fZimbabwe\",\"world\\u002fAfrica\",\"world\\u002fAmericas\",\"world\\u002fAsia\",\"world\\u002fEurope\",\"world\\u002fOceania\",\"world\"],\"labels\":[\"Afghanistan\",\"Albania\",\"Argentina\",\"Armenia\",\"Australia\",\"Austria\",\"Bangladesh\",\"Belgium\",\"Benin\",\"Bolivia\",\"Botswana\",\"Brazil\",\"Bulgaria\",\"Cambodia\",\"Cameroon\",\"Canada\",\"Chad\",\"Chile\",\"Colombia\",\"Comoros\",\"Costa Rica\",\"Croatia\",\"Cyprus\",\"Czech Republic\",\"Denmark\",\"Dominican Republic\",\"Ecuador\",\"El Salvador\",\"Estonia\",\"Ethiopia\",\"Finland\",\"France\",\"Gabon\",\"Georgia\",\"Germany\",\"Ghana\",\"Greece\",\"Guatemala\",\"Guinea\",\"Honduras\",\"Hungary\",\"Iceland\",\"India\",\"Indonesia\",\"Ireland\",\"Israel\",\"Italy\",\"Jamaica\",\"Japan\",\"Jordan\",\"Kazakhstan\",\"Kenya\",\"Latvia\",\"Lebanon\",\"Liberia\",\"Lithuania\",\"Luxembourg\",\"Madagascar\",\"Malawi\",\"Mali\",\"Malta\",\"Mauritania\",\"Mauritius\",\"Mexico\",\"Moldova\",\"Mongolia\",\"Morocco\",\"Mozambique\",\"Namibia\",\"Nepal\",\"Netherlands\",\"New Zealand\",\"Nicaragua\",\"Niger\",\"North Macedonia\",\"Norway\",\"Panama\",\"Paraguay\",\"Peru\",\"Poland\",\"Portugal\",\"Romania\",\"Saudi Arabia\",\"Senegal\",\"Sierra Leone\",\"Slovenia\",\"Spain\",\"Sweden\",\"Switzerland\",\"Tanzania\",\"Thailand\",\"Togo\",\"Tunisia\",\"USA\",\"Ukraine\",\"United Arab Emirates\",\"United Kingdom\",\"Uruguay\",\"Uzbekistan\",\"Zimbabwe\",\"Africa\",\"Americas\",\"Asia\",\"Europe\",\"Oceania\",\"world\"],\"marker\":{\"coloraxis\":\"coloraxis\",\"colors\":[1.2812711000442505,5.212213039398193,6.260993480682373,5.3819427490234375,7.034696102142334,6.998997211456299,3.407532215118408,6.856874465942383,4.217325687408447,5.928882122039795,3.435275077819824,6.257079601287842,5.3783488273620605,4.250280857086182,4.712408065795898,6.917935371398926,4.396646022796631,6.415198802947998,5.891712188720703,3.545203685760498,7.076658248901367,5.578691482543945,5.8647565841674805,6.695077419281006,7.544964790344238,5.518415927886963,5.887132167816162,6.492156028747559,6.357114315032959,3.628071546554565,7.728998184204102,6.61380672454834,5.139500617980957,5.292755126953125,6.608206748962402,4.190854549407959,5.900459289550781,6.150331497192383,5.317492961883545,5.9318037033081055,5.861183166503906,7.448794364929199,3.929816246032715,5.584685802459717,6.869863986968994,7.662397384643555,6.258476734161377,5.870189189910889,6.178009986877441,4.355606555938721,6.006279468536377,4.447946548461914,6.054838180541992,2.35242772102356,4.04226016998291,7.037577152252197,7.227934837341309,4.019134044647217,3.355563402175904,4.210547924041748,6.299238204956055,4.723868846893311,5.740500926971436,7.038368701934815,5.686611652374268,5.787830352783203,4.59609317779541,4.739677429199219,6.159853458404541,5.474175930023193,7.389636039733887,6.974986553192139,6.392257690429688,4.501331329345703,5.166881561279297,7.294604301452637,5.979382038116455,6.1376118659973145,5.892068862915039,6.66626501083374,5.952542781829834,6.436973571777344,6.38161039352417,4.906819820404053,2.560429573059082,6.723397731781006,6.336902141571045,7.431214332580566,6.883844375610352,3.615845203399658,6.00711727142334,4.238982200622559,4.260868072509766,6.6927900314331055,4.637436389923096,6.737605571746826,6.721779823303223,6.6708526611328125,6.016238689422607,3.29621958732605,4.112049859231399,6.4867335106521065,4.379538511096285,6.5696974352306015,7.024859193950715,5.082196396154305]},\"name\":\"\",\"parents\":[\"world\\u002fAsia\",\"world\\u002fEurope\",\"world\\u002fAmericas\",\"world\\u002fAsia\",\"world\\u002fOceania\",\"world\\u002fEurope\",\"world\\u002fAsia\",\"world\\u002fEurope\",\"world\\u002fAfrica\",\"world\\u002fAmericas\",\"world\\u002fAfrica\",\"world\\u002fAmericas\",\"world\\u002fEurope\",\"world\\u002fAsia\",\"world\\u002fAfrica\",\"world\\u002fAmericas\",\"world\\u002fAfrica\",\"world\\u002fAmericas\",\"world\\u002fAmericas\",\"world\\u002fAfrica\",\"world\\u002fAmericas\",\"world\\u002fEurope\",\"world\\u002fEurope\",\"world\\u002fEurope\",\"world\\u002fEurope\",\"world\\u002fAmericas\",\"world\\u002fAmericas\",\"world\\u002fAmericas\",\"world\\u002fEurope\",\"world\\u002fAfrica\",\"world\\u002fEurope\",\"world\\u002fEurope\",\"world\\u002fAfrica\",\"world\\u002fAsia\",\"world\\u002fEurope\",\"world\\u002fAfrica\",\"world\\u002fEurope\",\"world\\u002fAmericas\",\"world\\u002fAfrica\",\"world\\u002fAmericas\",\"world\\u002fEurope\",\"world\\u002fEurope\",\"world\\u002fAsia\",\"world\\u002fAsia\",\"world\\u002fEurope\",\"world\\u002fAsia\",\"world\\u002fEurope\",\"world\\u002fAmericas\",\"world\\u002fAsia\",\"world\\u002fAsia\",\"world\\u002fAsia\",\"world\\u002fAfrica\",\"world\\u002fEurope\",\"world\\u002fAsia\",\"world\\u002fAfrica\",\"world\\u002fEurope\",\"world\\u002fEurope\",\"world\\u002fAfrica\",\"world\\u002fAfrica\",\"world\\u002fAfrica\",\"world\\u002fEurope\",\"world\\u002fAfrica\",\"world\\u002fAfrica\",\"world\\u002fAmericas\",\"world\\u002fEurope\",\"world\\u002fAsia\",\"world\\u002fAfrica\",\"world\\u002fAfrica\",\"world\\u002fAfrica\",\"world\\u002fAsia\",\"world\\u002fEurope\",\"world\\u002fOceania\",\"world\\u002fAmericas\",\"world\\u002fAfrica\",\"world\\u002fEurope\",\"world\\u002fEurope\",\"world\\u002fAmericas\",\"world\\u002fAmericas\",\"world\\u002fAmericas\",\"world\\u002fEurope\",\"world\\u002fEurope\",\"world\\u002fEurope\",\"world\\u002fAsia\",\"world\\u002fAfrica\",\"world\\u002fAfrica\",\"world\\u002fEurope\",\"world\\u002fEurope\",\"world\\u002fEurope\",\"world\\u002fEurope\",\"world\\u002fAfrica\",\"world\\u002fAsia\",\"world\\u002fAfrica\",\"world\\u002fAfrica\",\"world\\u002fAmericas\",\"world\\u002fAsia\",\"world\\u002fAsia\",\"world\\u002fEurope\",\"world\\u002fAmericas\",\"world\\u002fAsia\",\"world\\u002fAfrica\",\"world\",\"world\",\"world\",\"world\",\"world\",\"\"],\"values\":[41128771.0,2775634.0,46234830.0,2780469.0,25978935.0,9042528.0,171186372.0,11669446.0,13352864.0,12224110.0,2630296.0,215313498.0,6465097.0,16767842.0,27914536.0,38929902.0,17723315.0,19603733.0,51874024.0,836774.0,5180829.0,3854000.0,1251488.0,10526073.0,5903037.0,11228821.0,18001000.0,6336392.0,1344768.0,123379924.0,5556880.0,67935660.0,2388992.0,3712502.0,84079811.0,33475870.0,10566531.0,17357886.0,13859341.0,10432860.0,9683505.0,381900.0,1417173173.0,275501339.0,5086988.0,9550600.0,58856847.0,2827377.0,125124989.0,11285869.0,19621972.0,54027487.0,1883379.0,5489739.0,5302681.0,2833000.0,650774.0,29611714.0,20405317.0,22593590.0,523417.0,4736139.0,1262523.0,127504125.0,2592477.0,3398366.0,37457971.0,32969518.0,1761985.0,30547580.0,17703090.0,5124100.0,6948392.0,26207977.0,2057679.0,5457127.0,4408581.0,6780744.0,34049588.0,37561599.0,10379007.0,18956666.0,36408820.0,17316449.0,8605718.0,2108732.0,47615034.0,10486941.0,8769741.0,65497748.0,71697030.0,8848699.0,12356117.0,333287557.0,38000000.0,9441129.0,66971411.0,3422794.0,35648100.0,16320537.0,600844082.0,971947043.0,2324464662.0,531530267.0,31103035.0,4459889089.0],\"type\":\"treemap\"}],                        {\"template\":{\"data\":{\"histogram2dcontour\":[{\"type\":\"histogram2dcontour\",\"colorbar\":{\"outlinewidth\":0,\"ticks\":\"\"},\"colorscale\":[[0.0,\"#0d0887\"],[0.1111111111111111,\"#46039f\"],[0.2222222222222222,\"#7201a8\"],[0.3333333333333333,\"#9c179e\"],[0.4444444444444444,\"#bd3786\"],[0.5555555555555556,\"#d8576b\"],[0.6666666666666666,\"#ed7953\"],[0.7777777777777778,\"#fb9f3a\"],[0.8888888888888888,\"#fdca26\"],[1.0,\"#f0f921\"]]}],\"choropleth\":[{\"type\":\"choropleth\",\"colorbar\":{\"outlinewidth\":0,\"ticks\":\"\"}}],\"histogram2d\":[{\"type\":\"histogram2d\",\"colorbar\":{\"outlinewidth\":0,\"ticks\":\"\"},\"colorscale\":[[0.0,\"#0d0887\"],[0.1111111111111111,\"#46039f\"],[0.2222222222222222,\"#7201a8\"],[0.3333333333333333,\"#9c179e\"],[0.4444444444444444,\"#bd3786\"],[0.5555555555555556,\"#d8576b\"],[0.6666666666666666,\"#ed7953\"],[0.7777777777777778,\"#fb9f3a\"],[0.8888888888888888,\"#fdca26\"],[1.0,\"#f0f921\"]]}],\"heatmap\":[{\"type\":\"heatmap\",\"colorbar\":{\"outlinewidth\":0,\"ticks\":\"\"},\"colorscale\":[[0.0,\"#0d0887\"],[0.1111111111111111,\"#46039f\"],[0.2222222222222222,\"#7201a8\"],[0.3333333333333333,\"#9c179e\"],[0.4444444444444444,\"#bd3786\"],[0.5555555555555556,\"#d8576b\"],[0.6666666666666666,\"#ed7953\"],[0.7777777777777778,\"#fb9f3a\"],[0.8888888888888888,\"#fdca26\"],[1.0,\"#f0f921\"]]}],\"heatmapgl\":[{\"type\":\"heatmapgl\",\"colorbar\":{\"outlinewidth\":0,\"ticks\":\"\"},\"colorscale\":[[0.0,\"#0d0887\"],[0.1111111111111111,\"#46039f\"],[0.2222222222222222,\"#7201a8\"],[0.3333333333333333,\"#9c179e\"],[0.4444444444444444,\"#bd3786\"],[0.5555555555555556,\"#d8576b\"],[0.6666666666666666,\"#ed7953\"],[0.7777777777777778,\"#fb9f3a\"],[0.8888888888888888,\"#fdca26\"],[1.0,\"#f0f921\"]]}],\"contourcarpet\":[{\"type\":\"contourcarpet\",\"colorbar\":{\"outlinewidth\":0,\"ticks\":\"\"}}],\"contour\":[{\"type\":\"contour\",\"colorbar\":{\"outlinewidth\":0,\"ticks\":\"\"},\"colorscale\":[[0.0,\"#0d0887\"],[0.1111111111111111,\"#46039f\"],[0.2222222222222222,\"#7201a8\"],[0.3333333333333333,\"#9c179e\"],[0.4444444444444444,\"#bd3786\"],[0.5555555555555556,\"#d8576b\"],[0.6666666666666666,\"#ed7953\"],[0.7777777777777778,\"#fb9f3a\"],[0.8888888888888888,\"#fdca26\"],[1.0,\"#f0f921\"]]}],\"surface\":[{\"type\":\"surface\",\"colorbar\":{\"outlinewidth\":0,\"ticks\":\"\"},\"colorscale\":[[0.0,\"#0d0887\"],[0.1111111111111111,\"#46039f\"],[0.2222222222222222,\"#7201a8\"],[0.3333333333333333,\"#9c179e\"],[0.4444444444444444,\"#bd3786\"],[0.5555555555555556,\"#d8576b\"],[0.6666666666666666,\"#ed7953\"],[0.7777777777777778,\"#fb9f3a\"],[0.8888888888888888,\"#fdca26\"],[1.0,\"#f0f921\"]]}],\"mesh3d\":[{\"type\":\"mesh3d\",\"colorbar\":{\"outlinewidth\":0,\"ticks\":\"\"}}],\"scatter\":[{\"fillpattern\":{\"fillmode\":\"overlay\",\"size\":10,\"solidity\":0.2},\"type\":\"scatter\"}],\"parcoords\":[{\"type\":\"parcoords\",\"line\":{\"colorbar\":{\"outlinewidth\":0,\"ticks\":\"\"}}}],\"scatterpolargl\":[{\"type\":\"scatterpolargl\",\"marker\":{\"colorbar\":{\"outlinewidth\":0,\"ticks\":\"\"}}}],\"bar\":[{\"error_x\":{\"color\":\"#2a3f5f\"},\"error_y\":{\"color\":\"#2a3f5f\"},\"marker\":{\"line\":{\"color\":\"#E5ECF6\",\"width\":0.5},\"pattern\":{\"fillmode\":\"overlay\",\"size\":10,\"solidity\":0.2}},\"type\":\"bar\"}],\"scattergeo\":[{\"type\":\"scattergeo\",\"marker\":{\"colorbar\":{\"outlinewidth\":0,\"ticks\":\"\"}}}],\"scatterpolar\":[{\"type\":\"scatterpolar\",\"marker\":{\"colorbar\":{\"outlinewidth\":0,\"ticks\":\"\"}}}],\"histogram\":[{\"marker\":{\"pattern\":{\"fillmode\":\"overlay\",\"size\":10,\"solidity\":0.2}},\"type\":\"histogram\"}],\"scattergl\":[{\"type\":\"scattergl\",\"marker\":{\"colorbar\":{\"outlinewidth\":0,\"ticks\":\"\"}}}],\"scatter3d\":[{\"type\":\"scatter3d\",\"line\":{\"colorbar\":{\"outlinewidth\":0,\"ticks\":\"\"}},\"marker\":{\"colorbar\":{\"outlinewidth\":0,\"ticks\":\"\"}}}],\"scattermapbox\":[{\"type\":\"scattermapbox\",\"marker\":{\"colorbar\":{\"outlinewidth\":0,\"ticks\":\"\"}}}],\"scatterternary\":[{\"type\":\"scatterternary\",\"marker\":{\"colorbar\":{\"outlinewidth\":0,\"ticks\":\"\"}}}],\"scattercarpet\":[{\"type\":\"scattercarpet\",\"marker\":{\"colorbar\":{\"outlinewidth\":0,\"ticks\":\"\"}}}],\"carpet\":[{\"aaxis\":{\"endlinecolor\":\"#2a3f5f\",\"gridcolor\":\"white\",\"linecolor\":\"white\",\"minorgridcolor\":\"white\",\"startlinecolor\":\"#2a3f5f\"},\"baxis\":{\"endlinecolor\":\"#2a3f5f\",\"gridcolor\":\"white\",\"linecolor\":\"white\",\"minorgridcolor\":\"white\",\"startlinecolor\":\"#2a3f5f\"},\"type\":\"carpet\"}],\"table\":[{\"cells\":{\"fill\":{\"color\":\"#EBF0F8\"},\"line\":{\"color\":\"white\"}},\"header\":{\"fill\":{\"color\":\"#C8D4E3\"},\"line\":{\"color\":\"white\"}},\"type\":\"table\"}],\"barpolar\":[{\"marker\":{\"line\":{\"color\":\"#E5ECF6\",\"width\":0.5},\"pattern\":{\"fillmode\":\"overlay\",\"size\":10,\"solidity\":0.2}},\"type\":\"barpolar\"}],\"pie\":[{\"automargin\":true,\"type\":\"pie\"}]},\"layout\":{\"autotypenumbers\":\"strict\",\"colorway\":[\"#636efa\",\"#EF553B\",\"#00cc96\",\"#ab63fa\",\"#FFA15A\",\"#19d3f3\",\"#FF6692\",\"#B6E880\",\"#FF97FF\",\"#FECB52\"],\"font\":{\"color\":\"#2a3f5f\"},\"hovermode\":\"closest\",\"hoverlabel\":{\"align\":\"left\"},\"paper_bgcolor\":\"white\",\"plot_bgcolor\":\"#E5ECF6\",\"polar\":{\"bgcolor\":\"#E5ECF6\",\"angularaxis\":{\"gridcolor\":\"white\",\"linecolor\":\"white\",\"ticks\":\"\"},\"radialaxis\":{\"gridcolor\":\"white\",\"linecolor\":\"white\",\"ticks\":\"\"}},\"ternary\":{\"bgcolor\":\"#E5ECF6\",\"aaxis\":{\"gridcolor\":\"white\",\"linecolor\":\"white\",\"ticks\":\"\"},\"baxis\":{\"gridcolor\":\"white\",\"linecolor\":\"white\",\"ticks\":\"\"},\"caxis\":{\"gridcolor\":\"white\",\"linecolor\":\"white\",\"ticks\":\"\"}},\"coloraxis\":{\"colorbar\":{\"outlinewidth\":0,\"ticks\":\"\"}},\"colorscale\":{\"sequential\":[[0.0,\"#0d0887\"],[0.1111111111111111,\"#46039f\"],[0.2222222222222222,\"#7201a8\"],[0.3333333333333333,\"#9c179e\"],[0.4444444444444444,\"#bd3786\"],[0.5555555555555556,\"#d8576b\"],[0.6666666666666666,\"#ed7953\"],[0.7777777777777778,\"#fb9f3a\"],[0.8888888888888888,\"#fdca26\"],[1.0,\"#f0f921\"]],\"sequentialminus\":[[0.0,\"#0d0887\"],[0.1111111111111111,\"#46039f\"],[0.2222222222222222,\"#7201a8\"],[0.3333333333333333,\"#9c179e\"],[0.4444444444444444,\"#bd3786\"],[0.5555555555555556,\"#d8576b\"],[0.6666666666666666,\"#ed7953\"],[0.7777777777777778,\"#fb9f3a\"],[0.8888888888888888,\"#fdca26\"],[1.0,\"#f0f921\"]],\"diverging\":[[0,\"#8e0152\"],[0.1,\"#c51b7d\"],[0.2,\"#de77ae\"],[0.3,\"#f1b6da\"],[0.4,\"#fde0ef\"],[0.5,\"#f7f7f7\"],[0.6,\"#e6f5d0\"],[0.7,\"#b8e186\"],[0.8,\"#7fbc41\"],[0.9,\"#4d9221\"],[1,\"#276419\"]]},\"xaxis\":{\"gridcolor\":\"white\",\"linecolor\":\"white\",\"ticks\":\"\",\"title\":{\"standoff\":15},\"zerolinecolor\":\"white\",\"automargin\":true,\"zerolinewidth\":2},\"yaxis\":{\"gridcolor\":\"white\",\"linecolor\":\"white\",\"ticks\":\"\",\"title\":{\"standoff\":15},\"zerolinecolor\":\"white\",\"automargin\":true,\"zerolinewidth\":2},\"scene\":{\"xaxis\":{\"backgroundcolor\":\"#E5ECF6\",\"gridcolor\":\"white\",\"linecolor\":\"white\",\"showbackground\":true,\"ticks\":\"\",\"zerolinecolor\":\"white\",\"gridwidth\":2},\"yaxis\":{\"backgroundcolor\":\"#E5ECF6\",\"gridcolor\":\"white\",\"linecolor\":\"white\",\"showbackground\":true,\"ticks\":\"\",\"zerolinecolor\":\"white\",\"gridwidth\":2},\"zaxis\":{\"backgroundcolor\":\"#E5ECF6\",\"gridcolor\":\"white\",\"linecolor\":\"white\",\"showbackground\":true,\"ticks\":\"\",\"zerolinecolor\":\"white\",\"gridwidth\":2}},\"shapedefaults\":{\"line\":{\"color\":\"#2a3f5f\"}},\"annotationdefaults\":{\"arrowcolor\":\"#2a3f5f\",\"arrowhead\":0,\"arrowwidth\":1},\"geo\":{\"bgcolor\":\"white\",\"landcolor\":\"#E5ECF6\",\"subunitcolor\":\"white\",\"showland\":true,\"showlakes\":true,\"lakecolor\":\"white\"},\"title\":{\"x\":0.05},\"mapbox\":{\"style\":\"light\"}}},\"coloraxis\":{\"colorbar\":{\"title\":{\"text\":\"Life Ladder\"}},\"colorscale\":[[0.0,\"#440154\"],[0.1111111111111111,\"#482878\"],[0.2222222222222222,\"#3e4989\"],[0.3333333333333333,\"#31688e\"],[0.4444444444444444,\"#26828e\"],[0.5555555555555556,\"#1f9e89\"],[0.6666666666666666,\"#35b779\"],[0.7777777777777778,\"#6ece58\"],[0.8888888888888888,\"#b5de2b\"],[1.0,\"#fde725\"]],\"cmid\":5.082196396154305,\"cmin\":3,\"cmax\":8},\"legend\":{\"tracegroupgap\":0},\"title\":{\"text\":\"2022\"},\"width\":700},                        {\"responsive\": true}                    ).then(function(){\n",
       "                            \n",
       "var gd = document.getElementById('8f71ce76-b971-4d93-b4cd-0d2b4e8686f6');\n",
       "var x = new MutationObserver(function (mutations, observer) {{\n",
       "        var display = window.getComputedStyle(gd).display;\n",
       "        if (!display || display === 'none') {{\n",
       "            console.log([gd, 'removed!']);\n",
       "            Plotly.purge(gd);\n",
       "            observer.disconnect();\n",
       "        }}\n",
       "}});\n",
       "\n",
       "// Listen for the removal of the full notebook cells\n",
       "var notebookContainer = gd.closest('#notebook-container');\n",
       "if (notebookContainer) {{\n",
       "    x.observe(notebookContainer, {childList: true});\n",
       "}}\n",
       "\n",
       "// Listen for the clearing of the current output cell\n",
       "var outputEl = gd.closest('.output');\n",
       "if (outputEl) {{\n",
       "    x.observe(outputEl, {childList: true});\n",
       "}}\n",
       "\n",
       "                        })                };                });            </script>        </div>"
      ]
     },
     "metadata": {},
     "output_type": "display_data"
    }
   ],
   "source": [
    "gen_treeplot(wdf, 2022)"
   ]
  },
  {
   "cell_type": "code",
   "execution_count": null,
   "id": "b5bcb522",
   "metadata": {},
   "outputs": [],
   "source": []
  }
 ],
 "metadata": {
  "kernelspec": {
   "display_name": "Python 3 (ipykernel)",
   "language": "python",
   "name": "python3"
  },
  "language_info": {
   "codemirror_mode": {
    "name": "ipython",
    "version": 3
   },
   "file_extension": ".py",
   "mimetype": "text/x-python",
   "name": "python",
   "nbconvert_exporter": "python",
   "pygments_lexer": "ipython3",
   "version": "3.10.11"
  }
 },
 "nbformat": 4,
 "nbformat_minor": 5
}
